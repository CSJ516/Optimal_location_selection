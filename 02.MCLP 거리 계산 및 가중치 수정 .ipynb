{
 "cells": [
  {
   "cell_type": "markdown",
   "metadata": {
    "toc": true
   },
   "source": [
    "<h1>Table of Contents<span class=\"tocSkip\"></span></h1>\n",
    "<div class=\"toc\"><ul class=\"toc-item\"><li><span><a href=\"#1.-데이터-로드\" data-toc-modified-id=\"1.-데이터-로드-1\">1. 데이터 로드</a></span></li><li><span><a href=\"#2.-수요지점-좌표-리스트-생성\" data-toc-modified-id=\"2.-수요지점-좌표-리스트-생성-2\">2. 수요지점 좌표 리스트 생성</a></span></li><li><span><a href=\"#3.-MCLP-구현\" data-toc-modified-id=\"3.-MCLP-구현-3\">3. MCLP 구현</a></span></li></ul></div>"
   ]
  },
  {
   "cell_type": "code",
   "execution_count": 1,
   "metadata": {},
   "outputs": [],
   "source": [
    "import numpy as np\n",
    "from scipy.spatial import distance_matrix\n",
    "from gurobipy import *\n",
    "from scipy.spatial import ConvexHull\n",
    "from shapely.geometry import Polygon, Point\n",
    "from numpy import random\n",
    "import time\n",
    "import pandas as pd\n",
    "from itertools import zip_longest   # zip 함수 길이 다를 경우\n",
    "from haversine import haversine"
   ]
  },
  {
   "cell_type": "markdown",
   "metadata": {},
   "source": [
    "## 1. 데이터 로드"
   ]
  },
  {
   "cell_type": "code",
   "execution_count": 2,
   "metadata": {},
   "outputs": [
    {
     "name": "stdout",
     "output_type": "stream",
     "text": [
      "(9, 6)\n"
     ]
    },
    {
     "data": {
      "text/html": [
       "<div>\n",
       "<style scoped>\n",
       "    .dataframe tbody tr th:only-of-type {\n",
       "        vertical-align: middle;\n",
       "    }\n",
       "\n",
       "    .dataframe tbody tr th {\n",
       "        vertical-align: top;\n",
       "    }\n",
       "\n",
       "    .dataframe thead th {\n",
       "        text-align: right;\n",
       "    }\n",
       "</style>\n",
       "<table border=\"1\" class=\"dataframe\">\n",
       "  <thead>\n",
       "    <tr style=\"text-align: right;\">\n",
       "      <th></th>\n",
       "      <th>분류</th>\n",
       "      <th>시설명</th>\n",
       "      <th>x좌표</th>\n",
       "      <th>y좌표</th>\n",
       "      <th>법정동</th>\n",
       "      <th>행정동</th>\n",
       "    </tr>\n",
       "  </thead>\n",
       "  <tbody>\n",
       "    <tr>\n",
       "      <th>0</th>\n",
       "      <td>간이운동장</td>\n",
       "      <td>돌   뫼</td>\n",
       "      <td>127.052763</td>\n",
       "      <td>37.605125</td>\n",
       "      <td>석관동</td>\n",
       "      <td>석관동</td>\n",
       "    </tr>\n",
       "    <tr>\n",
       "      <th>5</th>\n",
       "      <td>간이운동장</td>\n",
       "      <td>샛   별</td>\n",
       "      <td>127.064140</td>\n",
       "      <td>37.614111</td>\n",
       "      <td>석관동</td>\n",
       "      <td>석관동</td>\n",
       "    </tr>\n",
       "  </tbody>\n",
       "</table>\n",
       "</div>"
      ],
      "text/plain": [
       "      분류    시설명         x좌표        y좌표  법정동  행정동\n",
       "0  간이운동장  돌   뫼  127.052763  37.605125  석관동  석관동\n",
       "5  간이운동장  샛   별  127.064140  37.614111  석관동  석관동"
      ]
     },
     "execution_count": 2,
     "metadata": {},
     "output_type": "execute_result"
    }
   ],
   "source": [
    "# 석관동\n",
    "입지후보지 = pd.read_csv('./data/입지선정후보군_좌표추가.csv', encoding='EUC-KR')\n",
    "입지후보지 = 입지후보지[입지후보지['행정동'] == '석관동']\n",
    "print(입지후보지.shape)\n",
    "입지후보지.head(2)"
   ]
  },
  {
   "cell_type": "code",
   "execution_count": 3,
   "metadata": {},
   "outputs": [
    {
     "name": "stdout",
     "output_type": "stream",
     "text": [
      "(197, 7)\n"
     ]
    },
    {
     "data": {
      "text/html": [
       "<div>\n",
       "<style scoped>\n",
       "    .dataframe tbody tr th:only-of-type {\n",
       "        vertical-align: middle;\n",
       "    }\n",
       "\n",
       "    .dataframe tbody tr th {\n",
       "        vertical-align: top;\n",
       "    }\n",
       "\n",
       "    .dataframe thead th {\n",
       "        text-align: right;\n",
       "    }\n",
       "</style>\n",
       "<table border=\"1\" class=\"dataframe\">\n",
       "  <thead>\n",
       "    <tr style=\"text-align: right;\">\n",
       "      <th></th>\n",
       "      <th>정류소명</th>\n",
       "      <th>X좌표</th>\n",
       "      <th>Y좌표</th>\n",
       "      <th>정류버스수</th>\n",
       "      <th>행정동</th>\n",
       "      <th>행정동_경도</th>\n",
       "      <th>행정동_위도</th>\n",
       "    </tr>\n",
       "  </thead>\n",
       "  <tbody>\n",
       "    <tr>\n",
       "      <th>120</th>\n",
       "      <td>석계역</td>\n",
       "      <td>127.067231</td>\n",
       "      <td>37.615065</td>\n",
       "      <td>25</td>\n",
       "      <td>석관동</td>\n",
       "      <td>127.061437</td>\n",
       "      <td>37.612982</td>\n",
       "    </tr>\n",
       "    <tr>\n",
       "      <th>149</th>\n",
       "      <td>한진한화그랑빌아파트</td>\n",
       "      <td>127.069914</td>\n",
       "      <td>37.618255</td>\n",
       "      <td>23</td>\n",
       "      <td>월계3동</td>\n",
       "      <td>127.069259</td>\n",
       "      <td>37.621015</td>\n",
       "    </tr>\n",
       "  </tbody>\n",
       "</table>\n",
       "</div>"
      ],
      "text/plain": [
       "           정류소명         X좌표        Y좌표  정류버스수   행정동      행정동_경도     행정동_위도\n",
       "120         석계역  127.067231  37.615065     25   석관동  127.061437  37.612982\n",
       "149  한진한화그랑빌아파트  127.069914  37.618255     23  월계3동  127.069259  37.621015"
      ]
     },
     "execution_count": 3,
     "metadata": {},
     "output_type": "execute_result"
    }
   ],
   "source": [
    "버스 = pd.read_csv('./data/서울시_버스정류장_행정동추가.csv')\n",
    "버스 = 버스[버스['행정동'].isin(['석관동','월곡2동','회기동','이문1동','이문2동','묵2동','공릉1동',\\\n",
    "                                 '월계3동','월계1동','장위1동','장위2동','장위3동'])]\n",
    "print(버스.shape)\n",
    "버스.head(2)"
   ]
  },
  {
   "cell_type": "code",
   "execution_count": 4,
   "metadata": {},
   "outputs": [
    {
     "name": "stdout",
     "output_type": "stream",
     "text": [
      "(12, 14)\n"
     ]
    },
    {
     "data": {
      "text/html": [
       "<div>\n",
       "<style scoped>\n",
       "    .dataframe tbody tr th:only-of-type {\n",
       "        vertical-align: middle;\n",
       "    }\n",
       "\n",
       "    .dataframe tbody tr th {\n",
       "        vertical-align: top;\n",
       "    }\n",
       "\n",
       "    .dataframe thead th {\n",
       "        text-align: right;\n",
       "    }\n",
       "</style>\n",
       "<table border=\"1\" class=\"dataframe\">\n",
       "  <thead>\n",
       "    <tr style=\"text-align: right;\">\n",
       "      <th></th>\n",
       "      <th>전철역코드</th>\n",
       "      <th>전철역명</th>\n",
       "      <th>전철명명(영문)</th>\n",
       "      <th>호선</th>\n",
       "      <th>외부코드</th>\n",
       "      <th>검색키워드</th>\n",
       "      <th>주소</th>\n",
       "      <th>위도</th>\n",
       "      <th>경도</th>\n",
       "      <th>환승역</th>\n",
       "      <th>H/B</th>\n",
       "      <th>행정동</th>\n",
       "      <th>행정동_경도</th>\n",
       "      <th>행정동_위도</th>\n",
       "    </tr>\n",
       "  </thead>\n",
       "  <tbody>\n",
       "    <tr>\n",
       "      <th>164</th>\n",
       "      <td>2642</td>\n",
       "      <td>월곡역</td>\n",
       "      <td>Wolgok</td>\n",
       "      <td>6호선</td>\n",
       "      <td>641</td>\n",
       "      <td>월곡역 6호선</td>\n",
       "      <td>서울 성북구 월곡로 지하 107</td>\n",
       "      <td>37.601421</td>\n",
       "      <td>127.041185</td>\n",
       "      <td>0</td>\n",
       "      <td>H</td>\n",
       "      <td>월곡2동</td>\n",
       "      <td>127.047886</td>\n",
       "      <td>37.605792</td>\n",
       "    </tr>\n",
       "    <tr>\n",
       "      <th>165</th>\n",
       "      <td>2643</td>\n",
       "      <td>상월곡역</td>\n",
       "      <td>Sangwolgok</td>\n",
       "      <td>6호선</td>\n",
       "      <td>642</td>\n",
       "      <td>상월곡역 6호선</td>\n",
       "      <td>서울 성북구 화랑로 지하 157</td>\n",
       "      <td>37.606264</td>\n",
       "      <td>127.048327</td>\n",
       "      <td>0</td>\n",
       "      <td>H</td>\n",
       "      <td>월곡2동</td>\n",
       "      <td>127.047886</td>\n",
       "      <td>37.605792</td>\n",
       "    </tr>\n",
       "  </tbody>\n",
       "</table>\n",
       "</div>"
      ],
      "text/plain": [
       "    전철역코드  전철역명    전철명명(영문)   호선 외부코드     검색키워드                 주소         위도  \\\n",
       "164  2642   월곡역      Wolgok  6호선  641   월곡역 6호선  서울 성북구 월곡로 지하 107  37.601421   \n",
       "165  2643  상월곡역  Sangwolgok  6호선  642  상월곡역 6호선  서울 성북구 화랑로 지하 157  37.606264   \n",
       "\n",
       "             경도  환승역 H/B   행정동      행정동_경도     행정동_위도  \n",
       "164  127.041185    0   H  월곡2동  127.047886  37.605792  \n",
       "165  127.048327    0   H  월곡2동  127.047886  37.605792  "
      ]
     },
     "execution_count": 4,
     "metadata": {},
     "output_type": "execute_result"
    }
   ],
   "source": [
    "지하철 = pd.read_csv('./data/서울시_지하철역_행정동추가.csv', encoding='EUC-KR', index_col=0)\n",
    "지하철 = 지하철[지하철['행정동'].isin(['석관동','월곡2동','회기동','이문1동','이문2동','묵2동','공릉1동',\\\n",
    "                                       '월계3동','월계1동','장위1동','장위2동','장위3동'])]\n",
    "print(지하철.shape)\n",
    "지하철.head(2)"
   ]
  },
  {
   "cell_type": "code",
   "execution_count": 5,
   "metadata": {},
   "outputs": [
    {
     "name": "stdout",
     "output_type": "stream",
     "text": [
      "(27, 9)\n"
     ]
    },
    {
     "data": {
      "text/html": [
       "<div>\n",
       "<style scoped>\n",
       "    .dataframe tbody tr th:only-of-type {\n",
       "        vertical-align: middle;\n",
       "    }\n",
       "\n",
       "    .dataframe tbody tr th {\n",
       "        vertical-align: top;\n",
       "    }\n",
       "\n",
       "    .dataframe thead th {\n",
       "        text-align: right;\n",
       "    }\n",
       "</style>\n",
       "<table border=\"1\" class=\"dataframe\">\n",
       "  <thead>\n",
       "    <tr style=\"text-align: right;\">\n",
       "      <th></th>\n",
       "      <th>주차장id</th>\n",
       "      <th>주차장이름</th>\n",
       "      <th>주소</th>\n",
       "      <th>경도</th>\n",
       "      <th>위도</th>\n",
       "      <th>H/B</th>\n",
       "      <th>행정동</th>\n",
       "      <th>행정동_경도</th>\n",
       "      <th>행정동_위도</th>\n",
       "    </tr>\n",
       "  </thead>\n",
       "  <tbody>\n",
       "    <tr>\n",
       "      <th>331</th>\n",
       "      <td>26535897</td>\n",
       "      <td>회기동공영주차장</td>\n",
       "      <td>서울 동대문구 회기동 1-1</td>\n",
       "      <td>127.055785</td>\n",
       "      <td>37.591502</td>\n",
       "      <td>H</td>\n",
       "      <td>회기동</td>\n",
       "      <td>127.055372</td>\n",
       "      <td>37.590789</td>\n",
       "    </tr>\n",
       "    <tr>\n",
       "      <th>332</th>\n",
       "      <td>2085355453</td>\n",
       "      <td>회기동공영주차장 전기차충전소</td>\n",
       "      <td>서울 동대문구 이문동 340-1</td>\n",
       "      <td>127.055959</td>\n",
       "      <td>37.591342</td>\n",
       "      <td>H</td>\n",
       "      <td>회기동</td>\n",
       "      <td>127.055372</td>\n",
       "      <td>37.590789</td>\n",
       "    </tr>\n",
       "  </tbody>\n",
       "</table>\n",
       "</div>"
      ],
      "text/plain": [
       "          주차장id            주차장이름                 주소          경도         위도  \\\n",
       "331    26535897         회기동공영주차장    서울 동대문구 회기동 1-1  127.055785  37.591502   \n",
       "332  2085355453  회기동공영주차장 전기차충전소  서울 동대문구 이문동 340-1  127.055959  37.591342   \n",
       "\n",
       "    H/B  행정동      행정동_경도     행정동_위도  \n",
       "331   H  회기동  127.055372  37.590789  \n",
       "332   H  회기동  127.055372  37.590789  "
      ]
     },
     "execution_count": 5,
     "metadata": {},
     "output_type": "execute_result"
    }
   ],
   "source": [
    "주차장 = pd.read_csv('./data/서울시_주차장_행정동추가.csv', encoding='EUC-KR', index_col=0).drop('Unnamed: 0.1', axis=1)\n",
    "주차장 = 주차장[주차장['행정동'].isin(['석관동','월곡2동','회기동','이문1동','이문2동','묵2동','공릉1동',\\\n",
    "                                       '월계3동','월계1동','장위1동','장위2동','장위3동'])]\n",
    "print(주차장.shape)\n",
    "주차장.head(2)"
   ]
  },
  {
   "cell_type": "code",
   "execution_count": 21,
   "metadata": {},
   "outputs": [
    {
     "name": "stdout",
     "output_type": "stream",
     "text": [
      "(18, 12)\n"
     ]
    },
    {
     "data": {
      "text/html": [
       "<div>\n",
       "<style scoped>\n",
       "    .dataframe tbody tr th:only-of-type {\n",
       "        vertical-align: middle;\n",
       "    }\n",
       "\n",
       "    .dataframe tbody tr th {\n",
       "        vertical-align: top;\n",
       "    }\n",
       "\n",
       "    .dataframe thead th {\n",
       "        text-align: right;\n",
       "    }\n",
       "</style>\n",
       "<table border=\"1\" class=\"dataframe\">\n",
       "  <thead>\n",
       "    <tr style=\"text-align: right;\">\n",
       "      <th></th>\n",
       "      <th>구명</th>\n",
       "      <th>단지명</th>\n",
       "      <th>주택유형</th>\n",
       "      <th>세대수</th>\n",
       "      <th>주소</th>\n",
       "      <th>우편번호</th>\n",
       "      <th>경도</th>\n",
       "      <th>위도</th>\n",
       "      <th>H/B</th>\n",
       "      <th>행정동</th>\n",
       "      <th>행정동_경도</th>\n",
       "      <th>행정동_위도</th>\n",
       "    </tr>\n",
       "  </thead>\n",
       "  <tbody>\n",
       "    <tr>\n",
       "      <th>157</th>\n",
       "      <td>노원구</td>\n",
       "      <td>공릉1</td>\n",
       "      <td>영구임대</td>\n",
       "      <td>1395</td>\n",
       "      <td>동일로 1127 (공릉동 공릉1단지아파트)</td>\n",
       "      <td>1851</td>\n",
       "      <td>127.069855</td>\n",
       "      <td>37.629590</td>\n",
       "      <td>H</td>\n",
       "      <td>공릉1동</td>\n",
       "      <td>127.073821</td>\n",
       "      <td>37.624836</td>\n",
       "    </tr>\n",
       "    <tr>\n",
       "      <th>158</th>\n",
       "      <td>노원구</td>\n",
       "      <td>월계사슴1</td>\n",
       "      <td>영구임대</td>\n",
       "      <td>1372</td>\n",
       "      <td>월계로 372 (월계동 월계사슴1단지아파트)</td>\n",
       "      <td>1905</td>\n",
       "      <td>127.059664</td>\n",
       "      <td>37.629247</td>\n",
       "      <td>H</td>\n",
       "      <td>월계3동</td>\n",
       "      <td>127.069259</td>\n",
       "      <td>37.621015</td>\n",
       "    </tr>\n",
       "  </tbody>\n",
       "</table>\n",
       "</div>"
      ],
      "text/plain": [
       "      구명    단지명  주택유형   세대수                        주소  우편번호          경도  \\\n",
       "157  노원구    공릉1  영구임대  1395   동일로 1127 (공릉동 공릉1단지아파트)  1851  127.069855   \n",
       "158  노원구  월계사슴1  영구임대  1372  월계로 372 (월계동 월계사슴1단지아파트)  1905  127.059664   \n",
       "\n",
       "            위도 H/B   행정동      행정동_경도     행정동_위도  \n",
       "157  37.629590   H  공릉1동  127.073821  37.624836  \n",
       "158  37.629247   H  월계3동  127.069259  37.621015  "
      ]
     },
     "execution_count": 21,
     "metadata": {},
     "output_type": "execute_result"
    }
   ],
   "source": [
    "주택 = pd.read_csv('./data/서울시_주택_행정동추가.csv', encoding='EUC-KR')\n",
    "주택 = 주택[주택['행정동'].isin(['석관동','월곡2동','회기동','이문1동','이문2동','묵2동','공릉1동',\\\n",
    "                                 '월계3동','월계1동','장위1동','장위2동','장위3동'])]\n",
    "print(주택.shape)\n",
    "주택.head(2)"
   ]
  },
  {
   "cell_type": "markdown",
   "metadata": {},
   "source": [
    "## 2. 수요지점 좌표 리스트 생성"
   ]
  },
  {
   "cell_type": "code",
   "execution_count": 8,
   "metadata": {},
   "outputs": [
    {
     "name": "stdout",
     "output_type": "stream",
     "text": [
      "(197, 2)\n"
     ]
    },
    {
     "data": {
      "text/plain": [
       "array([[127.06723071,  37.61506526],\n",
       "       [127.069914  ,  37.61825517]])"
      ]
     },
     "execution_count": 8,
     "metadata": {},
     "output_type": "execute_result"
    }
   ],
   "source": [
    "버스_points = np.array([list(i) for i in zip(버스['X좌표'], 버스['Y좌표'])])\n",
    "print(버스_points.shape)\n",
    "버스_points[:2]"
   ]
  },
  {
   "cell_type": "code",
   "execution_count": 9,
   "metadata": {},
   "outputs": [
    {
     "name": "stdout",
     "output_type": "stream",
     "text": [
      "(12, 2)\n"
     ]
    },
    {
     "data": {
      "text/plain": [
       "array([[127.04118477,  37.60142105],\n",
       "       [127.04832662,  37.60626414]])"
      ]
     },
     "execution_count": 9,
     "metadata": {},
     "output_type": "execute_result"
    }
   ],
   "source": [
    "지하철_points = np.array([list(i) for i in zip(지하철['경도'], 지하철['위도'])])\n",
    "print(지하철_points.shape)\n",
    "지하철_points[:2]"
   ]
  },
  {
   "cell_type": "code",
   "execution_count": 10,
   "metadata": {
    "scrolled": true
   },
   "outputs": [
    {
     "name": "stdout",
     "output_type": "stream",
     "text": [
      "(27, 2)\n"
     ]
    },
    {
     "data": {
      "text/plain": [
       "array([[127.05578514,  37.59150199],\n",
       "       [127.05595939,  37.59134243]])"
      ]
     },
     "execution_count": 10,
     "metadata": {},
     "output_type": "execute_result"
    }
   ],
   "source": [
    "주차장_points = np.array([list(i) for i in zip(주차장['경도'], 주차장['위도'])])\n",
    "print(주차장_points.shape)\n",
    "주차장_points[:2]"
   ]
  },
  {
   "cell_type": "code",
   "execution_count": 12,
   "metadata": {
    "scrolled": true
   },
   "outputs": [
    {
     "name": "stdout",
     "output_type": "stream",
     "text": [
      "(18, 2)\n"
     ]
    },
    {
     "data": {
      "text/plain": [
       "array([[127.0698548 ,  37.62958967],\n",
       "       [127.0596641 ,  37.62924721]])"
      ]
     },
     "execution_count": 12,
     "metadata": {},
     "output_type": "execute_result"
    }
   ],
   "source": [
    "주택_points = np.array([list(i) for i in zip(주택['경도'], 주택['위도'])])\n",
    "print(주택_points.shape)\n",
    "주택_points[:2]"
   ]
  },
  {
   "cell_type": "code",
   "execution_count": 13,
   "metadata": {},
   "outputs": [
    {
     "data": {
      "text/plain": [
       "[127.06723070700001, 127.0699139994]"
      ]
     },
     "execution_count": 13,
     "metadata": {},
     "output_type": "execute_result"
    }
   ],
   "source": [
    "X = list(버스['X좌표']) + list(지하철['경도']) + list(주차장['경도']) + list(주택['경도'])\n",
    "X[:2]"
   ]
  },
  {
   "cell_type": "code",
   "execution_count": 14,
   "metadata": {},
   "outputs": [
    {
     "data": {
      "text/plain": [
       "[37.6150652627, 37.6182551734]"
      ]
     },
     "execution_count": 14,
     "metadata": {},
     "output_type": "execute_result"
    }
   ],
   "source": [
    "Y = list(버스['Y좌표']) + list(지하철['위도']) + list(주차장['위도']) + list(주택['위도'])\n",
    "Y[:2]"
   ]
  },
  {
   "cell_type": "code",
   "execution_count": 15,
   "metadata": {},
   "outputs": [
    {
     "name": "stdout",
     "output_type": "stream",
     "text": [
      "(254, 2)\n"
     ]
    },
    {
     "data": {
      "text/plain": [
       "array([[127.06723071,  37.61506526],\n",
       "       [127.069914  ,  37.61825517]])"
      ]
     },
     "execution_count": 15,
     "metadata": {},
     "output_type": "execute_result"
    }
   ],
   "source": [
    "points = np.array([list(i) for i in zip(X, Y)])\n",
    "print(points.shape)\n",
    "points[:2]"
   ]
  },
  {
   "cell_type": "markdown",
   "metadata": {},
   "source": [
    "## 3. MCLP 구현\n",
    "\n",
    "- 반경을 m 단위로 조절하기 위해 haversine 라이브러리를 활용하여 거리 계산\n",
    "\n",
    "\n",
    "- 수요지점별 개수의 불균형 해소를 위해 가중치를 부여할 수 있도록 목적함수 수정"
   ]
  },
  {
   "cell_type": "code",
   "execution_count": 16,
   "metadata": {},
   "outputs": [],
   "source": [
    "def mclp(버스_points, 지하철_points, 주차장_points, 주택_points, points, K, radius):\n",
    "    \"\"\"\n",
    "    Solve maximum covering location problem\n",
    "    Input:\n",
    "        points: 수요지점 좌표 (기타 인근에 있으면 좋은 시설 좌표)\n",
    "        K: 배치할 노인놀이터의 수\n",
    "        radius: 반경 (노인들이 이동하기 적합한 거리)\n",
    "    Return:\n",
    "        opt_sites: locations K optimal sites, Numpy array in shape of [K,2]\n",
    "        f: the optimal value of the objective function\n",
    "    \"\"\"\n",
    "    print('  Number of points %g' % points.shape[0])\n",
    "    print('  K %g' % K)\n",
    "    print('  Radius %g' % radius)\n",
    "\n",
    "    start = time.time()\n",
    "    sites = np.array([list(i) for i in zip(입지후보지['x좌표'], 입지후보지['y좌표'])])\n",
    "    J = sites.shape[0]\n",
    "    \n",
    "    # 수요지점 수\n",
    "    A = 버스_points.shape[0]\n",
    "    B = 지하철_points.shape[0]\n",
    "    C = 주차장_points.shape[0]\n",
    "    D = 주택_points.shape[0]\n",
    "    \n",
    "    # 입지후보지와 수요지점 간 거리 계산 (haversine으로 수정)\n",
    "    D1 = []\n",
    "    for i in 버스_points:\n",
    "        site = []\n",
    "        for j in sites:\n",
    "            site.append(haversine(i, j)*1000)     # 단위를 m로 변경하기 위해 *1000\n",
    "        D1.append(site)\n",
    "    D1 = np.array(D1)\n",
    "    \n",
    "    D2 = []\n",
    "    for i in 지하철_points:\n",
    "        site = []\n",
    "        for j in sites:\n",
    "            site.append(haversine(i, j)*1000)\n",
    "        D2.append(site)\n",
    "    D2 = np.array(D2)    \n",
    "    \n",
    "    D3 = []\n",
    "    for i in 주차장_points:\n",
    "        site = []\n",
    "        for j in sites:\n",
    "            site.append(haversine(i, j)*1000)\n",
    "        D3.append(site)\n",
    "    D3 = np.array(D3)\n",
    "    \n",
    "    D4 = []\n",
    "    for i in 주택_points:\n",
    "        site = []\n",
    "        for j in sites:\n",
    "            site.append(haversine(i, j)*1000)\n",
    "        D4.append(site)\n",
    "    D4 = np.array(D4)\n",
    "    \n",
    "    for i in [D1, D2, D3, D4]:\n",
    "        mask1 = i<=radius\n",
    "        i[mask1]=1                                         \n",
    "        i[~mask1]=0\n",
    "\n",
    "    m = Model()\n",
    "    x1, x2, x3, x4 = {}, {}, {}, {}\n",
    "    y = {}\n",
    "    \n",
    "    # 수요지점 변수 추가\n",
    "    for i in range(A):                                       \n",
    "        x1[i] = m.addVar(vtype=GRB.BINARY, name=\"x1%d\" % i)\n",
    "    for i in range(B):                                       \n",
    "        x2[i] = m.addVar(vtype=GRB.BINARY, name=\"x2%d\" % i)\n",
    "    for i in range(C):                                       \n",
    "        x3[i] = m.addVar(vtype=GRB.BINARY, name=\"x3%d\" % i)\n",
    "    for i in range(D):                                       \n",
    "        x4[i] = m.addVar(vtype=GRB.BINARY, name=\"x4%d\" % i)\n",
    "    \n",
    "    # 입지후보지 변수 추가\n",
    "    for j in range(J):\n",
    "        y[j] = m.addVar(vtype=GRB.BINARY, name=\"y%d\" % j)\n",
    "\n",
    "    m.update()\n",
    "    m.addConstr(quicksum(y[j] for j in range(J)) == K)\n",
    "\n",
    "    # 수요지점 제약 조건\n",
    "    for i in range(A): \n",
    "        m.addConstr(quicksum(y[j] for j in np.where(D1[i]==1)[0]) >= x1[i])\n",
    "    for i in range(B): \n",
    "        m.addConstr(quicksum(y[j] for j in np.where(D2[i]==1)[0]) >= x2[i])\n",
    "    for i in range(C): \n",
    "        m.addConstr(quicksum(y[j] for j in np.where(D3[i]==1)[0]) >= x3[i])\n",
    "    for i in range(D): \n",
    "        m.addConstr(quicksum(y[j] for j in np.where(D4[i]==1)[0]) >= x4[i])\n",
    "\n",
    "    # 목적함수 수정\n",
    "    m.setObjective(quicksum(i for i in [1*x1[a] for a in range(A)] + [1*x2[b] for b in range(B)] + [1*x3[c] for c in range(C)] + [1*x4[d] for d in range(D)]),\\\n",
    "                   GRB.MAXIMIZE)     # 1 대신 가중치 입력\n",
    "    \n",
    "    m.setParam('OutputFlag', 0)\n",
    "    m.optimize()\n",
    "    end = time.time()\n",
    "    print('----- Output -----')\n",
    "    print('  Running time : %s seconds' % float(end-start))\n",
    "    print('  Optimal coverage points: %g' % m.objVal)\n",
    "    \n",
    "    solution = []\n",
    "    if m.status == GRB.Status.OPTIMAL:\n",
    "        for v in m.getVars():\n",
    "            if v.x==1 and v.varName[0]==\"y\":\n",
    "                solution.append(int(v.varName[1:]))\n",
    "    opt_sites = sites[solution]\n",
    "    return opt_sites,m.objVal"
   ]
  },
  {
   "cell_type": "code",
   "execution_count": 17,
   "metadata": {},
   "outputs": [
    {
     "name": "stdout",
     "output_type": "stream",
     "text": [
      "  Number of points 254\n",
      "  K 3\n",
      "  Radius 300\n",
      "Restricted license - for non-production use only - expires 2022-01-13\n",
      "----- Output -----\n",
      "  Running time : 0.0713505744934082 seconds\n",
      "  Optimal coverage points: 26\n"
     ]
    },
    {
     "data": {
      "text/plain": [
       "array([[127.052763,  37.605125],\n",
       "       [127.063579,  37.614357],\n",
       "       [127.054559,  37.608453]])"
      ]
     },
     "execution_count": 17,
     "metadata": {},
     "output_type": "execute_result"
    }
   ],
   "source": [
    "opts_sites, mobjVal = mclp(버스_points, 지하철_points, 주차장_points, 주택_points, points, 3, 300)\n",
    "opts_sites"
   ]
  },
  {
   "cell_type": "code",
   "execution_count": 18,
   "metadata": {},
   "outputs": [],
   "source": [
    "def plot_input(points):\n",
    "    '''\n",
    "    Plot the result\n",
    "    Input:\n",
    "        points: input points, Numpy array in shape of [N,2]\n",
    "        opt_sites: locations K optimal sites, Numpy array in shape of [K,2]\n",
    "        radius: the radius of circle\n",
    "    '''\n",
    "    from matplotlib import pyplot as plt\n",
    "    fig = plt.figure(figsize=(8,8))\n",
    "    plt.scatter(points[:,0],points[:,1],c='C0')\n",
    "    ax = plt.gca()\n",
    "    ax.axis('equal')\n",
    "    ax.tick_params(axis='both',left=False, top=False, right=False,\n",
    "                       bottom=False, labelleft=False, labeltop=False,\n",
    "                       labelright=False, labelbottom=False)"
   ]
  },
  {
   "cell_type": "code",
   "execution_count": 19,
   "metadata": {},
   "outputs": [],
   "source": [
    "def plot_result(points,opt_sites,radius):\n",
    "    '''\n",
    "    Plot the result\n",
    "    Input:\n",
    "        points: input points, Numpy array in shape of [N,2]\n",
    "        opt_sites: locations K optimal sites, Numpy array in shape of [K,2]\n",
    "        radius: the radius of circle\n",
    "    '''\n",
    "    from matplotlib import pyplot as plt\n",
    "    fig = plt.figure(figsize=(8,8))\n",
    "    plt.scatter(points[:,0],points[:,1],c='C0')\n",
    "    ax = plt.gca()\n",
    "    plt.scatter(opt_sites[:,0],opt_sites[:,1],c='C1',marker='+')\n",
    "    for site in opt_sites:\n",
    "        circle = plt.Circle(site, radius, color='C1',fill=False,lw=2)\n",
    "        ax.add_artist(circle)\n",
    "    ax.axis('equal')\n",
    "    ax.tick_params(axis='both',left=False, top=False, right=False,\n",
    "                       bottom=False, labelleft=False, labeltop=False,\n",
    "                       labelright=False, labelbottom=False)"
   ]
  },
  {
   "cell_type": "code",
   "execution_count": 20,
   "metadata": {
    "scrolled": false
   },
   "outputs": [
    {
     "data": {
      "image/png": "[encoded data removed]",
      "text/plain": [
       "<Figure size 576x576 with 1 Axes>"
      ]
     },
     "metadata": {},
     "output_type": "display_data"
    }
   ],
   "source": [
    "plot_result(points, opts_sites, 0.0027)"
   ]
  },
  {
   "cell_type": "code",
   "execution_count": null,
   "metadata": {},
   "outputs": [],
   "source": []
  }
 ],
 "metadata": {
  "kernelspec": {
   "display_name": "Python 3",
   "language": "python",
   "name": "python3"
  },
  "language_info": {
   "codemirror_mode": {
    "name": "ipython",
    "version": 3
   },
   "file_extension": ".py",
   "mimetype": "text/x-python",
   "name": "python",
   "nbconvert_exporter": "python",
   "pygments_lexer": "ipython3",
   "version": "3.8.3"
  },
  "toc": {
   "base_numbering": 1,
   "nav_menu": {},
   "number_sections": false,
   "sideBar": false,
   "skip_h1_title": false,
   "title_cell": "Table of Contents",
   "title_sidebar": "Contents",
   "toc_cell": true,
   "toc_position": {},
   "toc_section_display": true,
   "toc_window_display": false
  }
 },
 "nbformat": 4,
 "nbformat_minor": 5
}
