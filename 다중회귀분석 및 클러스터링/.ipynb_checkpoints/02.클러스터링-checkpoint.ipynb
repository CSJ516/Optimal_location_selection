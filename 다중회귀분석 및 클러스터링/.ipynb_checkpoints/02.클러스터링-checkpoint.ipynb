{
 "cells": [
  {
   "cell_type": "markdown",
   "metadata": {
    "toc": true
   },
   "source": [
    "<h1>Table of Contents<span class=\"tocSkip\"></span></h1>\n",
    "<div class=\"toc\"><ul class=\"toc-item\"><li><span><a href=\"#1.-데이터-로드\" data-toc-modified-id=\"1.-데이터-로드-1\">1. 데이터 로드</a></span></li><li><span><a href=\"#2.-PCA\" data-toc-modified-id=\"2.-PCA-2\">2. PCA</a></span></li><li><span><a href=\"#3.-K-means\" data-toc-modified-id=\"3.-K-means-3\">3. K-means</a></span></li><li><span><a href=\"#4.-Hierachical\" data-toc-modified-id=\"4.-Hierachical-4\">4. Hierachical</a></span></li><li><span><a href=\"#5.-meanshift\" data-toc-modified-id=\"5.-meanshift-5\">5. meanshift</a></span></li><li><span><a href=\"#6.-ranking-선정\" data-toc-modified-id=\"6.-ranking-선정-6\">6. ranking 선정</a></span></li></ul></div>"
   ]
  },
  {
   "cell_type": "code",
   "execution_count": 1,
   "metadata": {
    "id": "HlN67rMABqa-"
   },
   "outputs": [],
   "source": [
    "import numpy as np\n",
    "import pandas as pd\n",
    "import matplotlib.pyplot as plt\n",
    "plt.rcParams['font.family'] = 'Malgun Gothic'\n",
    "\n",
    "import warnings\n",
    "warnings.filterwarnings('ignore')"
   ]
  },
  {
   "cell_type": "markdown",
   "metadata": {},
   "source": [
    "# 1. 데이터 로드"
   ]
  },
  {
   "cell_type": "code",
   "execution_count": 29,
   "metadata": {
    "colab": {
     "base_uri": "https://localhost:8080/",
     "height": 418
    },
    "executionInfo": {
     "elapsed": 560,
     "status": "ok",
     "timestamp": 1629102250760,
     "user": {
      "displayName": "유시은",
      "photoUrl": "https://lh3.googleusercontent.com/a-/AOh14GiINDuzaV-cAv9Kwf1Htu_t0-56HkcKTbbDUSDg=s64",
      "userId": "14794011926463584766"
     },
     "user_tz": -540
    },
    "id": "U-keDx_EBuqY",
    "outputId": "422ebc3f-1754-496c-de2c-22cfd410c739"
   },
   "outputs": [
    {
     "data": {
      "text/html": [
       "<div>\n",
       "<style scoped>\n",
       "    .dataframe tbody tr th:only-of-type {\n",
       "        vertical-align: middle;\n",
       "    }\n",
       "\n",
       "    .dataframe tbody tr th {\n",
       "        vertical-align: top;\n",
       "    }\n",
       "\n",
       "    .dataframe thead th {\n",
       "        text-align: right;\n",
       "    }\n",
       "</style>\n",
       "<table border=\"1\" class=\"dataframe\">\n",
       "  <thead>\n",
       "    <tr style=\"text-align: right;\">\n",
       "      <th></th>\n",
       "      <th>행정동코드</th>\n",
       "      <th>읍면동코드</th>\n",
       "      <th>자치행정동</th>\n",
       "      <th>자치구</th>\n",
       "      <th>행정동</th>\n",
       "      <th>거주인구수</th>\n",
       "      <th>낮생활인구비율</th>\n",
       "      <th>총노인시설수</th>\n",
       "      <th>접근성지표</th>\n",
       "      <th>이용편리지표</th>\n",
       "    </tr>\n",
       "  </thead>\n",
       "  <tbody>\n",
       "    <tr>\n",
       "      <th>0</th>\n",
       "      <td>11110530</td>\n",
       "      <td>1101053</td>\n",
       "      <td>종로구 사직동</td>\n",
       "      <td>종로구</td>\n",
       "      <td>사직동</td>\n",
       "      <td>1834</td>\n",
       "      <td>0.042984</td>\n",
       "      <td>0</td>\n",
       "      <td>10.845083</td>\n",
       "      <td>30.0</td>\n",
       "    </tr>\n",
       "    <tr>\n",
       "      <th>1</th>\n",
       "      <td>11110540</td>\n",
       "      <td>1101054</td>\n",
       "      <td>종로구 삼청동</td>\n",
       "      <td>종로구</td>\n",
       "      <td>삼청동</td>\n",
       "      <td>641</td>\n",
       "      <td>0.047104</td>\n",
       "      <td>2</td>\n",
       "      <td>2.304008</td>\n",
       "      <td>5.0</td>\n",
       "    </tr>\n",
       "    <tr>\n",
       "      <th>2</th>\n",
       "      <td>11110550</td>\n",
       "      <td>1101055</td>\n",
       "      <td>종로구 부암동</td>\n",
       "      <td>종로구</td>\n",
       "      <td>부암동</td>\n",
       "      <td>1763</td>\n",
       "      <td>0.064248</td>\n",
       "      <td>1</td>\n",
       "      <td>7.574081</td>\n",
       "      <td>2.5</td>\n",
       "    </tr>\n",
       "  </tbody>\n",
       "</table>\n",
       "</div>"
      ],
      "text/plain": [
       "      행정동코드    읍면동코드    자치행정동  자치구  행정동  거주인구수   낮생활인구비율  총노인시설수      접근성지표  \\\n",
       "0  11110530  1101053  종로구 사직동  종로구  사직동   1834  0.042984       0  10.845083   \n",
       "1  11110540  1101054  종로구 삼청동  종로구  삼청동    641  0.047104       2   2.304008   \n",
       "2  11110550  1101055  종로구 부암동  종로구  부암동   1763  0.064248       1   7.574081   \n",
       "\n",
       "   이용편리지표  \n",
       "0    30.0  \n",
       "1     5.0  \n",
       "2     2.5  "
      ]
     },
     "execution_count": 29,
     "metadata": {},
     "output_type": "execute_result"
    }
   ],
   "source": [
    "hjd_df = pd.read_csv('./data/클러스터링데이터.csv', encoding='cp949')\n",
    "hjd_df.head(3)"
   ]
  },
  {
   "cell_type": "code",
   "execution_count": 30,
   "metadata": {
    "colab": {
     "base_uri": "https://localhost:8080/"
    },
    "executionInfo": {
     "elapsed": 15,
     "status": "ok",
     "timestamp": 1629102250761,
     "user": {
      "displayName": "유시은",
      "photoUrl": "https://lh3.googleusercontent.com/a-/AOh14GiINDuzaV-cAv9Kwf1Htu_t0-56HkcKTbbDUSDg=s64",
      "userId": "14794011926463584766"
     },
     "user_tz": -540
    },
    "id": "JK9I2zOtSpC9",
    "outputId": "74597e35-8ecd-46d5-f202-bdd3cd3a630b"
   },
   "outputs": [
    {
     "data": {
      "text/plain": [
       "행정동코드      0\n",
       "읍면동코드      0\n",
       "자치행정동      0\n",
       "자치구        0\n",
       "행정동        0\n",
       "거주인구수      0\n",
       "낮생활인구비율    0\n",
       "총노인시설수     0\n",
       "접근성지표      0\n",
       "이용편리지표     0\n",
       "dtype: int64"
      ]
     },
     "execution_count": 30,
     "metadata": {},
     "output_type": "execute_result"
    }
   ],
   "source": [
    "# 결측값 확인\n",
    "hjd_df.isnull().sum()"
   ]
  },
  {
   "cell_type": "code",
   "execution_count": 31,
   "metadata": {
    "colab": {
     "base_uri": "https://localhost:8080/",
     "height": 482
    },
    "executionInfo": {
     "elapsed": 10,
     "status": "ok",
     "timestamp": 1629102250762,
     "user": {
      "displayName": "유시은",
      "photoUrl": "https://lh3.googleusercontent.com/a-/AOh14GiINDuzaV-cAv9Kwf1Htu_t0-56HkcKTbbDUSDg=s64",
      "userId": "14794011926463584766"
     },
     "user_tz": -540
    },
    "id": "cOaUmz4CDLRu",
    "outputId": "d2df423e-56c5-42ae-be67-4ebc301f0369"
   },
   "outputs": [
    {
     "data": {
      "text/html": [
       "<div>\n",
       "<style scoped>\n",
       "    .dataframe tbody tr th:only-of-type {\n",
       "        vertical-align: middle;\n",
       "    }\n",
       "\n",
       "    .dataframe tbody tr th {\n",
       "        vertical-align: top;\n",
       "    }\n",
       "\n",
       "    .dataframe thead th {\n",
       "        text-align: right;\n",
       "    }\n",
       "</style>\n",
       "<table border=\"1\" class=\"dataframe\">\n",
       "  <thead>\n",
       "    <tr style=\"text-align: right;\">\n",
       "      <th></th>\n",
       "      <th>행정동코드</th>\n",
       "      <th>읍면동코드</th>\n",
       "      <th>자치행정동</th>\n",
       "      <th>자치구</th>\n",
       "      <th>행정동</th>\n",
       "      <th>거주인구수</th>\n",
       "      <th>낮생활인구비율</th>\n",
       "      <th>총노인시설수</th>\n",
       "      <th>접근성지표</th>\n",
       "      <th>이용편리지표</th>\n",
       "      <th>target</th>\n",
       "    </tr>\n",
       "  </thead>\n",
       "  <tbody>\n",
       "    <tr>\n",
       "      <th>2</th>\n",
       "      <td>11110550</td>\n",
       "      <td>1101055</td>\n",
       "      <td>종로구 부암동</td>\n",
       "      <td>종로구</td>\n",
       "      <td>부암동</td>\n",
       "      <td>1763</td>\n",
       "      <td>0.064248</td>\n",
       "      <td>1</td>\n",
       "      <td>7.574081</td>\n",
       "      <td>2.5</td>\n",
       "      <td>1</td>\n",
       "    </tr>\n",
       "    <tr>\n",
       "      <th>69</th>\n",
       "      <td>11215760</td>\n",
       "      <td>1105057</td>\n",
       "      <td>광진구 중곡3동</td>\n",
       "      <td>광진구</td>\n",
       "      <td>중곡3동</td>\n",
       "      <td>2793</td>\n",
       "      <td>0.069232</td>\n",
       "      <td>1</td>\n",
       "      <td>6.141288</td>\n",
       "      <td>2.5</td>\n",
       "      <td>1</td>\n",
       "    </tr>\n",
       "    <tr>\n",
       "      <th>86</th>\n",
       "      <td>11230560</td>\n",
       "      <td>1106083</td>\n",
       "      <td>동대문구 전농1동</td>\n",
       "      <td>동대문구</td>\n",
       "      <td>전농1동</td>\n",
       "      <td>5478</td>\n",
       "      <td>0.070116</td>\n",
       "      <td>2</td>\n",
       "      <td>29.408644</td>\n",
       "      <td>5.0</td>\n",
       "      <td>1</td>\n",
       "    </tr>\n",
       "    <tr>\n",
       "      <th>104</th>\n",
       "      <td>11260660</td>\n",
       "      <td>1107068</td>\n",
       "      <td>중랑구 망우3동</td>\n",
       "      <td>중랑구</td>\n",
       "      <td>망우3동</td>\n",
       "      <td>3331</td>\n",
       "      <td>0.071612</td>\n",
       "      <td>2</td>\n",
       "      <td>5.219833</td>\n",
       "      <td>10.0</td>\n",
       "      <td>1</td>\n",
       "    </tr>\n",
       "    <tr>\n",
       "      <th>110</th>\n",
       "      <td>11290580</td>\n",
       "      <td>1108058</td>\n",
       "      <td>성북구 돈암1동</td>\n",
       "      <td>성북구</td>\n",
       "      <td>돈암1동</td>\n",
       "      <td>2845</td>\n",
       "      <td>0.072408</td>\n",
       "      <td>1</td>\n",
       "      <td>7.842188</td>\n",
       "      <td>0.0</td>\n",
       "      <td>1</td>\n",
       "    </tr>\n",
       "    <tr>\n",
       "      <th>123</th>\n",
       "      <td>11290770</td>\n",
       "      <td>1108077</td>\n",
       "      <td>성북구 장위2동</td>\n",
       "      <td>성북구</td>\n",
       "      <td>장위2동</td>\n",
       "      <td>3065</td>\n",
       "      <td>0.076337</td>\n",
       "      <td>1</td>\n",
       "      <td>9.430095</td>\n",
       "      <td>5.0</td>\n",
       "      <td>1</td>\n",
       "    </tr>\n",
       "    <tr>\n",
       "      <th>191</th>\n",
       "      <td>11380625</td>\n",
       "      <td>1112074</td>\n",
       "      <td>은평구 역촌동</td>\n",
       "      <td>은평구</td>\n",
       "      <td>역촌동</td>\n",
       "      <td>8267</td>\n",
       "      <td>0.059541</td>\n",
       "      <td>3</td>\n",
       "      <td>10.657260</td>\n",
       "      <td>5.0</td>\n",
       "      <td>1</td>\n",
       "    </tr>\n",
       "    <tr>\n",
       "      <th>194</th>\n",
       "      <td>11410640</td>\n",
       "      <td>1113064</td>\n",
       "      <td>서대문구 홍제3동</td>\n",
       "      <td>서대문구</td>\n",
       "      <td>홍제3동</td>\n",
       "      <td>3617</td>\n",
       "      <td>0.077748</td>\n",
       "      <td>2</td>\n",
       "      <td>8.889985</td>\n",
       "      <td>10.0</td>\n",
       "      <td>1</td>\n",
       "    </tr>\n",
       "    <tr>\n",
       "      <th>328</th>\n",
       "      <td>11620665</td>\n",
       "      <td>1121066</td>\n",
       "      <td>관악구 서림동</td>\n",
       "      <td>관악구</td>\n",
       "      <td>서림동</td>\n",
       "      <td>3458</td>\n",
       "      <td>0.055268</td>\n",
       "      <td>1</td>\n",
       "      <td>6.357287</td>\n",
       "      <td>0.0</td>\n",
       "      <td>1</td>\n",
       "    </tr>\n",
       "    <tr>\n",
       "      <th>345</th>\n",
       "      <td>11650550</td>\n",
       "      <td>1122056</td>\n",
       "      <td>서초구 반포본동</td>\n",
       "      <td>서초구</td>\n",
       "      <td>반포본동</td>\n",
       "      <td>1867</td>\n",
       "      <td>0.064034</td>\n",
       "      <td>1</td>\n",
       "      <td>9.202020</td>\n",
       "      <td>5.0</td>\n",
       "      <td>1</td>\n",
       "    </tr>\n",
       "    <tr>\n",
       "      <th>372</th>\n",
       "      <td>11680730</td>\n",
       "      <td>1123073</td>\n",
       "      <td>강남구 일원1동</td>\n",
       "      <td>강남구</td>\n",
       "      <td>일원1동</td>\n",
       "      <td>3196</td>\n",
       "      <td>0.071993</td>\n",
       "      <td>2</td>\n",
       "      <td>6.632985</td>\n",
       "      <td>15.0</td>\n",
       "      <td>1</td>\n",
       "    </tr>\n",
       "    <tr>\n",
       "      <th>388</th>\n",
       "      <td>11710566</td>\n",
       "      <td>1124059</td>\n",
       "      <td>송파구 오륜동</td>\n",
       "      <td>송파구</td>\n",
       "      <td>오륜동</td>\n",
       "      <td>2681</td>\n",
       "      <td>0.071070</td>\n",
       "      <td>2</td>\n",
       "      <td>17.673212</td>\n",
       "      <td>2.5</td>\n",
       "      <td>1</td>\n",
       "    </tr>\n",
       "    <tr>\n",
       "      <th>402</th>\n",
       "      <td>11710720</td>\n",
       "      <td>1124078</td>\n",
       "      <td>송파구 잠실7동</td>\n",
       "      <td>송파구</td>\n",
       "      <td>잠실7동</td>\n",
       "      <td>2113</td>\n",
       "      <td>0.077456</td>\n",
       "      <td>2</td>\n",
       "      <td>14.760803</td>\n",
       "      <td>5.0</td>\n",
       "      <td>1</td>\n",
       "    </tr>\n",
       "    <tr>\n",
       "      <th>419</th>\n",
       "      <td>11740660</td>\n",
       "      <td>1125067</td>\n",
       "      <td>강동구 성내3동</td>\n",
       "      <td>강동구</td>\n",
       "      <td>성내3동</td>\n",
       "      <td>3711</td>\n",
       "      <td>0.063769</td>\n",
       "      <td>1</td>\n",
       "      <td>10.088676</td>\n",
       "      <td>5.0</td>\n",
       "      <td>1</td>\n",
       "    </tr>\n",
       "  </tbody>\n",
       "</table>\n",
       "</div>"
      ],
      "text/plain": [
       "        행정동코드    읍면동코드      자치행정동   자치구   행정동  거주인구수   낮생활인구비율  총노인시설수  \\\n",
       "2    11110550  1101055    종로구 부암동   종로구   부암동   1763  0.064248       1   \n",
       "69   11215760  1105057   광진구 중곡3동   광진구  중곡3동   2793  0.069232       1   \n",
       "86   11230560  1106083  동대문구 전농1동  동대문구  전농1동   5478  0.070116       2   \n",
       "104  11260660  1107068   중랑구 망우3동   중랑구  망우3동   3331  0.071612       2   \n",
       "110  11290580  1108058   성북구 돈암1동   성북구  돈암1동   2845  0.072408       1   \n",
       "123  11290770  1108077   성북구 장위2동   성북구  장위2동   3065  0.076337       1   \n",
       "191  11380625  1112074    은평구 역촌동   은평구   역촌동   8267  0.059541       3   \n",
       "194  11410640  1113064  서대문구 홍제3동  서대문구  홍제3동   3617  0.077748       2   \n",
       "328  11620665  1121066    관악구 서림동   관악구   서림동   3458  0.055268       1   \n",
       "345  11650550  1122056   서초구 반포본동   서초구  반포본동   1867  0.064034       1   \n",
       "372  11680730  1123073   강남구 일원1동   강남구  일원1동   3196  0.071993       2   \n",
       "388  11710566  1124059    송파구 오륜동   송파구   오륜동   2681  0.071070       2   \n",
       "402  11710720  1124078   송파구 잠실7동   송파구  잠실7동   2113  0.077456       2   \n",
       "419  11740660  1125067   강동구 성내3동   강동구  성내3동   3711  0.063769       1   \n",
       "\n",
       "         접근성지표  이용편리지표  target  \n",
       "2     7.574081     2.5       1  \n",
       "69    6.141288     2.5       1  \n",
       "86   29.408644     5.0       1  \n",
       "104   5.219833    10.0       1  \n",
       "110   7.842188     0.0       1  \n",
       "123   9.430095     5.0       1  \n",
       "191  10.657260     5.0       1  \n",
       "194   8.889985    10.0       1  \n",
       "328   6.357287     0.0       1  \n",
       "345   9.202020     5.0       1  \n",
       "372   6.632985    15.0       1  \n",
       "388  17.673212     2.5       1  \n",
       "402  14.760803     5.0       1  \n",
       "419  10.088676     5.0       1  "
      ]
     },
     "execution_count": 31,
     "metadata": {},
     "output_type": "execute_result"
    }
   ],
   "source": [
    "# target 행정동 지정\n",
    "hjd_df['target'] = 0\n",
    "target_d = ['부암동', '중곡3동', '전농1동', '망우3동', '돈암1동', '장위2동', '역촌동', '홍제3동', '서림동', '반포본동', '일원1동', '오륜동', '잠실7동', '성내3동']\n",
    "for i in range(0,len(target_d)):\n",
    "    hjd_df.loc[hjd_df['행정동'] == target_d[i],'target'] = 1\n",
    "hjd_df[hjd_df['target'] == 1]"
   ]
  },
  {
   "cell_type": "code",
   "execution_count": 32,
   "metadata": {
    "id": "fS1trx67BcgO"
   },
   "outputs": [],
   "source": [
    "hjd_df_plot = hjd_df[['거주인구수','낮생활인구비율','총노인시설수','접근성지표','이용편리지표']]"
   ]
  },
  {
   "cell_type": "code",
   "execution_count": 33,
   "metadata": {
    "colab": {
     "base_uri": "https://localhost:8080/",
     "height": 1000
    },
    "executionInfo": {
     "elapsed": 2720,
     "status": "ok",
     "timestamp": 1629102253774,
     "user": {
      "displayName": "유시은",
      "photoUrl": "https://lh3.googleusercontent.com/a-/AOh14GiINDuzaV-cAv9Kwf1Htu_t0-56HkcKTbbDUSDg=s64",
      "userId": "14794011926463584766"
     },
     "user_tz": -540
    },
    "id": "uhAFnmZACoEo",
    "outputId": "31b37b47-8305-459e-82d5-877802960003"
   },
   "outputs": [
    {
     "data": {
      "image/png": "[encoded data removed]",
      "text/plain": [
       "<Figure size 864x864 with 25 Axes>"
      ]
     },
     "metadata": {
      "needs_background": "light"
     },
     "output_type": "display_data"
    }
   ],
   "source": [
    "# 데이터 분포 확인\n",
    "color_wheel = {1: \"silver\", \n",
    "               2: \"tomato\"}\n",
    "colors = hjd_df[\"target\"].map(lambda x: color_wheel.get(x + 1))\n",
    "ax = pd.plotting.scatter_matrix(hjd_df_plot, color=colors, alpha=0.8, s=(hjd_df['target']+0.5)*100, figsize=(12, 12), diagonal='hist')"
   ]
  },
  {
   "cell_type": "code",
   "execution_count": 34,
   "metadata": {
    "colab": {
     "base_uri": "https://localhost:8080/",
     "height": 204
    },
    "executionInfo": {
     "elapsed": 15,
     "status": "ok",
     "timestamp": 1629102253775,
     "user": {
      "displayName": "유시은",
      "photoUrl": "https://lh3.googleusercontent.com/a-/AOh14GiINDuzaV-cAv9Kwf1Htu_t0-56HkcKTbbDUSDg=s64",
      "userId": "14794011926463584766"
     },
     "user_tz": -540
    },
    "id": "g5B-NbpeIfvS",
    "outputId": "9204817f-e5a5-4623-f749-84bf49ce79ce"
   },
   "outputs": [
    {
     "data": {
      "text/html": [
       "<div>\n",
       "<style scoped>\n",
       "    .dataframe tbody tr th:only-of-type {\n",
       "        vertical-align: middle;\n",
       "    }\n",
       "\n",
       "    .dataframe tbody tr th {\n",
       "        vertical-align: top;\n",
       "    }\n",
       "\n",
       "    .dataframe thead th {\n",
       "        text-align: right;\n",
       "    }\n",
       "</style>\n",
       "<table border=\"1\" class=\"dataframe\">\n",
       "  <thead>\n",
       "    <tr style=\"text-align: right;\">\n",
       "      <th></th>\n",
       "      <th>거주인구수</th>\n",
       "      <th>낮생활인구비율</th>\n",
       "      <th>총노인시설수</th>\n",
       "      <th>접근성지표</th>\n",
       "      <th>이용편리지표</th>\n",
       "    </tr>\n",
       "  </thead>\n",
       "  <tbody>\n",
       "    <tr>\n",
       "      <th>거주인구수</th>\n",
       "      <td>1.000000</td>\n",
       "      <td>0.325639</td>\n",
       "      <td>0.449034</td>\n",
       "      <td>0.263270</td>\n",
       "      <td>0.060493</td>\n",
       "    </tr>\n",
       "    <tr>\n",
       "      <th>낮생활인구비율</th>\n",
       "      <td>0.325639</td>\n",
       "      <td>1.000000</td>\n",
       "      <td>-0.028263</td>\n",
       "      <td>-0.237683</td>\n",
       "      <td>-0.109605</td>\n",
       "    </tr>\n",
       "    <tr>\n",
       "      <th>총노인시설수</th>\n",
       "      <td>0.449034</td>\n",
       "      <td>-0.028263</td>\n",
       "      <td>1.000000</td>\n",
       "      <td>0.248215</td>\n",
       "      <td>0.001985</td>\n",
       "    </tr>\n",
       "    <tr>\n",
       "      <th>접근성지표</th>\n",
       "      <td>0.263270</td>\n",
       "      <td>-0.237683</td>\n",
       "      <td>0.248215</td>\n",
       "      <td>1.000000</td>\n",
       "      <td>0.270585</td>\n",
       "    </tr>\n",
       "    <tr>\n",
       "      <th>이용편리지표</th>\n",
       "      <td>0.060493</td>\n",
       "      <td>-0.109605</td>\n",
       "      <td>0.001985</td>\n",
       "      <td>0.270585</td>\n",
       "      <td>1.000000</td>\n",
       "    </tr>\n",
       "  </tbody>\n",
       "</table>\n",
       "</div>"
      ],
      "text/plain": [
       "            거주인구수   낮생활인구비율    총노인시설수     접근성지표    이용편리지표\n",
       "거주인구수    1.000000  0.325639  0.449034  0.263270  0.060493\n",
       "낮생활인구비율  0.325639  1.000000 -0.028263 -0.237683 -0.109605\n",
       "총노인시설수   0.449034 -0.028263  1.000000  0.248215  0.001985\n",
       "접근성지표    0.263270 -0.237683  0.248215  1.000000  0.270585\n",
       "이용편리지표   0.060493 -0.109605  0.001985  0.270585  1.000000"
      ]
     },
     "execution_count": 34,
     "metadata": {},
     "output_type": "execute_result"
    }
   ],
   "source": [
    "# 상관계수 행렬\n",
    "hjd_df_cor = hjd_df[['거주인구수','낮생활인구비율','총노인시설수','접근성지표','이용편리지표']]\n",
    "corr = hjd_df_cor.corr(method = 'pearson')\n",
    "corr"
   ]
  },
  {
   "cell_type": "code",
   "execution_count": 35,
   "metadata": {
    "colab": {
     "base_uri": "https://localhost:8080/",
     "height": 204
    },
    "executionInfo": {
     "elapsed": 12,
     "status": "ok",
     "timestamp": 1629102253775,
     "user": {
      "displayName": "유시은",
      "photoUrl": "https://lh3.googleusercontent.com/a-/AOh14GiINDuzaV-cAv9Kwf1Htu_t0-56HkcKTbbDUSDg=s64",
      "userId": "14794011926463584766"
     },
     "user_tz": -540
    },
    "id": "ggPp1KakIoZW",
    "outputId": "0c2867d7-6cd4-4a24-f8fa-5be570259a2a"
   },
   "outputs": [
    {
     "data": {
      "text/html": [
       "<div>\n",
       "<style scoped>\n",
       "    .dataframe tbody tr th:only-of-type {\n",
       "        vertical-align: middle;\n",
       "    }\n",
       "\n",
       "    .dataframe tbody tr th {\n",
       "        vertical-align: top;\n",
       "    }\n",
       "\n",
       "    .dataframe thead th {\n",
       "        text-align: right;\n",
       "    }\n",
       "</style>\n",
       "<table border=\"1\" class=\"dataframe\">\n",
       "  <thead>\n",
       "    <tr style=\"text-align: right;\">\n",
       "      <th></th>\n",
       "      <th>낮생활인구비율</th>\n",
       "      <th>총노인시설수</th>\n",
       "      <th>접근성지표</th>\n",
       "      <th>이용편리지표</th>\n",
       "    </tr>\n",
       "  </thead>\n",
       "  <tbody>\n",
       "    <tr>\n",
       "      <th>0</th>\n",
       "      <td>0.042984</td>\n",
       "      <td>0</td>\n",
       "      <td>10.845083</td>\n",
       "      <td>30.0</td>\n",
       "    </tr>\n",
       "    <tr>\n",
       "      <th>1</th>\n",
       "      <td>0.047104</td>\n",
       "      <td>2</td>\n",
       "      <td>2.304008</td>\n",
       "      <td>5.0</td>\n",
       "    </tr>\n",
       "    <tr>\n",
       "      <th>2</th>\n",
       "      <td>0.064248</td>\n",
       "      <td>1</td>\n",
       "      <td>7.574081</td>\n",
       "      <td>2.5</td>\n",
       "    </tr>\n",
       "  </tbody>\n",
       "</table>\n",
       "</div>"
      ],
      "text/plain": [
       "    낮생활인구비율  총노인시설수      접근성지표  이용편리지표\n",
       "0  0.042984       0  10.845083    30.0\n",
       "1  0.047104       2   2.304008     5.0\n",
       "2  0.064248       1   7.574081     2.5"
      ]
     },
     "execution_count": 35,
     "metadata": {},
     "output_type": "execute_result"
    }
   ],
   "source": [
    "# 거주인구수 제거\n",
    "clu_data = hjd_df[['낮생활인구비율','총노인시설수','접근성지표','이용편리지표']]\n",
    "clu_data.head(3)"
   ]
  },
  {
   "cell_type": "code",
   "execution_count": 36,
   "metadata": {
    "colab": {
     "base_uri": "https://localhost:8080/"
    },
    "executionInfo": {
     "elapsed": 440,
     "status": "ok",
     "timestamp": 1629102254204,
     "user": {
      "displayName": "유시은",
      "photoUrl": "https://lh3.googleusercontent.com/a-/AOh14GiINDuzaV-cAv9Kwf1Htu_t0-56HkcKTbbDUSDg=s64",
      "userId": "14794011926463584766"
     },
     "user_tz": -540
    },
    "id": "CLNlSgUqMS9w",
    "outputId": "24627784-7dbc-4e56-c2b4-b901e41e43a7"
   },
   "outputs": [
    {
     "data": {
      "text/plain": [
       "array([[0.2243736 , 0.        , 0.20717951, 0.6       ],\n",
       "       [0.27487464, 0.05882353, 0.03179583, 0.1       ],\n",
       "       [0.48501624, 0.02941176, 0.14001228, 0.05      ],\n",
       "       ...,\n",
       "       [0.50436063, 0.26470588, 0.15011032, 0.3       ],\n",
       "       [0.54662392, 0.44117647, 0.24122973, 0.2       ],\n",
       "       [0.57556453, 0.26470588, 0.28562478, 0.05      ]])"
      ]
     },
     "execution_count": 36,
     "metadata": {},
     "output_type": "execute_result"
    }
   ],
   "source": [
    "# 정규화\n",
    "from sklearn.preprocessing import minmax_scale\n",
    "clu_data_n = minmax_scale(clu_data)\n",
    "clu_data_n"
   ]
  },
  {
   "cell_type": "code",
   "execution_count": 37,
   "metadata": {
    "colab": {
     "base_uri": "https://localhost:8080/"
    },
    "executionInfo": {
     "elapsed": 27,
     "status": "ok",
     "timestamp": 1629102254206,
     "user": {
      "displayName": "유시은",
      "photoUrl": "https://lh3.googleusercontent.com/a-/AOh14GiINDuzaV-cAv9Kwf1Htu_t0-56HkcKTbbDUSDg=s64",
      "userId": "14794011926463584766"
     },
     "user_tz": -540
    },
    "id": "hdTkPmIhMt_t",
    "outputId": "3f862bcd-5abd-4ed0-c2bc-e3644aa17ea9"
   },
   "outputs": [],
   "source": [
    "clu_data['낮생활인구비율'] = [row[0] for row in clu_data_n]\n",
    "clu_data['총노인시설수'] = [row[1] for row in clu_data_n]\n",
    "clu_data['접근성지표'] = [row[2] for row in clu_data_n]\n",
    "clu_data['이용편리지표'] = [row[3] for row in clu_data_n]"
   ]
  },
  {
   "cell_type": "code",
   "execution_count": 38,
   "metadata": {
    "colab": {
     "base_uri": "https://localhost:8080/",
     "height": 204
    },
    "executionInfo": {
     "elapsed": 18,
     "status": "ok",
     "timestamp": 1629102254207,
     "user": {
      "displayName": "유시은",
      "photoUrl": "https://lh3.googleusercontent.com/a-/AOh14GiINDuzaV-cAv9Kwf1Htu_t0-56HkcKTbbDUSDg=s64",
      "userId": "14794011926463584766"
     },
     "user_tz": -540
    },
    "id": "qcInnzfgM9nv",
    "outputId": "f33d8be2-0e3e-4f1b-cd4e-f51999fc28fb"
   },
   "outputs": [
    {
     "data": {
      "text/html": [
       "<div>\n",
       "<style scoped>\n",
       "    .dataframe tbody tr th:only-of-type {\n",
       "        vertical-align: middle;\n",
       "    }\n",
       "\n",
       "    .dataframe tbody tr th {\n",
       "        vertical-align: top;\n",
       "    }\n",
       "\n",
       "    .dataframe thead th {\n",
       "        text-align: right;\n",
       "    }\n",
       "</style>\n",
       "<table border=\"1\" class=\"dataframe\">\n",
       "  <thead>\n",
       "    <tr style=\"text-align: right;\">\n",
       "      <th></th>\n",
       "      <th>낮생활인구비율</th>\n",
       "      <th>총노인시설수</th>\n",
       "      <th>접근성지표</th>\n",
       "      <th>이용편리지표</th>\n",
       "    </tr>\n",
       "  </thead>\n",
       "  <tbody>\n",
       "    <tr>\n",
       "      <th>0</th>\n",
       "      <td>0.224374</td>\n",
       "      <td>0.000000</td>\n",
       "      <td>0.207180</td>\n",
       "      <td>0.60</td>\n",
       "    </tr>\n",
       "    <tr>\n",
       "      <th>1</th>\n",
       "      <td>0.274875</td>\n",
       "      <td>0.058824</td>\n",
       "      <td>0.031796</td>\n",
       "      <td>0.10</td>\n",
       "    </tr>\n",
       "    <tr>\n",
       "      <th>2</th>\n",
       "      <td>0.485016</td>\n",
       "      <td>0.029412</td>\n",
       "      <td>0.140012</td>\n",
       "      <td>0.05</td>\n",
       "    </tr>\n",
       "  </tbody>\n",
       "</table>\n",
       "</div>"
      ],
      "text/plain": [
       "    낮생활인구비율    총노인시설수     접근성지표  이용편리지표\n",
       "0  0.224374  0.000000  0.207180    0.60\n",
       "1  0.274875  0.058824  0.031796    0.10\n",
       "2  0.485016  0.029412  0.140012    0.05"
      ]
     },
     "execution_count": 38,
     "metadata": {},
     "output_type": "execute_result"
    }
   ],
   "source": [
    "clu_data.head(3)"
   ]
  },
  {
   "cell_type": "code",
   "execution_count": 39,
   "metadata": {
    "id": "nxkcwUtaPXmj"
   },
   "outputs": [],
   "source": [
    "clu_data = (clu_data*100).round(1)"
   ]
  },
  {
   "cell_type": "code",
   "execution_count": 40,
   "metadata": {
    "colab": {
     "base_uri": "https://localhost:8080/",
     "height": 204
    },
    "executionInfo": {
     "elapsed": 17,
     "status": "ok",
     "timestamp": 1629102254208,
     "user": {
      "displayName": "유시은",
      "photoUrl": "https://lh3.googleusercontent.com/a-/AOh14GiINDuzaV-cAv9Kwf1Htu_t0-56HkcKTbbDUSDg=s64",
      "userId": "14794011926463584766"
     },
     "user_tz": -540
    },
    "id": "lmBnOMg0QGPB",
    "outputId": "e0d5dfa9-63e3-4ac4-d415-0e16c431b4e6"
   },
   "outputs": [
    {
     "name": "stdout",
     "output_type": "stream",
     "text": [
      "(425, 4)\n"
     ]
    },
    {
     "data": {
      "text/html": [
       "<div>\n",
       "<style scoped>\n",
       "    .dataframe tbody tr th:only-of-type {\n",
       "        vertical-align: middle;\n",
       "    }\n",
       "\n",
       "    .dataframe tbody tr th {\n",
       "        vertical-align: top;\n",
       "    }\n",
       "\n",
       "    .dataframe thead th {\n",
       "        text-align: right;\n",
       "    }\n",
       "</style>\n",
       "<table border=\"1\" class=\"dataframe\">\n",
       "  <thead>\n",
       "    <tr style=\"text-align: right;\">\n",
       "      <th></th>\n",
       "      <th>낮생활인구비율</th>\n",
       "      <th>총노인시설수</th>\n",
       "      <th>접근성지표</th>\n",
       "      <th>이용편리지표</th>\n",
       "    </tr>\n",
       "  </thead>\n",
       "  <tbody>\n",
       "    <tr>\n",
       "      <th>0</th>\n",
       "      <td>22.4</td>\n",
       "      <td>0.0</td>\n",
       "      <td>20.7</td>\n",
       "      <td>60.0</td>\n",
       "    </tr>\n",
       "    <tr>\n",
       "      <th>1</th>\n",
       "      <td>27.5</td>\n",
       "      <td>5.9</td>\n",
       "      <td>3.2</td>\n",
       "      <td>10.0</td>\n",
       "    </tr>\n",
       "    <tr>\n",
       "      <th>2</th>\n",
       "      <td>48.5</td>\n",
       "      <td>2.9</td>\n",
       "      <td>14.0</td>\n",
       "      <td>5.0</td>\n",
       "    </tr>\n",
       "  </tbody>\n",
       "</table>\n",
       "</div>"
      ],
      "text/plain": [
       "   낮생활인구비율  총노인시설수  접근성지표  이용편리지표\n",
       "0     22.4     0.0   20.7    60.0\n",
       "1     27.5     5.9    3.2    10.0\n",
       "2     48.5     2.9   14.0     5.0"
      ]
     },
     "execution_count": 40,
     "metadata": {},
     "output_type": "execute_result"
    }
   ],
   "source": [
    "print(clu_data.shape)\n",
    "clu_data.head(3)"
   ]
  },
  {
   "cell_type": "markdown",
   "metadata": {
    "id": "lx4sgyowHlZA"
   },
   "source": [
    "# 2. PCA"
   ]
  },
  {
   "cell_type": "code",
   "execution_count": 41,
   "metadata": {
    "colab": {
     "base_uri": "https://localhost:8080/"
    },
    "executionInfo": {
     "elapsed": 5,
     "status": "ok",
     "timestamp": 1629018712669,
     "user": {
      "displayName": "유시은",
      "photoUrl": "https://lh3.googleusercontent.com/a-/AOh14GiINDuzaV-cAv9Kwf1Htu_t0-56HkcKTbbDUSDg=s64",
      "userId": "14794011926463584766"
     },
     "user_tz": -540
    },
    "id": "AdU7ZjVXsajD",
    "outputId": "57b2ad03-a0de-4e54-fc26-9b8fc4bdc857"
   },
   "outputs": [
    {
     "data": {
      "text/plain": [
       "array([[ 26.91211251, -45.63486122,   3.93621727],\n",
       "       [-11.74266993, -17.03308438, -19.47429028],\n",
       "       [-19.27714647, -11.85767481,  -5.1971521 ],\n",
       "       ...,\n",
       "       [  2.13622584,  -4.52719641,  14.27360687],\n",
       "       [  5.69771344,  17.27152438,  15.61169742],\n",
       "       [ -7.23119301,  11.45455273,   6.86186729]])"
      ]
     },
     "execution_count": 41,
     "metadata": {},
     "output_type": "execute_result"
    }
   ],
   "source": [
    "from sklearn.decomposition import PCA\n",
    "pca = PCA(n_components=3)\n",
    "df_pca = pca.fit_transform(clu_data)\n",
    "df_pca"
   ]
  },
  {
   "cell_type": "code",
   "execution_count": 42,
   "metadata": {
    "id": "z6-jBdsAsoLe"
   },
   "outputs": [],
   "source": [
    "clu_data['pca1'] = [row[0] for row in df_pca]\n",
    "clu_data['pca2'] = [row[1] for row in df_pca]\n",
    "clu_data['pca3'] = [row[2] for row in df_pca]"
   ]
  },
  {
   "cell_type": "code",
   "execution_count": 43,
   "metadata": {
    "colab": {
     "base_uri": "https://localhost:8080/",
     "height": 204
    },
    "executionInfo": {
     "elapsed": 7,
     "status": "ok",
     "timestamp": 1629018715293,
     "user": {
      "displayName": "유시은",
      "photoUrl": "https://lh3.googleusercontent.com/a-/AOh14GiINDuzaV-cAv9Kwf1Htu_t0-56HkcKTbbDUSDg=s64",
      "userId": "14794011926463584766"
     },
     "user_tz": -540
    },
    "id": "2aX32m77s4jK",
    "outputId": "a1ccddd1-ebf9-4645-eff5-136e98e51c4a"
   },
   "outputs": [
    {
     "data": {
      "text/html": [
       "<div>\n",
       "<style scoped>\n",
       "    .dataframe tbody tr th:only-of-type {\n",
       "        vertical-align: middle;\n",
       "    }\n",
       "\n",
       "    .dataframe tbody tr th {\n",
       "        vertical-align: top;\n",
       "    }\n",
       "\n",
       "    .dataframe thead th {\n",
       "        text-align: right;\n",
       "    }\n",
       "</style>\n",
       "<table border=\"1\" class=\"dataframe\">\n",
       "  <thead>\n",
       "    <tr style=\"text-align: right;\">\n",
       "      <th></th>\n",
       "      <th>pca1</th>\n",
       "      <th>pca2</th>\n",
       "      <th>pca3</th>\n",
       "    </tr>\n",
       "  </thead>\n",
       "  <tbody>\n",
       "    <tr>\n",
       "      <th>0</th>\n",
       "      <td>26.912113</td>\n",
       "      <td>-45.634861</td>\n",
       "      <td>3.936217</td>\n",
       "    </tr>\n",
       "    <tr>\n",
       "      <th>1</th>\n",
       "      <td>-11.742670</td>\n",
       "      <td>-17.033084</td>\n",
       "      <td>-19.474290</td>\n",
       "    </tr>\n",
       "    <tr>\n",
       "      <th>2</th>\n",
       "      <td>-19.277146</td>\n",
       "      <td>-11.857675</td>\n",
       "      <td>-5.197152</td>\n",
       "    </tr>\n",
       "  </tbody>\n",
       "</table>\n",
       "</div>"
      ],
      "text/plain": [
       "        pca1       pca2       pca3\n",
       "0  26.912113 -45.634861   3.936217\n",
       "1 -11.742670 -17.033084 -19.474290\n",
       "2 -19.277146 -11.857675  -5.197152"
      ]
     },
     "execution_count": 43,
     "metadata": {},
     "output_type": "execute_result"
    }
   ],
   "source": [
    "clu_data_pca = clu_data[['pca1','pca2','pca3']]\n",
    "clu_data_pca.head(3)"
   ]
  },
  {
   "cell_type": "code",
   "execution_count": 44,
   "metadata": {
    "colab": {
     "base_uri": "https://localhost:8080/",
     "height": 498
    },
    "executionInfo": {
     "elapsed": 1414,
     "status": "ok",
     "timestamp": 1629018748740,
     "user": {
      "displayName": "유시은",
      "photoUrl": "https://lh3.googleusercontent.com/a-/AOh14GiINDuzaV-cAv9Kwf1Htu_t0-56HkcKTbbDUSDg=s64",
      "userId": "14794011926463584766"
     },
     "user_tz": -540
    },
    "id": "65yC-tdaCwXz",
    "outputId": "4a5335be-5e45-4da1-df3f-9f2662dc5c67"
   },
   "outputs": [
    {
     "data": {
      "image/png": "[encoded data removed]",
      "text/plain": [
       "<Figure size 576x576 with 9 Axes>"
      ]
     },
     "metadata": {
      "needs_background": "light"
     },
     "output_type": "display_data"
    }
   ],
   "source": [
    "# 차원축소후 분포 확인\n",
    "color_wheel = {1: \"silver\", \n",
    "               2: \"tomato\"}\n",
    "colors = hjd_df['target'].map(lambda x: color_wheel.get(x + 1))\n",
    "ax = pd.plotting.scatter_matrix(clu_data_pca, color=colors, alpha=0.8, s=(hjd_df['target']+0.5)*100, figsize=(8, 8), diagonal='hist')"
   ]
  },
  {
   "cell_type": "markdown",
   "metadata": {
    "id": "tX2czdqwB1Bg"
   },
   "source": [
    "# 3. K-means"
   ]
  },
  {
   "cell_type": "code",
   "execution_count": 45,
   "metadata": {
    "colab": {
     "base_uri": "https://localhost:8080/"
    },
    "executionInfo": {
     "elapsed": 499,
     "status": "ok",
     "timestamp": 1629019040985,
     "user": {
      "displayName": "유시은",
      "photoUrl": "https://lh3.googleusercontent.com/a-/AOh14GiINDuzaV-cAv9Kwf1Htu_t0-56HkcKTbbDUSDg=s64",
      "userId": "14794011926463584766"
     },
     "user_tz": -540
    },
    "id": "CRFy0UhVCLdd",
    "outputId": "c8f0c1e2-a01d-4bb5-ca7f-ad0ef73be20e"
   },
   "outputs": [
    {
     "data": {
      "text/plain": [
       "KMeans(n_clusters=5)"
      ]
     },
     "execution_count": 45,
     "metadata": {},
     "output_type": "execute_result"
    }
   ],
   "source": [
    "# X = clu_data.iloc[:, [0,1,2]].astype(\"int\")\n",
    "X = clu_data_pca.iloc[:, [0,1,2]].astype(\"int\")\n",
    "y = hjd_df['target']   # y 값은 군집에서 사용하지 않는다\n",
    "\n",
    "from sklearn.cluster import KMeans\n",
    "model = KMeans(5)\n",
    "model.fit(X)"
   ]
  },
  {
   "cell_type": "code",
   "execution_count": 46,
   "metadata": {
    "id": "IVkpekmnuQHl"
   },
   "outputs": [],
   "source": [
    "labels = model.labels_"
   ]
  },
  {
   "cell_type": "code",
   "execution_count": 47,
   "metadata": {
    "colab": {
     "base_uri": "https://localhost:8080/",
     "height": 420
    },
    "executionInfo": {
     "elapsed": 8,
     "status": "ok",
     "timestamp": 1629019041514,
     "user": {
      "displayName": "유시은",
      "photoUrl": "https://lh3.googleusercontent.com/a-/AOh14GiINDuzaV-cAv9Kwf1Htu_t0-56HkcKTbbDUSDg=s64",
      "userId": "14794011926463584766"
     },
     "user_tz": -540
    },
    "id": "j40RAEndxpAF",
    "outputId": "d6d6eec9-eeb1-402c-89d0-824167606344"
   },
   "outputs": [
    {
     "data": {
      "text/html": [
       "<div>\n",
       "<style scoped>\n",
       "    .dataframe tbody tr th:only-of-type {\n",
       "        vertical-align: middle;\n",
       "    }\n",
       "\n",
       "    .dataframe tbody tr th {\n",
       "        vertical-align: top;\n",
       "    }\n",
       "\n",
       "    .dataframe thead th {\n",
       "        text-align: right;\n",
       "    }\n",
       "</style>\n",
       "<table border=\"1\" class=\"dataframe\">\n",
       "  <thead>\n",
       "    <tr style=\"text-align: right;\">\n",
       "      <th></th>\n",
       "      <th>pca1</th>\n",
       "      <th>pca2</th>\n",
       "      <th>pca3</th>\n",
       "      <th>y</th>\n",
       "      <th>p</th>\n",
       "    </tr>\n",
       "  </thead>\n",
       "  <tbody>\n",
       "    <tr>\n",
       "      <th>0</th>\n",
       "      <td>26</td>\n",
       "      <td>-45</td>\n",
       "      <td>3</td>\n",
       "      <td>0</td>\n",
       "      <td>3</td>\n",
       "    </tr>\n",
       "    <tr>\n",
       "      <th>1</th>\n",
       "      <td>-11</td>\n",
       "      <td>-17</td>\n",
       "      <td>-19</td>\n",
       "      <td>0</td>\n",
       "      <td>0</td>\n",
       "    </tr>\n",
       "    <tr>\n",
       "      <th>2</th>\n",
       "      <td>-19</td>\n",
       "      <td>-11</td>\n",
       "      <td>-5</td>\n",
       "      <td>1</td>\n",
       "      <td>4</td>\n",
       "    </tr>\n",
       "  </tbody>\n",
       "</table>\n",
       "</div>"
      ],
      "text/plain": [
       "   pca1  pca2  pca3  y  p\n",
       "0    26   -45     3  0  3\n",
       "1   -11   -17   -19  0  0\n",
       "2   -19   -11    -5  1  4"
      ]
     },
     "execution_count": 47,
     "metadata": {},
     "output_type": "execute_result"
    }
   ],
   "source": [
    "plot_df = X\n",
    "plot_df['y'] = y\n",
    "plot_df['p'] = labels\n",
    "plot_df.head(3)"
   ]
  },
  {
   "cell_type": "code",
   "execution_count": 48,
   "metadata": {
    "id": "GfkYJvzQxiqw"
   },
   "outputs": [],
   "source": [
    "plot_df1 = plot_df[plot_df['y']==0]\n",
    "plot_df2 = plot_df[plot_df['y']==1]"
   ]
  },
  {
   "cell_type": "code",
   "execution_count": 49,
   "metadata": {
    "id": "0_BlxTIjylEf"
   },
   "outputs": [],
   "source": [
    "plot_df_c1 = plot_df[plot_df['p']==0]\n",
    "plot_df_c2 = plot_df[plot_df['p']==1]\n",
    "plot_df_c3 = plot_df[plot_df['p']==2]\n",
    "plot_df_c4 = plot_df[plot_df['p']==3]\n",
    "plot_df_c5 = plot_df[plot_df['p']==4]"
   ]
  },
  {
   "cell_type": "code",
   "execution_count": 50,
   "metadata": {
    "colab": {
     "base_uri": "https://localhost:8080/",
     "height": 413
    },
    "executionInfo": {
     "elapsed": 1298,
     "status": "ok",
     "timestamp": 1629019044832,
     "user": {
      "displayName": "유시은",
      "photoUrl": "https://lh3.googleusercontent.com/a-/AOh14GiINDuzaV-cAv9Kwf1Htu_t0-56HkcKTbbDUSDg=s64",
      "userId": "14794011926463584766"
     },
     "user_tz": -540
    },
    "id": "gyviO84-uQ3N",
    "outputId": "1873397f-c841-443a-afaf-a8ba3864f842"
   },
   "outputs": [
    {
     "data": {
      "text/plain": [
       "<matplotlib.collections.PathCollection at 0x1cf7cfb2100>"
      ]
     },
     "execution_count": 50,
     "metadata": {},
     "output_type": "execute_result"
    },
    {
     "data": {
      "image/png": "[encoded data removed]",
      "text/plain": [
       "<Figure size 864x432 with 2 Axes>"
      ]
     },
     "metadata": {
      "needs_background": "light"
     },
     "output_type": "display_data"
    }
   ],
   "source": [
    "plt.figure(figsize=[12,6])\n",
    "\n",
    "plt.subplot(1,2,1)\n",
    "plt.title('target', fontsize=20)\n",
    "\n",
    "plt.scatter(plot_df1['pca1'], plot_df1['pca2'], c=\"silver\", s=60)\n",
    "plt.scatter(plot_df2['pca1'], plot_df2['pca2'], c=\"tomato\", s=60)\n",
    "# plt.colorbar()\n",
    "\n",
    "plt.subplot(1,2,2)\n",
    "plt.title('k-means Clustering', fontsize=20)\n",
    "plt.scatter(plot_df_c1['pca1'], plot_df_c1['pca2'], c=\"limegreen\", s=60)\n",
    "plt.scatter(plot_df_c2['pca1'], plot_df_c2['pca2'], c=\"gold\", s=60)\n",
    "plt.scatter(plot_df_c3['pca1'], plot_df_c3['pca2'], c=\"skyblue\", s=60)\n",
    "plt.scatter(plot_df_c4['pca1'], plot_df_c4['pca2'], c=\"orange\", s=60)\n",
    "plt.scatter(plot_df_c5['pca1'], plot_df_c5['pca2'], c=\"tomato\", s=60)\n",
    "# plt.colorbar()"
   ]
  },
  {
   "cell_type": "code",
   "execution_count": 51,
   "metadata": {
    "id": "XqG9M1aj0BON"
   },
   "outputs": [],
   "source": [
    "hjd_df['kmeansP'] = plot_df['p']"
   ]
  },
  {
   "cell_type": "code",
   "execution_count": 52,
   "metadata": {
    "colab": {
     "base_uri": "https://localhost:8080/",
     "height": 484
    },
    "executionInfo": {
     "elapsed": 400,
     "status": "ok",
     "timestamp": 1629019064490,
     "user": {
      "displayName": "유시은",
      "photoUrl": "https://lh3.googleusercontent.com/a-/AOh14GiINDuzaV-cAv9Kwf1Htu_t0-56HkcKTbbDUSDg=s64",
      "userId": "14794011926463584766"
     },
     "user_tz": -540
    },
    "id": "QUQbAGXF0OD9",
    "outputId": "13db8c96-3d32-4c2b-e232-07b97637acf2"
   },
   "outputs": [
    {
     "data": {
      "text/html": [
       "<div>\n",
       "<style scoped>\n",
       "    .dataframe tbody tr th:only-of-type {\n",
       "        vertical-align: middle;\n",
       "    }\n",
       "\n",
       "    .dataframe tbody tr th {\n",
       "        vertical-align: top;\n",
       "    }\n",
       "\n",
       "    .dataframe thead th {\n",
       "        text-align: right;\n",
       "    }\n",
       "</style>\n",
       "<table border=\"1\" class=\"dataframe\">\n",
       "  <thead>\n",
       "    <tr style=\"text-align: right;\">\n",
       "      <th></th>\n",
       "      <th>행정동코드</th>\n",
       "      <th>읍면동코드</th>\n",
       "      <th>자치행정동</th>\n",
       "      <th>자치구</th>\n",
       "      <th>행정동</th>\n",
       "      <th>거주인구수</th>\n",
       "      <th>낮생활인구비율</th>\n",
       "      <th>총노인시설수</th>\n",
       "      <th>접근성지표</th>\n",
       "      <th>이용편리지표</th>\n",
       "      <th>target</th>\n",
       "      <th>kmeansP</th>\n",
       "    </tr>\n",
       "  </thead>\n",
       "  <tbody>\n",
       "    <tr>\n",
       "      <th>2</th>\n",
       "      <td>11110550</td>\n",
       "      <td>1101055</td>\n",
       "      <td>종로구 부암동</td>\n",
       "      <td>종로구</td>\n",
       "      <td>부암동</td>\n",
       "      <td>1763</td>\n",
       "      <td>0.064248</td>\n",
       "      <td>1</td>\n",
       "      <td>7.574081</td>\n",
       "      <td>2.5</td>\n",
       "      <td>1</td>\n",
       "      <td>4</td>\n",
       "    </tr>\n",
       "    <tr>\n",
       "      <th>69</th>\n",
       "      <td>11215760</td>\n",
       "      <td>1105057</td>\n",
       "      <td>광진구 중곡3동</td>\n",
       "      <td>광진구</td>\n",
       "      <td>중곡3동</td>\n",
       "      <td>2793</td>\n",
       "      <td>0.069232</td>\n",
       "      <td>1</td>\n",
       "      <td>6.141288</td>\n",
       "      <td>2.5</td>\n",
       "      <td>1</td>\n",
       "      <td>4</td>\n",
       "    </tr>\n",
       "    <tr>\n",
       "      <th>86</th>\n",
       "      <td>11230560</td>\n",
       "      <td>1106083</td>\n",
       "      <td>동대문구 전농1동</td>\n",
       "      <td>동대문구</td>\n",
       "      <td>전농1동</td>\n",
       "      <td>5478</td>\n",
       "      <td>0.070116</td>\n",
       "      <td>2</td>\n",
       "      <td>29.408644</td>\n",
       "      <td>5.0</td>\n",
       "      <td>1</td>\n",
       "      <td>2</td>\n",
       "    </tr>\n",
       "    <tr>\n",
       "      <th>104</th>\n",
       "      <td>11260660</td>\n",
       "      <td>1107068</td>\n",
       "      <td>중랑구 망우3동</td>\n",
       "      <td>중랑구</td>\n",
       "      <td>망우3동</td>\n",
       "      <td>3331</td>\n",
       "      <td>0.071612</td>\n",
       "      <td>2</td>\n",
       "      <td>5.219833</td>\n",
       "      <td>10.0</td>\n",
       "      <td>1</td>\n",
       "      <td>2</td>\n",
       "    </tr>\n",
       "    <tr>\n",
       "      <th>110</th>\n",
       "      <td>11290580</td>\n",
       "      <td>1108058</td>\n",
       "      <td>성북구 돈암1동</td>\n",
       "      <td>성북구</td>\n",
       "      <td>돈암1동</td>\n",
       "      <td>2845</td>\n",
       "      <td>0.072408</td>\n",
       "      <td>1</td>\n",
       "      <td>7.842188</td>\n",
       "      <td>0.0</td>\n",
       "      <td>1</td>\n",
       "      <td>4</td>\n",
       "    </tr>\n",
       "    <tr>\n",
       "      <th>123</th>\n",
       "      <td>11290770</td>\n",
       "      <td>1108077</td>\n",
       "      <td>성북구 장위2동</td>\n",
       "      <td>성북구</td>\n",
       "      <td>장위2동</td>\n",
       "      <td>3065</td>\n",
       "      <td>0.076337</td>\n",
       "      <td>1</td>\n",
       "      <td>9.430095</td>\n",
       "      <td>5.0</td>\n",
       "      <td>1</td>\n",
       "      <td>4</td>\n",
       "    </tr>\n",
       "    <tr>\n",
       "      <th>191</th>\n",
       "      <td>11380625</td>\n",
       "      <td>1112074</td>\n",
       "      <td>은평구 역촌동</td>\n",
       "      <td>은평구</td>\n",
       "      <td>역촌동</td>\n",
       "      <td>8267</td>\n",
       "      <td>0.059541</td>\n",
       "      <td>3</td>\n",
       "      <td>10.657260</td>\n",
       "      <td>5.0</td>\n",
       "      <td>1</td>\n",
       "      <td>4</td>\n",
       "    </tr>\n",
       "    <tr>\n",
       "      <th>194</th>\n",
       "      <td>11410640</td>\n",
       "      <td>1113064</td>\n",
       "      <td>서대문구 홍제3동</td>\n",
       "      <td>서대문구</td>\n",
       "      <td>홍제3동</td>\n",
       "      <td>3617</td>\n",
       "      <td>0.077748</td>\n",
       "      <td>2</td>\n",
       "      <td>8.889985</td>\n",
       "      <td>10.0</td>\n",
       "      <td>1</td>\n",
       "      <td>2</td>\n",
       "    </tr>\n",
       "    <tr>\n",
       "      <th>328</th>\n",
       "      <td>11620665</td>\n",
       "      <td>1121066</td>\n",
       "      <td>관악구 서림동</td>\n",
       "      <td>관악구</td>\n",
       "      <td>서림동</td>\n",
       "      <td>3458</td>\n",
       "      <td>0.055268</td>\n",
       "      <td>1</td>\n",
       "      <td>6.357287</td>\n",
       "      <td>0.0</td>\n",
       "      <td>1</td>\n",
       "      <td>4</td>\n",
       "    </tr>\n",
       "    <tr>\n",
       "      <th>345</th>\n",
       "      <td>11650550</td>\n",
       "      <td>1122056</td>\n",
       "      <td>서초구 반포본동</td>\n",
       "      <td>서초구</td>\n",
       "      <td>반포본동</td>\n",
       "      <td>1867</td>\n",
       "      <td>0.064034</td>\n",
       "      <td>1</td>\n",
       "      <td>9.202020</td>\n",
       "      <td>5.0</td>\n",
       "      <td>1</td>\n",
       "      <td>4</td>\n",
       "    </tr>\n",
       "    <tr>\n",
       "      <th>372</th>\n",
       "      <td>11680730</td>\n",
       "      <td>1123073</td>\n",
       "      <td>강남구 일원1동</td>\n",
       "      <td>강남구</td>\n",
       "      <td>일원1동</td>\n",
       "      <td>3196</td>\n",
       "      <td>0.071993</td>\n",
       "      <td>2</td>\n",
       "      <td>6.632985</td>\n",
       "      <td>15.0</td>\n",
       "      <td>1</td>\n",
       "      <td>2</td>\n",
       "    </tr>\n",
       "    <tr>\n",
       "      <th>388</th>\n",
       "      <td>11710566</td>\n",
       "      <td>1124059</td>\n",
       "      <td>송파구 오륜동</td>\n",
       "      <td>송파구</td>\n",
       "      <td>오륜동</td>\n",
       "      <td>2681</td>\n",
       "      <td>0.071070</td>\n",
       "      <td>2</td>\n",
       "      <td>17.673212</td>\n",
       "      <td>2.5</td>\n",
       "      <td>1</td>\n",
       "      <td>4</td>\n",
       "    </tr>\n",
       "    <tr>\n",
       "      <th>402</th>\n",
       "      <td>11710720</td>\n",
       "      <td>1124078</td>\n",
       "      <td>송파구 잠실7동</td>\n",
       "      <td>송파구</td>\n",
       "      <td>잠실7동</td>\n",
       "      <td>2113</td>\n",
       "      <td>0.077456</td>\n",
       "      <td>2</td>\n",
       "      <td>14.760803</td>\n",
       "      <td>5.0</td>\n",
       "      <td>1</td>\n",
       "      <td>2</td>\n",
       "    </tr>\n",
       "    <tr>\n",
       "      <th>419</th>\n",
       "      <td>11740660</td>\n",
       "      <td>1125067</td>\n",
       "      <td>강동구 성내3동</td>\n",
       "      <td>강동구</td>\n",
       "      <td>성내3동</td>\n",
       "      <td>3711</td>\n",
       "      <td>0.063769</td>\n",
       "      <td>1</td>\n",
       "      <td>10.088676</td>\n",
       "      <td>5.0</td>\n",
       "      <td>1</td>\n",
       "      <td>4</td>\n",
       "    </tr>\n",
       "  </tbody>\n",
       "</table>\n",
       "</div>"
      ],
      "text/plain": [
       "        행정동코드    읍면동코드      자치행정동   자치구   행정동  거주인구수   낮생활인구비율  총노인시설수  \\\n",
       "2    11110550  1101055    종로구 부암동   종로구   부암동   1763  0.064248       1   \n",
       "69   11215760  1105057   광진구 중곡3동   광진구  중곡3동   2793  0.069232       1   \n",
       "86   11230560  1106083  동대문구 전농1동  동대문구  전농1동   5478  0.070116       2   \n",
       "104  11260660  1107068   중랑구 망우3동   중랑구  망우3동   3331  0.071612       2   \n",
       "110  11290580  1108058   성북구 돈암1동   성북구  돈암1동   2845  0.072408       1   \n",
       "123  11290770  1108077   성북구 장위2동   성북구  장위2동   3065  0.076337       1   \n",
       "191  11380625  1112074    은평구 역촌동   은평구   역촌동   8267  0.059541       3   \n",
       "194  11410640  1113064  서대문구 홍제3동  서대문구  홍제3동   3617  0.077748       2   \n",
       "328  11620665  1121066    관악구 서림동   관악구   서림동   3458  0.055268       1   \n",
       "345  11650550  1122056   서초구 반포본동   서초구  반포본동   1867  0.064034       1   \n",
       "372  11680730  1123073   강남구 일원1동   강남구  일원1동   3196  0.071993       2   \n",
       "388  11710566  1124059    송파구 오륜동   송파구   오륜동   2681  0.071070       2   \n",
       "402  11710720  1124078   송파구 잠실7동   송파구  잠실7동   2113  0.077456       2   \n",
       "419  11740660  1125067   강동구 성내3동   강동구  성내3동   3711  0.063769       1   \n",
       "\n",
       "         접근성지표  이용편리지표  target  kmeansP  \n",
       "2     7.574081     2.5       1        4  \n",
       "69    6.141288     2.5       1        4  \n",
       "86   29.408644     5.0       1        2  \n",
       "104   5.219833    10.0       1        2  \n",
       "110   7.842188     0.0       1        4  \n",
       "123   9.430095     5.0       1        4  \n",
       "191  10.657260     5.0       1        4  \n",
       "194   8.889985    10.0       1        2  \n",
       "328   6.357287     0.0       1        4  \n",
       "345   9.202020     5.0       1        4  \n",
       "372   6.632985    15.0       1        2  \n",
       "388  17.673212     2.5       1        4  \n",
       "402  14.760803     5.0       1        2  \n",
       "419  10.088676     5.0       1        4  "
      ]
     },
     "execution_count": 52,
     "metadata": {},
     "output_type": "execute_result"
    }
   ],
   "source": [
    "hjd_df[hjd_df['target']==1]"
   ]
  },
  {
   "cell_type": "code",
   "execution_count": 53,
   "metadata": {
    "colab": {
     "base_uri": "https://localhost:8080/"
    },
    "executionInfo": {
     "elapsed": 383,
     "status": "ok",
     "timestamp": 1629012796056,
     "user": {
      "displayName": "유시은",
      "photoUrl": "https://lh3.googleusercontent.com/a-/AOh14GiINDuzaV-cAv9Kwf1Htu_t0-56HkcKTbbDUSDg=s64",
      "userId": "14794011926463584766"
     },
     "user_tz": -540
    },
    "id": "KMdLmtto0wbe",
    "outputId": "6c0c6e44-80af-47a2-c0c6-0e1a7476200d"
   },
   "outputs": [
    {
     "data": {
      "text/plain": [
       "156"
      ]
     },
     "execution_count": 53,
     "metadata": {},
     "output_type": "execute_result"
    }
   ],
   "source": [
    "len(hjd_df[hjd_df['kmeansP']==4])"
   ]
  },
  {
   "cell_type": "code",
   "execution_count": 54,
   "metadata": {
    "colab": {
     "base_uri": "https://localhost:8080/"
    },
    "executionInfo": {
     "elapsed": 470,
     "status": "ok",
     "timestamp": 1629012813473,
     "user": {
      "displayName": "유시은",
      "photoUrl": "https://lh3.googleusercontent.com/a-/AOh14GiINDuzaV-cAv9Kwf1Htu_t0-56HkcKTbbDUSDg=s64",
      "userId": "14794011926463584766"
     },
     "user_tz": -540
    },
    "id": "A8AJdxfO1I1F",
    "outputId": "b11f9a9a-065c-493d-a9e0-226f6403551d"
   },
   "outputs": [
    {
     "data": {
      "text/plain": [
       "14"
      ]
     },
     "execution_count": 54,
     "metadata": {},
     "output_type": "execute_result"
    }
   ],
   "source": [
    "len(hjd_df[hjd_df['target']==1])"
   ]
  },
  {
   "cell_type": "code",
   "execution_count": 55,
   "metadata": {
    "colab": {
     "base_uri": "https://localhost:8080/",
     "height": 359
    },
    "executionInfo": {
     "elapsed": 385,
     "status": "ok",
     "timestamp": 1629012820643,
     "user": {
      "displayName": "유시은",
      "photoUrl": "https://lh3.googleusercontent.com/a-/AOh14GiINDuzaV-cAv9Kwf1Htu_t0-56HkcKTbbDUSDg=s64",
      "userId": "14794011926463584766"
     },
     "user_tz": -540
    },
    "id": "RgncozGz08Cl",
    "outputId": "8750b094-3a78-411a-d97d-1610ae6ea259"
   },
   "outputs": [
    {
     "data": {
      "text/html": [
       "<div>\n",
       "<style scoped>\n",
       "    .dataframe tbody tr th:only-of-type {\n",
       "        vertical-align: middle;\n",
       "    }\n",
       "\n",
       "    .dataframe tbody tr th {\n",
       "        vertical-align: top;\n",
       "    }\n",
       "\n",
       "    .dataframe thead th {\n",
       "        text-align: right;\n",
       "    }\n",
       "</style>\n",
       "<table border=\"1\" class=\"dataframe\">\n",
       "  <thead>\n",
       "    <tr style=\"text-align: right;\">\n",
       "      <th></th>\n",
       "      <th>행정동코드</th>\n",
       "      <th>읍면동코드</th>\n",
       "      <th>자치행정동</th>\n",
       "      <th>자치구</th>\n",
       "      <th>행정동</th>\n",
       "    </tr>\n",
       "  </thead>\n",
       "  <tbody>\n",
       "    <tr>\n",
       "      <th>0</th>\n",
       "      <td>11110550</td>\n",
       "      <td>1101055</td>\n",
       "      <td>종로구 부암동</td>\n",
       "      <td>종로구</td>\n",
       "      <td>부암동</td>\n",
       "    </tr>\n",
       "    <tr>\n",
       "      <th>1</th>\n",
       "      <td>11215760</td>\n",
       "      <td>1105057</td>\n",
       "      <td>광진구 중곡3동</td>\n",
       "      <td>광진구</td>\n",
       "      <td>중곡3동</td>\n",
       "    </tr>\n",
       "    <tr>\n",
       "      <th>2</th>\n",
       "      <td>11290580</td>\n",
       "      <td>1108058</td>\n",
       "      <td>성북구 돈암1동</td>\n",
       "      <td>성북구</td>\n",
       "      <td>돈암1동</td>\n",
       "    </tr>\n",
       "    <tr>\n",
       "      <th>3</th>\n",
       "      <td>11290770</td>\n",
       "      <td>1108077</td>\n",
       "      <td>성북구 장위2동</td>\n",
       "      <td>성북구</td>\n",
       "      <td>장위2동</td>\n",
       "    </tr>\n",
       "    <tr>\n",
       "      <th>4</th>\n",
       "      <td>11380625</td>\n",
       "      <td>1112074</td>\n",
       "      <td>은평구 역촌동</td>\n",
       "      <td>은평구</td>\n",
       "      <td>역촌동</td>\n",
       "    </tr>\n",
       "    <tr>\n",
       "      <th>5</th>\n",
       "      <td>11620665</td>\n",
       "      <td>1121066</td>\n",
       "      <td>관악구 서림동</td>\n",
       "      <td>관악구</td>\n",
       "      <td>서림동</td>\n",
       "    </tr>\n",
       "    <tr>\n",
       "      <th>6</th>\n",
       "      <td>11650550</td>\n",
       "      <td>1122056</td>\n",
       "      <td>서초구 반포본동</td>\n",
       "      <td>서초구</td>\n",
       "      <td>반포본동</td>\n",
       "    </tr>\n",
       "    <tr>\n",
       "      <th>7</th>\n",
       "      <td>11710566</td>\n",
       "      <td>1124059</td>\n",
       "      <td>송파구 오륜동</td>\n",
       "      <td>송파구</td>\n",
       "      <td>오륜동</td>\n",
       "    </tr>\n",
       "    <tr>\n",
       "      <th>8</th>\n",
       "      <td>11740660</td>\n",
       "      <td>1125067</td>\n",
       "      <td>강동구 성내3동</td>\n",
       "      <td>강동구</td>\n",
       "      <td>성내3동</td>\n",
       "    </tr>\n",
       "  </tbody>\n",
       "</table>\n",
       "</div>"
      ],
      "text/plain": [
       "      행정동코드    읍면동코드     자치행정동  자치구   행정동\n",
       "0  11110550  1101055   종로구 부암동  종로구   부암동\n",
       "1  11215760  1105057  광진구 중곡3동  광진구  중곡3동\n",
       "2  11290580  1108058  성북구 돈암1동  성북구  돈암1동\n",
       "3  11290770  1108077  성북구 장위2동  성북구  장위2동\n",
       "4  11380625  1112074   은평구 역촌동  은평구   역촌동\n",
       "5  11620665  1121066   관악구 서림동  관악구   서림동\n",
       "6  11650550  1122056  서초구 반포본동  서초구  반포본동\n",
       "7  11710566  1124059   송파구 오륜동  송파구   오륜동\n",
       "8  11740660  1125067  강동구 성내3동  강동구  성내3동"
      ]
     },
     "execution_count": 55,
     "metadata": {},
     "output_type": "execute_result"
    }
   ],
   "source": [
    "hjd_final = hjd_df.loc[(hjd_df['target']==1) & (hjd_df['kmeansP']==4)]\n",
    "hjd_final.reset_index(drop=True,inplace=True)\n",
    "hjd_final = hjd_final[['행정동코드','읍면동코드','자치행정동','자치구','행정동']]\n",
    "hjd_final"
   ]
  },
  {
   "cell_type": "markdown",
   "metadata": {
    "id": "MRLC_hWjzcBP"
   },
   "source": [
    "# 4. Hierachical"
   ]
  },
  {
   "cell_type": "code",
   "execution_count": 56,
   "metadata": {
    "colab": {
     "base_uri": "https://localhost:8080/",
     "height": 420
    },
    "executionInfo": {
     "elapsed": 445,
     "status": "ok",
     "timestamp": 1629015684796,
     "user": {
      "displayName": "유시은",
      "photoUrl": "https://lh3.googleusercontent.com/a-/AOh14GiINDuzaV-cAv9Kwf1Htu_t0-56HkcKTbbDUSDg=s64",
      "userId": "14794011926463584766"
     },
     "user_tz": -540
    },
    "id": "rH6Tgajb9EON",
    "outputId": "b5082396-11b3-4e20-e0a9-75737d2d6ce5"
   },
   "outputs": [
    {
     "name": "stdout",
     "output_type": "stream",
     "text": [
      "(425, 3)\n"
     ]
    },
    {
     "data": {
      "text/html": [
       "<div>\n",
       "<style scoped>\n",
       "    .dataframe tbody tr th:only-of-type {\n",
       "        vertical-align: middle;\n",
       "    }\n",
       "\n",
       "    .dataframe tbody tr th {\n",
       "        vertical-align: top;\n",
       "    }\n",
       "\n",
       "    .dataframe thead th {\n",
       "        text-align: right;\n",
       "    }\n",
       "</style>\n",
       "<table border=\"1\" class=\"dataframe\">\n",
       "  <thead>\n",
       "    <tr style=\"text-align: right;\">\n",
       "      <th></th>\n",
       "      <th>pca1</th>\n",
       "      <th>pca2</th>\n",
       "      <th>pca3</th>\n",
       "    </tr>\n",
       "  </thead>\n",
       "  <tbody>\n",
       "    <tr>\n",
       "      <th>0</th>\n",
       "      <td>26.912113</td>\n",
       "      <td>-45.634861</td>\n",
       "      <td>3.936217</td>\n",
       "    </tr>\n",
       "    <tr>\n",
       "      <th>1</th>\n",
       "      <td>-11.742670</td>\n",
       "      <td>-17.033084</td>\n",
       "      <td>-19.474290</td>\n",
       "    </tr>\n",
       "    <tr>\n",
       "      <th>2</th>\n",
       "      <td>-19.277146</td>\n",
       "      <td>-11.857675</td>\n",
       "      <td>-5.197152</td>\n",
       "    </tr>\n",
       "  </tbody>\n",
       "</table>\n",
       "</div>"
      ],
      "text/plain": [
       "        pca1       pca2       pca3\n",
       "0  26.912113 -45.634861   3.936217\n",
       "1 -11.742670 -17.033084 -19.474290\n",
       "2 -19.277146 -11.857675  -5.197152"
      ]
     },
     "execution_count": 56,
     "metadata": {},
     "output_type": "execute_result"
    }
   ],
   "source": [
    "X = clu_data.iloc[:,4:]\n",
    "print(X.shape)\n",
    "X.head(3)"
   ]
  },
  {
   "cell_type": "code",
   "execution_count": 57,
   "metadata": {
    "id": "Klob1-TT9bD1"
   },
   "outputs": [],
   "source": [
    "data = X.values"
   ]
  },
  {
   "cell_type": "code",
   "execution_count": 58,
   "metadata": {
    "colab": {
     "base_uri": "https://localhost:8080/",
     "height": 441
    },
    "executionInfo": {
     "elapsed": 11807,
     "status": "ok",
     "timestamp": 1629015697987,
     "user": {
      "displayName": "유시은",
      "photoUrl": "https://lh3.googleusercontent.com/a-/AOh14GiINDuzaV-cAv9Kwf1Htu_t0-56HkcKTbbDUSDg=s64",
      "userId": "14794011926463584766"
     },
     "user_tz": -540
    },
    "id": "F4xOg9ZzzmN4",
    "outputId": "b27aa478-b46e-408b-f7d0-b3e612d818b8"
   },
   "outputs": [
    {
     "data": {
      "image/png": "[encoded data removed]",
      "text/plain": [
       "<Figure size 720x504 with 1 Axes>"
      ]
     },
     "metadata": {
      "needs_background": "light"
     },
     "output_type": "display_data"
    }
   ],
   "source": [
    "import scipy.cluster.hierarchy as shc\n",
    "\n",
    "plt.figure(figsize=(10, 7))\n",
    "plt.title(\"Hierachical Clustering\")\n",
    "dend = shc.dendrogram(shc.linkage(data, method='ward'))"
   ]
  },
  {
   "cell_type": "code",
   "execution_count": 59,
   "metadata": {
    "colab": {
     "base_uri": "https://localhost:8080/"
    },
    "executionInfo": {
     "elapsed": 11,
     "status": "ok",
     "timestamp": 1629015697988,
     "user": {
      "displayName": "유시은",
      "photoUrl": "https://lh3.googleusercontent.com/a-/AOh14GiINDuzaV-cAv9Kwf1Htu_t0-56HkcKTbbDUSDg=s64",
      "userId": "14794011926463584766"
     },
     "user_tz": -540
    },
    "id": "qeE8R9e4zsIS",
    "outputId": "abf7b00d-06db-4a9c-8272-0508c8018f26"
   },
   "outputs": [
    {
     "data": {
      "text/plain": [
       "array([1, 0, 0, 0, 0, 0, 3, 1, 0, 3, 0, 0, 0, 0, 0, 3, 3, 1, 1, 1, 3, 0,\n",
       "       1, 1, 0, 0, 3, 1, 0, 2, 0, 0, 0, 0, 3, 0, 0, 0, 2, 0, 3, 0, 2, 2,\n",
       "       3, 3, 1, 1, 2, 1, 1, 3, 2, 2, 0, 2, 3, 3, 3, 1, 3, 0, 3, 2, 2, 3,\n",
       "       3, 0, 0, 0, 0, 0, 0, 0, 0, 2, 0, 2, 2, 2, 0, 2, 0, 2, 1, 1, 0, 2,\n",
       "       2, 2, 2, 3, 2, 0, 0, 0, 0, 2, 3, 0, 0, 1, 2, 0, 0, 4, 2, 2, 2, 1,\n",
       "       0, 2, 3, 2, 2, 2, 3, 2, 2, 0, 2, 2, 0, 0, 0, 0, 3, 3, 2, 2, 2, 2,\n",
       "       2, 0, 2, 0, 2, 0, 0, 2, 2, 0, 0, 2, 0, 2, 2, 2, 0, 2, 0, 0, 0, 0,\n",
       "       2, 2, 2, 4, 2, 2, 4, 2, 0, 3, 2, 2, 2, 2, 2, 0, 0, 2, 2, 0, 0, 2,\n",
       "       2, 2, 2, 2, 0, 2, 0, 3, 2, 2, 2, 2, 4, 0, 0, 0, 2, 2, 0, 2, 0, 2,\n",
       "       3, 2, 3, 2, 3, 3, 3, 1, 3, 3, 3, 2, 1, 3, 1, 0, 3, 3, 2, 1, 2, 3,\n",
       "       2, 2, 3, 2, 0, 3, 1, 2, 0, 2, 0, 0, 0, 2, 2, 4, 1, 0, 1, 0, 4, 2,\n",
       "       2, 2, 2, 0, 0, 0, 0, 2, 4, 2, 2, 3, 3, 4, 0, 2, 0, 3, 4, 2, 3, 0,\n",
       "       2, 2, 2, 2, 0, 2, 2, 3, 2, 2, 2, 2, 1, 1, 0, 0, 2, 2, 2, 0, 0, 2,\n",
       "       1, 1, 3, 2, 3, 0, 0, 2, 0, 2, 3, 0, 0, 0, 2, 1, 2, 4, 0, 2, 2, 0,\n",
       "       2, 0, 2, 0, 0, 2, 2, 0, 2, 4, 0, 0, 0, 0, 3, 0, 0, 0, 0, 0, 0, 0,\n",
       "       3, 2, 0, 3, 2, 2, 0, 0, 2, 0, 3, 3, 3, 3, 4, 0, 3, 1, 2, 1, 0, 0,\n",
       "       0, 2, 0, 4, 1, 2, 1, 1, 3, 3, 3, 3, 3, 3, 3, 2, 3, 2, 0, 2, 0, 0,\n",
       "       2, 4, 3, 3, 1, 0, 0, 2, 0, 2, 0, 2, 0, 3, 0, 2, 0, 0, 3, 3, 3, 2,\n",
       "       2, 0, 3, 0, 0, 1, 0, 3, 3, 2, 3, 3, 2, 0, 2, 2, 0, 0, 2, 0, 0, 2,\n",
       "       0, 0, 2, 2, 0, 2, 2], dtype=int64)"
      ]
     },
     "execution_count": 59,
     "metadata": {},
     "output_type": "execute_result"
    }
   ],
   "source": [
    "from sklearn.cluster import AgglomerativeClustering\n",
    "\n",
    "cluster = AgglomerativeClustering(n_clusters=5, affinity='euclidean', linkage='ward')\n",
    "cluster.fit_predict(data)"
   ]
  },
  {
   "cell_type": "code",
   "execution_count": 60,
   "metadata": {
    "colab": {
     "base_uri": "https://localhost:8080/",
     "height": 420
    },
    "executionInfo": {
     "elapsed": 8,
     "status": "ok",
     "timestamp": 1629015697988,
     "user": {
      "displayName": "유시은",
      "photoUrl": "https://lh3.googleusercontent.com/a-/AOh14GiINDuzaV-cAv9Kwf1Htu_t0-56HkcKTbbDUSDg=s64",
      "userId": "14794011926463584766"
     },
     "user_tz": -540
    },
    "id": "nBFki0fd1cD7",
    "outputId": "b0542b5d-a9a6-4c78-e7e0-ea1cb9d00eae"
   },
   "outputs": [
    {
     "name": "stdout",
     "output_type": "stream",
     "text": [
      "(425, 5)\n"
     ]
    },
    {
     "data": {
      "text/html": [
       "<div>\n",
       "<style scoped>\n",
       "    .dataframe tbody tr th:only-of-type {\n",
       "        vertical-align: middle;\n",
       "    }\n",
       "\n",
       "    .dataframe tbody tr th {\n",
       "        vertical-align: top;\n",
       "    }\n",
       "\n",
       "    .dataframe thead th {\n",
       "        text-align: right;\n",
       "    }\n",
       "</style>\n",
       "<table border=\"1\" class=\"dataframe\">\n",
       "  <thead>\n",
       "    <tr style=\"text-align: right;\">\n",
       "      <th></th>\n",
       "      <th>pca1</th>\n",
       "      <th>pca2</th>\n",
       "      <th>pca3</th>\n",
       "      <th>y</th>\n",
       "      <th>p</th>\n",
       "    </tr>\n",
       "  </thead>\n",
       "  <tbody>\n",
       "    <tr>\n",
       "      <th>0</th>\n",
       "      <td>26.912113</td>\n",
       "      <td>-45.634861</td>\n",
       "      <td>3.936217</td>\n",
       "      <td>0</td>\n",
       "      <td>1</td>\n",
       "    </tr>\n",
       "    <tr>\n",
       "      <th>1</th>\n",
       "      <td>-11.742670</td>\n",
       "      <td>-17.033084</td>\n",
       "      <td>-19.474290</td>\n",
       "      <td>0</td>\n",
       "      <td>0</td>\n",
       "    </tr>\n",
       "    <tr>\n",
       "      <th>2</th>\n",
       "      <td>-19.277146</td>\n",
       "      <td>-11.857675</td>\n",
       "      <td>-5.197152</td>\n",
       "      <td>1</td>\n",
       "      <td>0</td>\n",
       "    </tr>\n",
       "  </tbody>\n",
       "</table>\n",
       "</div>"
      ],
      "text/plain": [
       "        pca1       pca2       pca3  y  p\n",
       "0  26.912113 -45.634861   3.936217  0  1\n",
       "1 -11.742670 -17.033084 -19.474290  0  0\n",
       "2 -19.277146 -11.857675  -5.197152  1  0"
      ]
     },
     "execution_count": 60,
     "metadata": {},
     "output_type": "execute_result"
    }
   ],
   "source": [
    "plot_df = X\n",
    "plot_df['y'] = y\n",
    "plot_df['p'] = cluster.fit_predict(data)\n",
    "print(plot_df.shape)\n",
    "plot_df.head(3)"
   ]
  },
  {
   "cell_type": "code",
   "execution_count": 61,
   "metadata": {
    "id": "sl3tc93f1jXY"
   },
   "outputs": [],
   "source": [
    "plot_df1 = plot_df[plot_df['y']==0]\n",
    "plot_df2 = plot_df[plot_df['y']==1]\n",
    "\n",
    "plot_df_c1 = plot_df[plot_df['p']==0]\n",
    "plot_df_c2 = plot_df[plot_df['p']==1]\n",
    "plot_df_c3 = plot_df[plot_df['p']==2]\n",
    "plot_df_c4 = plot_df[plot_df['p']==3]\n",
    "plot_df_c5 = plot_df[plot_df['p']==4]"
   ]
  },
  {
   "cell_type": "code",
   "execution_count": 62,
   "metadata": {
    "colab": {
     "base_uri": "https://localhost:8080/",
     "height": 413
    },
    "executionInfo": {
     "elapsed": 1232,
     "status": "ok",
     "timestamp": 1629015756303,
     "user": {
      "displayName": "유시은",
      "photoUrl": "https://lh3.googleusercontent.com/a-/AOh14GiINDuzaV-cAv9Kwf1Htu_t0-56HkcKTbbDUSDg=s64",
      "userId": "14794011926463584766"
     },
     "user_tz": -540
    },
    "id": "JL61V0PovWIP",
    "outputId": "db45d736-9a43-4140-acb2-95f4e5f347a1"
   },
   "outputs": [
    {
     "data": {
      "text/plain": [
       "<matplotlib.collections.PathCollection at 0x1cf10e505b0>"
      ]
     },
     "execution_count": 62,
     "metadata": {},
     "output_type": "execute_result"
    },
    {
     "data": {
      "image/png": "[encoded data removed]",
      "text/plain": [
       "<Figure size 864x432 with 2 Axes>"
      ]
     },
     "metadata": {
      "needs_background": "light"
     },
     "output_type": "display_data"
    }
   ],
   "source": [
    "plt.figure(figsize=[12,6])\n",
    "\n",
    "plt.subplot(1,2,1)\n",
    "plt.title('target', fontsize=20)\n",
    "\n",
    "plt.scatter(plot_df1['pca1'], plot_df1['pca2'], c=\"silver\", s=60)\n",
    "plt.scatter(plot_df2['pca1'], plot_df2['pca2'], c=\"tomato\", s=60)\n",
    "# plt.colorbar()\n",
    "\n",
    "plt.subplot(1,2,2)\n",
    "plt.title('Hierarchical Clustering', fontsize=20)\n",
    "plt.scatter(plot_df_c1['pca1'], plot_df_c1['pca2'], c=\"tomato\", s=60)\n",
    "plt.scatter(plot_df_c2['pca1'], plot_df_c2['pca2'], c=\"limegreen\", s=60)\n",
    "plt.scatter(plot_df_c3['pca1'], plot_df_c3['pca2'], c=\"orange\", s=60)\n",
    "plt.scatter(plot_df_c4['pca1'], plot_df_c4['pca2'], c=\"gold\", s=60)\n",
    "plt.scatter(plot_df_c5['pca1'], plot_df_c5['pca2'], c=\"skyblue\", s=60)\n",
    "# plt.colorbar()"
   ]
  },
  {
   "cell_type": "code",
   "execution_count": 63,
   "metadata": {
    "colab": {
     "base_uri": "https://localhost:8080/",
     "height": 420
    },
    "executionInfo": {
     "elapsed": 410,
     "status": "ok",
     "timestamp": 1629015247020,
     "user": {
      "displayName": "유시은",
      "photoUrl": "https://lh3.googleusercontent.com/a-/AOh14GiINDuzaV-cAv9Kwf1Htu_t0-56HkcKTbbDUSDg=s64",
      "userId": "14794011926463584766"
     },
     "user_tz": -540
    },
    "id": "DEv-c2zczmK4",
    "outputId": "bc9d5e40-5df4-40aa-8bc3-c0047e56620f"
   },
   "outputs": [
    {
     "data": {
      "text/html": [
       "<div>\n",
       "<style scoped>\n",
       "    .dataframe tbody tr th:only-of-type {\n",
       "        vertical-align: middle;\n",
       "    }\n",
       "\n",
       "    .dataframe tbody tr th {\n",
       "        vertical-align: top;\n",
       "    }\n",
       "\n",
       "    .dataframe thead th {\n",
       "        text-align: right;\n",
       "    }\n",
       "</style>\n",
       "<table border=\"1\" class=\"dataframe\">\n",
       "  <thead>\n",
       "    <tr style=\"text-align: right;\">\n",
       "      <th></th>\n",
       "      <th>행정동코드</th>\n",
       "      <th>읍면동코드</th>\n",
       "      <th>자치행정동</th>\n",
       "      <th>자치구</th>\n",
       "      <th>행정동</th>\n",
       "      <th>거주인구수</th>\n",
       "      <th>낮생활인구비율</th>\n",
       "      <th>총노인시설수</th>\n",
       "      <th>접근성지표</th>\n",
       "      <th>이용편리지표</th>\n",
       "      <th>target</th>\n",
       "      <th>kmeansP</th>\n",
       "      <th>hierarchicalP</th>\n",
       "    </tr>\n",
       "  </thead>\n",
       "  <tbody>\n",
       "    <tr>\n",
       "      <th>0</th>\n",
       "      <td>11110530</td>\n",
       "      <td>1101053</td>\n",
       "      <td>종로구 사직동</td>\n",
       "      <td>종로구</td>\n",
       "      <td>사직동</td>\n",
       "      <td>1834</td>\n",
       "      <td>0.042984</td>\n",
       "      <td>0</td>\n",
       "      <td>10.845083</td>\n",
       "      <td>30.0</td>\n",
       "      <td>0</td>\n",
       "      <td>3</td>\n",
       "      <td>1</td>\n",
       "    </tr>\n",
       "    <tr>\n",
       "      <th>1</th>\n",
       "      <td>11110540</td>\n",
       "      <td>1101054</td>\n",
       "      <td>종로구 삼청동</td>\n",
       "      <td>종로구</td>\n",
       "      <td>삼청동</td>\n",
       "      <td>641</td>\n",
       "      <td>0.047104</td>\n",
       "      <td>2</td>\n",
       "      <td>2.304008</td>\n",
       "      <td>5.0</td>\n",
       "      <td>0</td>\n",
       "      <td>0</td>\n",
       "      <td>0</td>\n",
       "    </tr>\n",
       "    <tr>\n",
       "      <th>2</th>\n",
       "      <td>11110550</td>\n",
       "      <td>1101055</td>\n",
       "      <td>종로구 부암동</td>\n",
       "      <td>종로구</td>\n",
       "      <td>부암동</td>\n",
       "      <td>1763</td>\n",
       "      <td>0.064248</td>\n",
       "      <td>1</td>\n",
       "      <td>7.574081</td>\n",
       "      <td>2.5</td>\n",
       "      <td>1</td>\n",
       "      <td>4</td>\n",
       "      <td>0</td>\n",
       "    </tr>\n",
       "  </tbody>\n",
       "</table>\n",
       "</div>"
      ],
      "text/plain": [
       "      행정동코드    읍면동코드    자치행정동  자치구  행정동  거주인구수   낮생활인구비율  총노인시설수      접근성지표  \\\n",
       "0  11110530  1101053  종로구 사직동  종로구  사직동   1834  0.042984       0  10.845083   \n",
       "1  11110540  1101054  종로구 삼청동  종로구  삼청동    641  0.047104       2   2.304008   \n",
       "2  11110550  1101055  종로구 부암동  종로구  부암동   1763  0.064248       1   7.574081   \n",
       "\n",
       "   이용편리지표  target  kmeansP  hierarchicalP  \n",
       "0    30.0       0        3              1  \n",
       "1     5.0       0        0              0  \n",
       "2     2.5       1        4              0  "
      ]
     },
     "execution_count": 63,
     "metadata": {},
     "output_type": "execute_result"
    }
   ],
   "source": [
    "hjd_df['hierarchicalP'] = cluster.fit_predict(data)\n",
    "hjd_df.head(3)"
   ]
  },
  {
   "cell_type": "code",
   "execution_count": 64,
   "metadata": {
    "colab": {
     "base_uri": "https://localhost:8080/",
     "height": 484
    },
    "executionInfo": {
     "elapsed": 386,
     "status": "ok",
     "timestamp": 1629015254041,
     "user": {
      "displayName": "유시은",
      "photoUrl": "https://lh3.googleusercontent.com/a-/AOh14GiINDuzaV-cAv9Kwf1Htu_t0-56HkcKTbbDUSDg=s64",
      "userId": "14794011926463584766"
     },
     "user_tz": -540
    },
    "id": "K6zNKvJxzmH3",
    "outputId": "37f5c77b-f842-401e-fe74-a6b6508af7ce"
   },
   "outputs": [
    {
     "data": {
      "text/html": [
       "<div>\n",
       "<style scoped>\n",
       "    .dataframe tbody tr th:only-of-type {\n",
       "        vertical-align: middle;\n",
       "    }\n",
       "\n",
       "    .dataframe tbody tr th {\n",
       "        vertical-align: top;\n",
       "    }\n",
       "\n",
       "    .dataframe thead th {\n",
       "        text-align: right;\n",
       "    }\n",
       "</style>\n",
       "<table border=\"1\" class=\"dataframe\">\n",
       "  <thead>\n",
       "    <tr style=\"text-align: right;\">\n",
       "      <th></th>\n",
       "      <th>행정동코드</th>\n",
       "      <th>읍면동코드</th>\n",
       "      <th>자치행정동</th>\n",
       "      <th>자치구</th>\n",
       "      <th>행정동</th>\n",
       "      <th>거주인구수</th>\n",
       "      <th>낮생활인구비율</th>\n",
       "      <th>총노인시설수</th>\n",
       "      <th>접근성지표</th>\n",
       "      <th>이용편리지표</th>\n",
       "      <th>target</th>\n",
       "      <th>kmeansP</th>\n",
       "      <th>hierarchicalP</th>\n",
       "    </tr>\n",
       "  </thead>\n",
       "  <tbody>\n",
       "    <tr>\n",
       "      <th>2</th>\n",
       "      <td>11110550</td>\n",
       "      <td>1101055</td>\n",
       "      <td>종로구 부암동</td>\n",
       "      <td>종로구</td>\n",
       "      <td>부암동</td>\n",
       "      <td>1763</td>\n",
       "      <td>0.064248</td>\n",
       "      <td>1</td>\n",
       "      <td>7.574081</td>\n",
       "      <td>2.5</td>\n",
       "      <td>1</td>\n",
       "      <td>4</td>\n",
       "      <td>0</td>\n",
       "    </tr>\n",
       "    <tr>\n",
       "      <th>69</th>\n",
       "      <td>11215760</td>\n",
       "      <td>1105057</td>\n",
       "      <td>광진구 중곡3동</td>\n",
       "      <td>광진구</td>\n",
       "      <td>중곡3동</td>\n",
       "      <td>2793</td>\n",
       "      <td>0.069232</td>\n",
       "      <td>1</td>\n",
       "      <td>6.141288</td>\n",
       "      <td>2.5</td>\n",
       "      <td>1</td>\n",
       "      <td>4</td>\n",
       "      <td>0</td>\n",
       "    </tr>\n",
       "    <tr>\n",
       "      <th>86</th>\n",
       "      <td>11230560</td>\n",
       "      <td>1106083</td>\n",
       "      <td>동대문구 전농1동</td>\n",
       "      <td>동대문구</td>\n",
       "      <td>전농1동</td>\n",
       "      <td>5478</td>\n",
       "      <td>0.070116</td>\n",
       "      <td>2</td>\n",
       "      <td>29.408644</td>\n",
       "      <td>5.0</td>\n",
       "      <td>1</td>\n",
       "      <td>2</td>\n",
       "      <td>0</td>\n",
       "    </tr>\n",
       "    <tr>\n",
       "      <th>104</th>\n",
       "      <td>11260660</td>\n",
       "      <td>1107068</td>\n",
       "      <td>중랑구 망우3동</td>\n",
       "      <td>중랑구</td>\n",
       "      <td>망우3동</td>\n",
       "      <td>3331</td>\n",
       "      <td>0.071612</td>\n",
       "      <td>2</td>\n",
       "      <td>5.219833</td>\n",
       "      <td>10.0</td>\n",
       "      <td>1</td>\n",
       "      <td>2</td>\n",
       "      <td>0</td>\n",
       "    </tr>\n",
       "    <tr>\n",
       "      <th>110</th>\n",
       "      <td>11290580</td>\n",
       "      <td>1108058</td>\n",
       "      <td>성북구 돈암1동</td>\n",
       "      <td>성북구</td>\n",
       "      <td>돈암1동</td>\n",
       "      <td>2845</td>\n",
       "      <td>0.072408</td>\n",
       "      <td>1</td>\n",
       "      <td>7.842188</td>\n",
       "      <td>0.0</td>\n",
       "      <td>1</td>\n",
       "      <td>4</td>\n",
       "      <td>0</td>\n",
       "    </tr>\n",
       "    <tr>\n",
       "      <th>123</th>\n",
       "      <td>11290770</td>\n",
       "      <td>1108077</td>\n",
       "      <td>성북구 장위2동</td>\n",
       "      <td>성북구</td>\n",
       "      <td>장위2동</td>\n",
       "      <td>3065</td>\n",
       "      <td>0.076337</td>\n",
       "      <td>1</td>\n",
       "      <td>9.430095</td>\n",
       "      <td>5.0</td>\n",
       "      <td>1</td>\n",
       "      <td>4</td>\n",
       "      <td>0</td>\n",
       "    </tr>\n",
       "    <tr>\n",
       "      <th>191</th>\n",
       "      <td>11380625</td>\n",
       "      <td>1112074</td>\n",
       "      <td>은평구 역촌동</td>\n",
       "      <td>은평구</td>\n",
       "      <td>역촌동</td>\n",
       "      <td>8267</td>\n",
       "      <td>0.059541</td>\n",
       "      <td>3</td>\n",
       "      <td>10.657260</td>\n",
       "      <td>5.0</td>\n",
       "      <td>1</td>\n",
       "      <td>4</td>\n",
       "      <td>0</td>\n",
       "    </tr>\n",
       "    <tr>\n",
       "      <th>194</th>\n",
       "      <td>11410640</td>\n",
       "      <td>1113064</td>\n",
       "      <td>서대문구 홍제3동</td>\n",
       "      <td>서대문구</td>\n",
       "      <td>홍제3동</td>\n",
       "      <td>3617</td>\n",
       "      <td>0.077748</td>\n",
       "      <td>2</td>\n",
       "      <td>8.889985</td>\n",
       "      <td>10.0</td>\n",
       "      <td>1</td>\n",
       "      <td>2</td>\n",
       "      <td>0</td>\n",
       "    </tr>\n",
       "    <tr>\n",
       "      <th>328</th>\n",
       "      <td>11620665</td>\n",
       "      <td>1121066</td>\n",
       "      <td>관악구 서림동</td>\n",
       "      <td>관악구</td>\n",
       "      <td>서림동</td>\n",
       "      <td>3458</td>\n",
       "      <td>0.055268</td>\n",
       "      <td>1</td>\n",
       "      <td>6.357287</td>\n",
       "      <td>0.0</td>\n",
       "      <td>1</td>\n",
       "      <td>4</td>\n",
       "      <td>0</td>\n",
       "    </tr>\n",
       "    <tr>\n",
       "      <th>345</th>\n",
       "      <td>11650550</td>\n",
       "      <td>1122056</td>\n",
       "      <td>서초구 반포본동</td>\n",
       "      <td>서초구</td>\n",
       "      <td>반포본동</td>\n",
       "      <td>1867</td>\n",
       "      <td>0.064034</td>\n",
       "      <td>1</td>\n",
       "      <td>9.202020</td>\n",
       "      <td>5.0</td>\n",
       "      <td>1</td>\n",
       "      <td>4</td>\n",
       "      <td>0</td>\n",
       "    </tr>\n",
       "    <tr>\n",
       "      <th>372</th>\n",
       "      <td>11680730</td>\n",
       "      <td>1123073</td>\n",
       "      <td>강남구 일원1동</td>\n",
       "      <td>강남구</td>\n",
       "      <td>일원1동</td>\n",
       "      <td>3196</td>\n",
       "      <td>0.071993</td>\n",
       "      <td>2</td>\n",
       "      <td>6.632985</td>\n",
       "      <td>15.0</td>\n",
       "      <td>1</td>\n",
       "      <td>2</td>\n",
       "      <td>0</td>\n",
       "    </tr>\n",
       "    <tr>\n",
       "      <th>388</th>\n",
       "      <td>11710566</td>\n",
       "      <td>1124059</td>\n",
       "      <td>송파구 오륜동</td>\n",
       "      <td>송파구</td>\n",
       "      <td>오륜동</td>\n",
       "      <td>2681</td>\n",
       "      <td>0.071070</td>\n",
       "      <td>2</td>\n",
       "      <td>17.673212</td>\n",
       "      <td>2.5</td>\n",
       "      <td>1</td>\n",
       "      <td>4</td>\n",
       "      <td>0</td>\n",
       "    </tr>\n",
       "    <tr>\n",
       "      <th>402</th>\n",
       "      <td>11710720</td>\n",
       "      <td>1124078</td>\n",
       "      <td>송파구 잠실7동</td>\n",
       "      <td>송파구</td>\n",
       "      <td>잠실7동</td>\n",
       "      <td>2113</td>\n",
       "      <td>0.077456</td>\n",
       "      <td>2</td>\n",
       "      <td>14.760803</td>\n",
       "      <td>5.0</td>\n",
       "      <td>1</td>\n",
       "      <td>2</td>\n",
       "      <td>0</td>\n",
       "    </tr>\n",
       "    <tr>\n",
       "      <th>419</th>\n",
       "      <td>11740660</td>\n",
       "      <td>1125067</td>\n",
       "      <td>강동구 성내3동</td>\n",
       "      <td>강동구</td>\n",
       "      <td>성내3동</td>\n",
       "      <td>3711</td>\n",
       "      <td>0.063769</td>\n",
       "      <td>1</td>\n",
       "      <td>10.088676</td>\n",
       "      <td>5.0</td>\n",
       "      <td>1</td>\n",
       "      <td>4</td>\n",
       "      <td>0</td>\n",
       "    </tr>\n",
       "  </tbody>\n",
       "</table>\n",
       "</div>"
      ],
      "text/plain": [
       "        행정동코드    읍면동코드      자치행정동   자치구   행정동  거주인구수   낮생활인구비율  총노인시설수  \\\n",
       "2    11110550  1101055    종로구 부암동   종로구   부암동   1763  0.064248       1   \n",
       "69   11215760  1105057   광진구 중곡3동   광진구  중곡3동   2793  0.069232       1   \n",
       "86   11230560  1106083  동대문구 전농1동  동대문구  전농1동   5478  0.070116       2   \n",
       "104  11260660  1107068   중랑구 망우3동   중랑구  망우3동   3331  0.071612       2   \n",
       "110  11290580  1108058   성북구 돈암1동   성북구  돈암1동   2845  0.072408       1   \n",
       "123  11290770  1108077   성북구 장위2동   성북구  장위2동   3065  0.076337       1   \n",
       "191  11380625  1112074    은평구 역촌동   은평구   역촌동   8267  0.059541       3   \n",
       "194  11410640  1113064  서대문구 홍제3동  서대문구  홍제3동   3617  0.077748       2   \n",
       "328  11620665  1121066    관악구 서림동   관악구   서림동   3458  0.055268       1   \n",
       "345  11650550  1122056   서초구 반포본동   서초구  반포본동   1867  0.064034       1   \n",
       "372  11680730  1123073   강남구 일원1동   강남구  일원1동   3196  0.071993       2   \n",
       "388  11710566  1124059    송파구 오륜동   송파구   오륜동   2681  0.071070       2   \n",
       "402  11710720  1124078   송파구 잠실7동   송파구  잠실7동   2113  0.077456       2   \n",
       "419  11740660  1125067   강동구 성내3동   강동구  성내3동   3711  0.063769       1   \n",
       "\n",
       "         접근성지표  이용편리지표  target  kmeansP  hierarchicalP  \n",
       "2     7.574081     2.5       1        4              0  \n",
       "69    6.141288     2.5       1        4              0  \n",
       "86   29.408644     5.0       1        2              0  \n",
       "104   5.219833    10.0       1        2              0  \n",
       "110   7.842188     0.0       1        4              0  \n",
       "123   9.430095     5.0       1        4              0  \n",
       "191  10.657260     5.0       1        4              0  \n",
       "194   8.889985    10.0       1        2              0  \n",
       "328   6.357287     0.0       1        4              0  \n",
       "345   9.202020     5.0       1        4              0  \n",
       "372   6.632985    15.0       1        2              0  \n",
       "388  17.673212     2.5       1        4              0  \n",
       "402  14.760803     5.0       1        2              0  \n",
       "419  10.088676     5.0       1        4              0  "
      ]
     },
     "execution_count": 64,
     "metadata": {},
     "output_type": "execute_result"
    }
   ],
   "source": [
    "hjd_df[hjd_df['target']==1]"
   ]
  },
  {
   "cell_type": "code",
   "execution_count": 65,
   "metadata": {
    "colab": {
     "base_uri": "https://localhost:8080/",
     "height": 484
    },
    "executionInfo": {
     "elapsed": 400,
     "status": "ok",
     "timestamp": 1629015278362,
     "user": {
      "displayName": "유시은",
      "photoUrl": "https://lh3.googleusercontent.com/a-/AOh14GiINDuzaV-cAv9Kwf1Htu_t0-56HkcKTbbDUSDg=s64",
      "userId": "14794011926463584766"
     },
     "user_tz": -540
    },
    "id": "INoLVF38zmE2",
    "outputId": "fbdf431a-11b8-4645-8305-e2d3d7701712"
   },
   "outputs": [
    {
     "data": {
      "text/html": [
       "<div>\n",
       "<style scoped>\n",
       "    .dataframe tbody tr th:only-of-type {\n",
       "        vertical-align: middle;\n",
       "    }\n",
       "\n",
       "    .dataframe tbody tr th {\n",
       "        vertical-align: top;\n",
       "    }\n",
       "\n",
       "    .dataframe thead th {\n",
       "        text-align: right;\n",
       "    }\n",
       "</style>\n",
       "<table border=\"1\" class=\"dataframe\">\n",
       "  <thead>\n",
       "    <tr style=\"text-align: right;\">\n",
       "      <th></th>\n",
       "      <th>행정동코드</th>\n",
       "      <th>읍면동코드</th>\n",
       "      <th>자치행정동</th>\n",
       "      <th>자치구</th>\n",
       "      <th>행정동</th>\n",
       "    </tr>\n",
       "  </thead>\n",
       "  <tbody>\n",
       "    <tr>\n",
       "      <th>0</th>\n",
       "      <td>11110550</td>\n",
       "      <td>1101055</td>\n",
       "      <td>종로구 부암동</td>\n",
       "      <td>종로구</td>\n",
       "      <td>부암동</td>\n",
       "    </tr>\n",
       "    <tr>\n",
       "      <th>1</th>\n",
       "      <td>11215760</td>\n",
       "      <td>1105057</td>\n",
       "      <td>광진구 중곡3동</td>\n",
       "      <td>광진구</td>\n",
       "      <td>중곡3동</td>\n",
       "    </tr>\n",
       "    <tr>\n",
       "      <th>2</th>\n",
       "      <td>11230560</td>\n",
       "      <td>1106083</td>\n",
       "      <td>동대문구 전농1동</td>\n",
       "      <td>동대문구</td>\n",
       "      <td>전농1동</td>\n",
       "    </tr>\n",
       "    <tr>\n",
       "      <th>3</th>\n",
       "      <td>11260660</td>\n",
       "      <td>1107068</td>\n",
       "      <td>중랑구 망우3동</td>\n",
       "      <td>중랑구</td>\n",
       "      <td>망우3동</td>\n",
       "    </tr>\n",
       "    <tr>\n",
       "      <th>4</th>\n",
       "      <td>11290580</td>\n",
       "      <td>1108058</td>\n",
       "      <td>성북구 돈암1동</td>\n",
       "      <td>성북구</td>\n",
       "      <td>돈암1동</td>\n",
       "    </tr>\n",
       "    <tr>\n",
       "      <th>5</th>\n",
       "      <td>11290770</td>\n",
       "      <td>1108077</td>\n",
       "      <td>성북구 장위2동</td>\n",
       "      <td>성북구</td>\n",
       "      <td>장위2동</td>\n",
       "    </tr>\n",
       "    <tr>\n",
       "      <th>6</th>\n",
       "      <td>11380625</td>\n",
       "      <td>1112074</td>\n",
       "      <td>은평구 역촌동</td>\n",
       "      <td>은평구</td>\n",
       "      <td>역촌동</td>\n",
       "    </tr>\n",
       "    <tr>\n",
       "      <th>7</th>\n",
       "      <td>11410640</td>\n",
       "      <td>1113064</td>\n",
       "      <td>서대문구 홍제3동</td>\n",
       "      <td>서대문구</td>\n",
       "      <td>홍제3동</td>\n",
       "    </tr>\n",
       "    <tr>\n",
       "      <th>8</th>\n",
       "      <td>11620665</td>\n",
       "      <td>1121066</td>\n",
       "      <td>관악구 서림동</td>\n",
       "      <td>관악구</td>\n",
       "      <td>서림동</td>\n",
       "    </tr>\n",
       "    <tr>\n",
       "      <th>9</th>\n",
       "      <td>11650550</td>\n",
       "      <td>1122056</td>\n",
       "      <td>서초구 반포본동</td>\n",
       "      <td>서초구</td>\n",
       "      <td>반포본동</td>\n",
       "    </tr>\n",
       "    <tr>\n",
       "      <th>10</th>\n",
       "      <td>11680730</td>\n",
       "      <td>1123073</td>\n",
       "      <td>강남구 일원1동</td>\n",
       "      <td>강남구</td>\n",
       "      <td>일원1동</td>\n",
       "    </tr>\n",
       "    <tr>\n",
       "      <th>11</th>\n",
       "      <td>11710566</td>\n",
       "      <td>1124059</td>\n",
       "      <td>송파구 오륜동</td>\n",
       "      <td>송파구</td>\n",
       "      <td>오륜동</td>\n",
       "    </tr>\n",
       "    <tr>\n",
       "      <th>12</th>\n",
       "      <td>11710720</td>\n",
       "      <td>1124078</td>\n",
       "      <td>송파구 잠실7동</td>\n",
       "      <td>송파구</td>\n",
       "      <td>잠실7동</td>\n",
       "    </tr>\n",
       "    <tr>\n",
       "      <th>13</th>\n",
       "      <td>11740660</td>\n",
       "      <td>1125067</td>\n",
       "      <td>강동구 성내3동</td>\n",
       "      <td>강동구</td>\n",
       "      <td>성내3동</td>\n",
       "    </tr>\n",
       "  </tbody>\n",
       "</table>\n",
       "</div>"
      ],
      "text/plain": [
       "       행정동코드    읍면동코드      자치행정동   자치구   행정동\n",
       "0   11110550  1101055    종로구 부암동   종로구   부암동\n",
       "1   11215760  1105057   광진구 중곡3동   광진구  중곡3동\n",
       "2   11230560  1106083  동대문구 전농1동  동대문구  전농1동\n",
       "3   11260660  1107068   중랑구 망우3동   중랑구  망우3동\n",
       "4   11290580  1108058   성북구 돈암1동   성북구  돈암1동\n",
       "5   11290770  1108077   성북구 장위2동   성북구  장위2동\n",
       "6   11380625  1112074    은평구 역촌동   은평구   역촌동\n",
       "7   11410640  1113064  서대문구 홍제3동  서대문구  홍제3동\n",
       "8   11620665  1121066    관악구 서림동   관악구   서림동\n",
       "9   11650550  1122056   서초구 반포본동   서초구  반포본동\n",
       "10  11680730  1123073   강남구 일원1동   강남구  일원1동\n",
       "11  11710566  1124059    송파구 오륜동   송파구   오륜동\n",
       "12  11710720  1124078   송파구 잠실7동   송파구  잠실7동\n",
       "13  11740660  1125067   강동구 성내3동   강동구  성내3동"
      ]
     },
     "execution_count": 65,
     "metadata": {},
     "output_type": "execute_result"
    }
   ],
   "source": [
    "hjd_final = hjd_df.loc[(hjd_df['target']==1) & (hjd_df['hierarchicalP']==0)]\n",
    "hjd_final.reset_index(drop=True,inplace=True)\n",
    "hjd_final = hjd_final[['행정동코드','읍면동코드','자치행정동','자치구','행정동']]\n",
    "hjd_final"
   ]
  },
  {
   "cell_type": "code",
   "execution_count": 66,
   "metadata": {
    "id": "NL3akitE3yT-"
   },
   "outputs": [],
   "source": [
    "hjd_final.to_csv(\"./data/최종행정동.csv\",encoding='cp949', index=False)"
   ]
  },
  {
   "cell_type": "markdown",
   "metadata": {
    "id": "LyMP0iF_lQaL"
   },
   "source": [
    "# 5. meanshift"
   ]
  },
  {
   "cell_type": "code",
   "execution_count": 67,
   "metadata": {
    "colab": {
     "base_uri": "https://localhost:8080/",
     "height": 420
    },
    "executionInfo": {
     "elapsed": 460,
     "status": "ok",
     "timestamp": 1629019465461,
     "user": {
      "displayName": "유시은",
      "photoUrl": "https://lh3.googleusercontent.com/a-/AOh14GiINDuzaV-cAv9Kwf1Htu_t0-56HkcKTbbDUSDg=s64",
      "userId": "14794011926463584766"
     },
     "user_tz": -540
    },
    "id": "CxyEA80G4PlX",
    "outputId": "e7470fe3-8d21-40c9-9c02-50ab4f286f8a"
   },
   "outputs": [
    {
     "name": "stdout",
     "output_type": "stream",
     "text": [
      "(425, 3)\n"
     ]
    },
    {
     "data": {
      "text/html": [
       "<div>\n",
       "<style scoped>\n",
       "    .dataframe tbody tr th:only-of-type {\n",
       "        vertical-align: middle;\n",
       "    }\n",
       "\n",
       "    .dataframe tbody tr th {\n",
       "        vertical-align: top;\n",
       "    }\n",
       "\n",
       "    .dataframe thead th {\n",
       "        text-align: right;\n",
       "    }\n",
       "</style>\n",
       "<table border=\"1\" class=\"dataframe\">\n",
       "  <thead>\n",
       "    <tr style=\"text-align: right;\">\n",
       "      <th></th>\n",
       "      <th>pca1</th>\n",
       "      <th>pca2</th>\n",
       "      <th>pca3</th>\n",
       "    </tr>\n",
       "  </thead>\n",
       "  <tbody>\n",
       "    <tr>\n",
       "      <th>0</th>\n",
       "      <td>26.912113</td>\n",
       "      <td>-45.634861</td>\n",
       "      <td>3.936217</td>\n",
       "    </tr>\n",
       "    <tr>\n",
       "      <th>1</th>\n",
       "      <td>-11.742670</td>\n",
       "      <td>-17.033084</td>\n",
       "      <td>-19.474290</td>\n",
       "    </tr>\n",
       "    <tr>\n",
       "      <th>2</th>\n",
       "      <td>-19.277146</td>\n",
       "      <td>-11.857675</td>\n",
       "      <td>-5.197152</td>\n",
       "    </tr>\n",
       "  </tbody>\n",
       "</table>\n",
       "</div>"
      ],
      "text/plain": [
       "        pca1       pca2       pca3\n",
       "0  26.912113 -45.634861   3.936217\n",
       "1 -11.742670 -17.033084 -19.474290\n",
       "2 -19.277146 -11.857675  -5.197152"
      ]
     },
     "execution_count": 67,
     "metadata": {},
     "output_type": "execute_result"
    }
   ],
   "source": [
    "X = clu_data.iloc[:,4:]\n",
    "print(X.shape)\n",
    "X.head(3)"
   ]
  },
  {
   "cell_type": "code",
   "execution_count": 68,
   "metadata": {
    "colab": {
     "base_uri": "https://localhost:8080/"
    },
    "executionInfo": {
     "elapsed": 3,
     "status": "ok",
     "timestamp": 1629019466007,
     "user": {
      "displayName": "유시은",
      "photoUrl": "https://lh3.googleusercontent.com/a-/AOh14GiINDuzaV-cAv9Kwf1Htu_t0-56HkcKTbbDUSDg=s64",
      "userId": "14794011926463584766"
     },
     "user_tz": -540
    },
    "id": "IUINKP2uCZ-r",
    "outputId": "4ebb4adb-24b5-47e3-8eb3-37be24c7b327"
   },
   "outputs": [
    {
     "name": "stdout",
     "output_type": "stream",
     "text": [
      "bandwidth 값: 25.974\n"
     ]
    }
   ],
   "source": [
    "from sklearn.cluster import estimate_bandwidth\n",
    "\n",
    "bandwidth = estimate_bandwidth(X)\n",
    "print('bandwidth 값:', round(bandwidth,3))"
   ]
  },
  {
   "cell_type": "code",
   "execution_count": 69,
   "metadata": {
    "colab": {
     "base_uri": "https://localhost:8080/"
    },
    "executionInfo": {
     "elapsed": 2313,
     "status": "ok",
     "timestamp": 1629019468700,
     "user": {
      "displayName": "유시은",
      "photoUrl": "https://lh3.googleusercontent.com/a-/AOh14GiINDuzaV-cAv9Kwf1Htu_t0-56HkcKTbbDUSDg=s64",
      "userId": "14794011926463584766"
     },
     "user_tz": -540
    },
    "id": "iWzhVIKTBI_N",
    "outputId": "00c85d65-39ad-4b10-8910-95ae122f67c3"
   },
   "outputs": [
    {
     "name": "stdout",
     "output_type": "stream",
     "text": [
      "cluster labels 유형: [0 1 2 3 4 5 6]\n"
     ]
    }
   ],
   "source": [
    "from sklearn.cluster import MeanShift\n",
    "\n",
    "meanshift= MeanShift(bandwidth=25.974)\n",
    "cluster_labels = meanshift.fit_predict(X)\n",
    "print('cluster labels 유형:', np.unique(cluster_labels))"
   ]
  },
  {
   "cell_type": "code",
   "execution_count": 70,
   "metadata": {
    "colab": {
     "base_uri": "https://localhost:8080/"
    },
    "executionInfo": {
     "elapsed": 1981,
     "status": "ok",
     "timestamp": 1629019470677,
     "user": {
      "displayName": "유시은",
      "photoUrl": "https://lh3.googleusercontent.com/a-/AOh14GiINDuzaV-cAv9Kwf1Htu_t0-56HkcKTbbDUSDg=s64",
      "userId": "14794011926463584766"
     },
     "user_tz": -540
    },
    "id": "Kd97JvruGPhe",
    "outputId": "a171fd25-a80f-46b8-b66f-1f8de0a62086"
   },
   "outputs": [
    {
     "name": "stdout",
     "output_type": "stream",
     "text": [
      "cluster labels 유형: [0 1 2 3 4 5 6]\n"
     ]
    }
   ],
   "source": [
    "import pandas as pd\n",
    "\n",
    "clusterDF = X\n",
    "clusterDF['y'] = y\n",
    "\n",
    "# estimate_bandwidth()로 최적의 bandwidth 계산\n",
    "best_bandwidth = estimate_bandwidth(X)\n",
    "\n",
    "meanshift= MeanShift(bandwidth=25.974)\n",
    "cluster_labels = meanshift.fit_predict(X)\n",
    "print('cluster labels 유형:',np.unique(cluster_labels))    "
   ]
  },
  {
   "cell_type": "code",
   "execution_count": 71,
   "metadata": {
    "colab": {
     "base_uri": "https://localhost:8080/",
     "height": 420
    },
    "executionInfo": {
     "elapsed": 10,
     "status": "ok",
     "timestamp": 1629019470678,
     "user": {
      "displayName": "유시은",
      "photoUrl": "https://lh3.googleusercontent.com/a-/AOh14GiINDuzaV-cAv9Kwf1Htu_t0-56HkcKTbbDUSDg=s64",
      "userId": "14794011926463584766"
     },
     "user_tz": -540
    },
    "id": "q5eNc-UgGcdK",
    "outputId": "bd1b934a-6c94-4fbe-9f32-4fc28340fc7d"
   },
   "outputs": [
    {
     "name": "stdout",
     "output_type": "stream",
     "text": [
      "(425, 4)\n"
     ]
    },
    {
     "data": {
      "text/html": [
       "<div>\n",
       "<style scoped>\n",
       "    .dataframe tbody tr th:only-of-type {\n",
       "        vertical-align: middle;\n",
       "    }\n",
       "\n",
       "    .dataframe tbody tr th {\n",
       "        vertical-align: top;\n",
       "    }\n",
       "\n",
       "    .dataframe thead th {\n",
       "        text-align: right;\n",
       "    }\n",
       "</style>\n",
       "<table border=\"1\" class=\"dataframe\">\n",
       "  <thead>\n",
       "    <tr style=\"text-align: right;\">\n",
       "      <th></th>\n",
       "      <th>pca1</th>\n",
       "      <th>pca2</th>\n",
       "      <th>pca3</th>\n",
       "      <th>y</th>\n",
       "    </tr>\n",
       "  </thead>\n",
       "  <tbody>\n",
       "    <tr>\n",
       "      <th>0</th>\n",
       "      <td>26.912113</td>\n",
       "      <td>-45.634861</td>\n",
       "      <td>3.936217</td>\n",
       "      <td>0</td>\n",
       "    </tr>\n",
       "    <tr>\n",
       "      <th>1</th>\n",
       "      <td>-11.742670</td>\n",
       "      <td>-17.033084</td>\n",
       "      <td>-19.474290</td>\n",
       "      <td>0</td>\n",
       "    </tr>\n",
       "    <tr>\n",
       "      <th>2</th>\n",
       "      <td>-19.277146</td>\n",
       "      <td>-11.857675</td>\n",
       "      <td>-5.197152</td>\n",
       "      <td>1</td>\n",
       "    </tr>\n",
       "  </tbody>\n",
       "</table>\n",
       "</div>"
      ],
      "text/plain": [
       "        pca1       pca2       pca3  y\n",
       "0  26.912113 -45.634861   3.936217  0\n",
       "1 -11.742670 -17.033084 -19.474290  0\n",
       "2 -19.277146 -11.857675  -5.197152  1"
      ]
     },
     "execution_count": 71,
     "metadata": {},
     "output_type": "execute_result"
    }
   ],
   "source": [
    "print(clusterDF.shape)\n",
    "clusterDF.head(3)"
   ]
  },
  {
   "cell_type": "code",
   "execution_count": 72,
   "metadata": {
    "colab": {
     "base_uri": "https://localhost:8080/",
     "height": 418
    },
    "executionInfo": {
     "elapsed": 8,
     "status": "ok",
     "timestamp": 1629019470679,
     "user": {
      "displayName": "유시은",
      "photoUrl": "https://lh3.googleusercontent.com/a-/AOh14GiINDuzaV-cAv9Kwf1Htu_t0-56HkcKTbbDUSDg=s64",
      "userId": "14794011926463584766"
     },
     "user_tz": -540
    },
    "id": "WQaIeO9Q4777",
    "outputId": "54b29c88-77bb-4bc7-cb29-af200b010592"
   },
   "outputs": [
    {
     "name": "stdout",
     "output_type": "stream",
     "text": [
      "(425, 5)\n"
     ]
    },
    {
     "data": {
      "text/html": [
       "<div>\n",
       "<style scoped>\n",
       "    .dataframe tbody tr th:only-of-type {\n",
       "        vertical-align: middle;\n",
       "    }\n",
       "\n",
       "    .dataframe tbody tr th {\n",
       "        vertical-align: top;\n",
       "    }\n",
       "\n",
       "    .dataframe thead th {\n",
       "        text-align: right;\n",
       "    }\n",
       "</style>\n",
       "<table border=\"1\" class=\"dataframe\">\n",
       "  <thead>\n",
       "    <tr style=\"text-align: right;\">\n",
       "      <th></th>\n",
       "      <th>pca1</th>\n",
       "      <th>pca2</th>\n",
       "      <th>pca3</th>\n",
       "      <th>y</th>\n",
       "      <th>p</th>\n",
       "    </tr>\n",
       "  </thead>\n",
       "  <tbody>\n",
       "    <tr>\n",
       "      <th>0</th>\n",
       "      <td>26.912113</td>\n",
       "      <td>-45.634861</td>\n",
       "      <td>3.936217</td>\n",
       "      <td>0</td>\n",
       "      <td>2</td>\n",
       "    </tr>\n",
       "    <tr>\n",
       "      <th>1</th>\n",
       "      <td>-11.742670</td>\n",
       "      <td>-17.033084</td>\n",
       "      <td>-19.474290</td>\n",
       "      <td>0</td>\n",
       "      <td>0</td>\n",
       "    </tr>\n",
       "    <tr>\n",
       "      <th>2</th>\n",
       "      <td>-19.277146</td>\n",
       "      <td>-11.857675</td>\n",
       "      <td>-5.197152</td>\n",
       "      <td>1</td>\n",
       "      <td>0</td>\n",
       "    </tr>\n",
       "  </tbody>\n",
       "</table>\n",
       "</div>"
      ],
      "text/plain": [
       "        pca1       pca2       pca3  y  p\n",
       "0  26.912113 -45.634861   3.936217  0  2\n",
       "1 -11.742670 -17.033084 -19.474290  0  0\n",
       "2 -19.277146 -11.857675  -5.197152  1  0"
      ]
     },
     "execution_count": 72,
     "metadata": {},
     "output_type": "execute_result"
    }
   ],
   "source": [
    "plot_df = X\n",
    "# plot_df['y'] = y\n",
    "plot_df['p'] = cluster_labels\n",
    "print(plot_df.shape)\n",
    "plot_df.head(3)"
   ]
  },
  {
   "cell_type": "code",
   "execution_count": 73,
   "metadata": {
    "id": "zlNlTVUB5Qx9"
   },
   "outputs": [],
   "source": [
    "plot_df1 = plot_df[plot_df['y']==0]\n",
    "plot_df2 = plot_df[plot_df['y']==1]\n",
    "\n",
    "plot_df_c1 = plot_df[plot_df['p']==0]\n",
    "plot_df_c2 = plot_df[plot_df['p']==1]\n",
    "plot_df_c3 = plot_df[plot_df['p']==2]\n",
    "plot_df_c4 = plot_df[plot_df['p']==3]\n",
    "plot_df_c5 = plot_df[plot_df['p']==4]"
   ]
  },
  {
   "cell_type": "code",
   "execution_count": 74,
   "metadata": {
    "colab": {
     "base_uri": "https://localhost:8080/",
     "height": 414
    },
    "executionInfo": {
     "elapsed": 1115,
     "status": "ok",
     "timestamp": 1629019503750,
     "user": {
      "displayName": "유시은",
      "photoUrl": "https://lh3.googleusercontent.com/a-/AOh14GiINDuzaV-cAv9Kwf1Htu_t0-56HkcKTbbDUSDg=s64",
      "userId": "14794011926463584766"
     },
     "user_tz": -540
    },
    "id": "77QdVx5n5UsW",
    "outputId": "652ecf88-6006-46b7-ee38-0a3290d5d43a"
   },
   "outputs": [
    {
     "data": {
      "text/plain": [
       "<matplotlib.collections.PathCollection at 0x1cf10c4f6a0>"
      ]
     },
     "execution_count": 74,
     "metadata": {},
     "output_type": "execute_result"
    },
    {
     "data": {
      "image/png": "[encoded data removed]",
      "text/plain": [
       "<Figure size 720x432 with 2 Axes>"
      ]
     },
     "metadata": {
      "needs_background": "light"
     },
     "output_type": "display_data"
    }
   ],
   "source": [
    "plt.figure(figsize=[10,6])\n",
    "\n",
    "plt.subplot(1,2,1)\n",
    "plt.title('target', fontsize=20)\n",
    "\n",
    "plt.scatter(plot_df1['pca1'], plot_df1['pca2'], c=\"silver\", s=60)\n",
    "plt.scatter(plot_df2['pca1'], plot_df2['pca2'], c=\"tomato\", s=60)\n",
    "# plt.colorbar()\n",
    "\n",
    "plt.subplot(1,2,2)\n",
    "plt.title('MeanShift Clustering', fontsize=20)\n",
    "plt.scatter(plot_df_c1['pca1'], plot_df_c1['pca2'], c=\"tomato\", s=60)\n",
    "plt.scatter(plot_df_c2['pca1'], plot_df_c2['pca2'], c=\"limegreen\", s=60)\n",
    "plt.scatter(plot_df_c3['pca1'], plot_df_c3['pca2'], c=\"orange\", s=60)\n",
    "plt.scatter(plot_df_c4['pca1'], plot_df_c4['pca2'], c=\"gold\", s=60)\n",
    "plt.scatter(plot_df_c5['pca1'], plot_df_c5['pca2'], c=\"skyblue\", s=60)\n",
    "# plt.colorbar()"
   ]
  },
  {
   "cell_type": "code",
   "execution_count": 75,
   "metadata": {
    "id": "lZprcpoeIfhp"
   },
   "outputs": [],
   "source": [
    "hjd_df['MSP'] = plot_df['p']"
   ]
  },
  {
   "cell_type": "code",
   "execution_count": 76,
   "metadata": {
    "colab": {
     "base_uri": "https://localhost:8080/",
     "height": 482
    },
    "executionInfo": {
     "elapsed": 375,
     "status": "ok",
     "timestamp": 1629019646500,
     "user": {
      "displayName": "유시은",
      "photoUrl": "https://lh3.googleusercontent.com/a-/AOh14GiINDuzaV-cAv9Kwf1Htu_t0-56HkcKTbbDUSDg=s64",
      "userId": "14794011926463584766"
     },
     "user_tz": -540
    },
    "id": "i_NDMeE4G-t9",
    "outputId": "67ef7eeb-86a7-4dda-dba1-6e5236754de3"
   },
   "outputs": [
    {
     "data": {
      "text/html": [
       "<div>\n",
       "<style scoped>\n",
       "    .dataframe tbody tr th:only-of-type {\n",
       "        vertical-align: middle;\n",
       "    }\n",
       "\n",
       "    .dataframe tbody tr th {\n",
       "        vertical-align: top;\n",
       "    }\n",
       "\n",
       "    .dataframe thead th {\n",
       "        text-align: right;\n",
       "    }\n",
       "</style>\n",
       "<table border=\"1\" class=\"dataframe\">\n",
       "  <thead>\n",
       "    <tr style=\"text-align: right;\">\n",
       "      <th></th>\n",
       "      <th>행정동코드</th>\n",
       "      <th>읍면동코드</th>\n",
       "      <th>자치행정동</th>\n",
       "      <th>자치구</th>\n",
       "      <th>행정동</th>\n",
       "    </tr>\n",
       "  </thead>\n",
       "  <tbody>\n",
       "    <tr>\n",
       "      <th>0</th>\n",
       "      <td>11110550</td>\n",
       "      <td>1101055</td>\n",
       "      <td>종로구 부암동</td>\n",
       "      <td>종로구</td>\n",
       "      <td>부암동</td>\n",
       "    </tr>\n",
       "    <tr>\n",
       "      <th>1</th>\n",
       "      <td>11215760</td>\n",
       "      <td>1105057</td>\n",
       "      <td>광진구 중곡3동</td>\n",
       "      <td>광진구</td>\n",
       "      <td>중곡3동</td>\n",
       "    </tr>\n",
       "    <tr>\n",
       "      <th>2</th>\n",
       "      <td>11230560</td>\n",
       "      <td>1106083</td>\n",
       "      <td>동대문구 전농1동</td>\n",
       "      <td>동대문구</td>\n",
       "      <td>전농1동</td>\n",
       "    </tr>\n",
       "    <tr>\n",
       "      <th>3</th>\n",
       "      <td>11260660</td>\n",
       "      <td>1107068</td>\n",
       "      <td>중랑구 망우3동</td>\n",
       "      <td>중랑구</td>\n",
       "      <td>망우3동</td>\n",
       "    </tr>\n",
       "    <tr>\n",
       "      <th>4</th>\n",
       "      <td>11290580</td>\n",
       "      <td>1108058</td>\n",
       "      <td>성북구 돈암1동</td>\n",
       "      <td>성북구</td>\n",
       "      <td>돈암1동</td>\n",
       "    </tr>\n",
       "    <tr>\n",
       "      <th>5</th>\n",
       "      <td>11290770</td>\n",
       "      <td>1108077</td>\n",
       "      <td>성북구 장위2동</td>\n",
       "      <td>성북구</td>\n",
       "      <td>장위2동</td>\n",
       "    </tr>\n",
       "    <tr>\n",
       "      <th>6</th>\n",
       "      <td>11380625</td>\n",
       "      <td>1112074</td>\n",
       "      <td>은평구 역촌동</td>\n",
       "      <td>은평구</td>\n",
       "      <td>역촌동</td>\n",
       "    </tr>\n",
       "    <tr>\n",
       "      <th>7</th>\n",
       "      <td>11410640</td>\n",
       "      <td>1113064</td>\n",
       "      <td>서대문구 홍제3동</td>\n",
       "      <td>서대문구</td>\n",
       "      <td>홍제3동</td>\n",
       "    </tr>\n",
       "    <tr>\n",
       "      <th>8</th>\n",
       "      <td>11620665</td>\n",
       "      <td>1121066</td>\n",
       "      <td>관악구 서림동</td>\n",
       "      <td>관악구</td>\n",
       "      <td>서림동</td>\n",
       "    </tr>\n",
       "    <tr>\n",
       "      <th>9</th>\n",
       "      <td>11650550</td>\n",
       "      <td>1122056</td>\n",
       "      <td>서초구 반포본동</td>\n",
       "      <td>서초구</td>\n",
       "      <td>반포본동</td>\n",
       "    </tr>\n",
       "    <tr>\n",
       "      <th>10</th>\n",
       "      <td>11680730</td>\n",
       "      <td>1123073</td>\n",
       "      <td>강남구 일원1동</td>\n",
       "      <td>강남구</td>\n",
       "      <td>일원1동</td>\n",
       "    </tr>\n",
       "    <tr>\n",
       "      <th>11</th>\n",
       "      <td>11710566</td>\n",
       "      <td>1124059</td>\n",
       "      <td>송파구 오륜동</td>\n",
       "      <td>송파구</td>\n",
       "      <td>오륜동</td>\n",
       "    </tr>\n",
       "    <tr>\n",
       "      <th>12</th>\n",
       "      <td>11710720</td>\n",
       "      <td>1124078</td>\n",
       "      <td>송파구 잠실7동</td>\n",
       "      <td>송파구</td>\n",
       "      <td>잠실7동</td>\n",
       "    </tr>\n",
       "    <tr>\n",
       "      <th>13</th>\n",
       "      <td>11740660</td>\n",
       "      <td>1125067</td>\n",
       "      <td>강동구 성내3동</td>\n",
       "      <td>강동구</td>\n",
       "      <td>성내3동</td>\n",
       "    </tr>\n",
       "  </tbody>\n",
       "</table>\n",
       "</div>"
      ],
      "text/plain": [
       "       행정동코드    읍면동코드      자치행정동   자치구   행정동\n",
       "0   11110550  1101055    종로구 부암동   종로구   부암동\n",
       "1   11215760  1105057   광진구 중곡3동   광진구  중곡3동\n",
       "2   11230560  1106083  동대문구 전농1동  동대문구  전농1동\n",
       "3   11260660  1107068   중랑구 망우3동   중랑구  망우3동\n",
       "4   11290580  1108058   성북구 돈암1동   성북구  돈암1동\n",
       "5   11290770  1108077   성북구 장위2동   성북구  장위2동\n",
       "6   11380625  1112074    은평구 역촌동   은평구   역촌동\n",
       "7   11410640  1113064  서대문구 홍제3동  서대문구  홍제3동\n",
       "8   11620665  1121066    관악구 서림동   관악구   서림동\n",
       "9   11650550  1122056   서초구 반포본동   서초구  반포본동\n",
       "10  11680730  1123073   강남구 일원1동   강남구  일원1동\n",
       "11  11710566  1124059    송파구 오륜동   송파구   오륜동\n",
       "12  11710720  1124078   송파구 잠실7동   송파구  잠실7동\n",
       "13  11740660  1125067   강동구 성내3동   강동구  성내3동"
      ]
     },
     "execution_count": 76,
     "metadata": {},
     "output_type": "execute_result"
    }
   ],
   "source": [
    "hjd_final = hjd_df.loc[(hjd_df['target']==1) & (hjd_df['MSP']==0)]\n",
    "hjd_final.reset_index(drop=True,inplace=True)\n",
    "hjd_final = hjd_final[['행정동코드','읍면동코드','자치행정동','자치구','행정동']]\n",
    "hjd_final"
   ]
  },
  {
   "cell_type": "markdown",
   "metadata": {
    "id": "yiQF-xLwlToT"
   },
   "source": [
    "# 6. ranking 선정"
   ]
  },
  {
   "cell_type": "code",
   "execution_count": 77,
   "metadata": {
    "id": "QxrkmwD1fanw"
   },
   "outputs": [],
   "source": [
    "clu_data_s=clu_data\n",
    "clu_data_s['자치행정동'] = hjd_df['자치행정동']"
   ]
  },
  {
   "cell_type": "code",
   "execution_count": 78,
   "metadata": {},
   "outputs": [
    {
     "name": "stdout",
     "output_type": "stream",
     "text": [
      "(425, 9)\n"
     ]
    },
    {
     "data": {
      "text/html": [
       "<div>\n",
       "<style scoped>\n",
       "    .dataframe tbody tr th:only-of-type {\n",
       "        vertical-align: middle;\n",
       "    }\n",
       "\n",
       "    .dataframe tbody tr th {\n",
       "        vertical-align: top;\n",
       "    }\n",
       "\n",
       "    .dataframe thead th {\n",
       "        text-align: right;\n",
       "    }\n",
       "</style>\n",
       "<table border=\"1\" class=\"dataframe\">\n",
       "  <thead>\n",
       "    <tr style=\"text-align: right;\">\n",
       "      <th></th>\n",
       "      <th>낮생활인구비율</th>\n",
       "      <th>총노인시설수</th>\n",
       "      <th>접근성지표</th>\n",
       "      <th>이용편리지표</th>\n",
       "      <th>pca1</th>\n",
       "      <th>pca2</th>\n",
       "      <th>pca3</th>\n",
       "      <th>자치행정동</th>\n",
       "      <th>score</th>\n",
       "    </tr>\n",
       "  </thead>\n",
       "  <tbody>\n",
       "    <tr>\n",
       "      <th>0</th>\n",
       "      <td>22.4</td>\n",
       "      <td>0.0</td>\n",
       "      <td>20.7</td>\n",
       "      <td>60.0</td>\n",
       "      <td>26.912113</td>\n",
       "      <td>-45.634861</td>\n",
       "      <td>3.936217</td>\n",
       "      <td>종로구 사직동</td>\n",
       "      <td>25.775</td>\n",
       "    </tr>\n",
       "    <tr>\n",
       "      <th>1</th>\n",
       "      <td>27.5</td>\n",
       "      <td>5.9</td>\n",
       "      <td>3.2</td>\n",
       "      <td>10.0</td>\n",
       "      <td>-11.742670</td>\n",
       "      <td>-17.033084</td>\n",
       "      <td>-19.474290</td>\n",
       "      <td>종로구 삼청동</td>\n",
       "      <td>11.650</td>\n",
       "    </tr>\n",
       "    <tr>\n",
       "      <th>2</th>\n",
       "      <td>48.5</td>\n",
       "      <td>2.9</td>\n",
       "      <td>14.0</td>\n",
       "      <td>5.0</td>\n",
       "      <td>-19.277146</td>\n",
       "      <td>-11.857675</td>\n",
       "      <td>-5.197152</td>\n",
       "      <td>종로구 부암동</td>\n",
       "      <td>17.600</td>\n",
       "    </tr>\n",
       "  </tbody>\n",
       "</table>\n",
       "</div>"
      ],
      "text/plain": [
       "   낮생활인구비율  총노인시설수  접근성지표  이용편리지표       pca1       pca2       pca3    자치행정동  \\\n",
       "0     22.4     0.0   20.7    60.0  26.912113 -45.634861   3.936217  종로구 사직동   \n",
       "1     27.5     5.9    3.2    10.0 -11.742670 -17.033084 -19.474290  종로구 삼청동   \n",
       "2     48.5     2.9   14.0     5.0 -19.277146 -11.857675  -5.197152  종로구 부암동   \n",
       "\n",
       "    score  \n",
       "0  25.775  \n",
       "1  11.650  \n",
       "2  17.600  "
      ]
     },
     "execution_count": 78,
     "metadata": {},
     "output_type": "execute_result"
    }
   ],
   "source": [
    "clu_data_s['score'] = (clu_data_s['낮생활인구비율']+clu_data_s['총노인시설수']+clu_data_s['접근성지표']+clu_data_s['이용편리지표'])/4\n",
    "print(clu_data_s.shape)\n",
    "clu_data_s.head(3)"
   ]
  },
  {
   "cell_type": "code",
   "execution_count": 79,
   "metadata": {
    "colab": {
     "base_uri": "https://localhost:8080/",
     "height": 80
    },
    "executionInfo": {
     "elapsed": 273,
     "status": "ok",
     "timestamp": 1629102405000,
     "user": {
      "displayName": "유시은",
      "photoUrl": "https://lh3.googleusercontent.com/a-/AOh14GiINDuzaV-cAv9Kwf1Htu_t0-56HkcKTbbDUSDg=s64",
      "userId": "14794011926463584766"
     },
     "user_tz": -540
    },
    "id": "ji6cX4mREBIH",
    "outputId": "dd87f947-c0b5-4046-a4c5-8b98b75dda4b"
   },
   "outputs": [
    {
     "data": {
      "text/html": [
       "<div>\n",
       "<style scoped>\n",
       "    .dataframe tbody tr th:only-of-type {\n",
       "        vertical-align: middle;\n",
       "    }\n",
       "\n",
       "    .dataframe tbody tr th {\n",
       "        vertical-align: top;\n",
       "    }\n",
       "\n",
       "    .dataframe thead th {\n",
       "        text-align: right;\n",
       "    }\n",
       "</style>\n",
       "<table border=\"1\" class=\"dataframe\">\n",
       "  <thead>\n",
       "    <tr style=\"text-align: right;\">\n",
       "      <th></th>\n",
       "      <th>낮생활인구비율</th>\n",
       "      <th>총노인시설수</th>\n",
       "      <th>접근성지표</th>\n",
       "      <th>이용편리지표</th>\n",
       "      <th>pca1</th>\n",
       "      <th>pca2</th>\n",
       "      <th>pca3</th>\n",
       "      <th>자치행정동</th>\n",
       "      <th>score</th>\n",
       "    </tr>\n",
       "  </thead>\n",
       "  <tbody>\n",
       "    <tr>\n",
       "      <th>402</th>\n",
       "      <td>64.7</td>\n",
       "      <td>5.9</td>\n",
       "      <td>28.8</td>\n",
       "      <td>10.0</td>\n",
       "      <td>-14.582867</td>\n",
       "      <td>-6.992813</td>\n",
       "      <td>11.928457</td>\n",
       "      <td>송파구 잠실7동</td>\n",
       "      <td>27.35</td>\n",
       "    </tr>\n",
       "  </tbody>\n",
       "</table>\n",
       "</div>"
      ],
      "text/plain": [
       "     낮생활인구비율  총노인시설수  접근성지표  이용편리지표       pca1      pca2       pca3     자치행정동  \\\n",
       "402     64.7     5.9   28.8    10.0 -14.582867 -6.992813  11.928457  송파구 잠실7동   \n",
       "\n",
       "     score  \n",
       "402  27.35  "
      ]
     },
     "execution_count": 79,
     "metadata": {},
     "output_type": "execute_result"
    }
   ],
   "source": [
    "clu_data_s[clu_data_s['자치행정동']=='송파구 잠실7동']"
   ]
  },
  {
   "cell_type": "code",
   "execution_count": 80,
   "metadata": {
    "colab": {
     "base_uri": "https://localhost:8080/",
     "height": 265
    },
    "executionInfo": {
     "elapsed": 271,
     "status": "ok",
     "timestamp": 1629102694418,
     "user": {
      "displayName": "유시은",
      "photoUrl": "https://lh3.googleusercontent.com/a-/AOh14GiINDuzaV-cAv9Kwf1Htu_t0-56HkcKTbbDUSDg=s64",
      "userId": "14794011926463584766"
     },
     "user_tz": -540
    },
    "id": "3FPCmceNlVrv",
    "outputId": "7727d5e8-3f30-4f54-cee5-639121c741d3"
   },
   "outputs": [],
   "source": [
    "# rank_df = pd.read_csv('./data/행정동랭킹.csv', encoding='cp949')\n",
    "# rank_df = rank_df.iloc[:7]\n",
    "# rank_df"
   ]
  },
  {
   "attachments": {
    "image.png": {
     "image/png": "[encoded data removed]"
    }
   },
   "cell_type": "markdown",
   "metadata": {},
   "source": [
    "![image.png](attachment:image.png)"
   ]
  },
  {
   "cell_type": "code",
   "execution_count": 81,
   "metadata": {
    "id": "Y6ZMuO6blsvq"
   },
   "outputs": [],
   "source": [
    "# rank_df =rank_df[['시설명','도로최소거리(m)','모델가중치','행정동가중치']]\n",
    "# rank_df_n = minmax_scale(rank_df.iloc[:,1:])\n",
    "\n",
    "# sc=[]\n",
    "# for i in range(0,len(rank_df_n)):\n",
    "#     sc.append((rank_df_n[i].mean()*100).round(1))\n",
    "\n",
    "# (rank_df_n[0].mean()*100).round(1)\n",
    "\n",
    "# rank_df['입지선정지수'] = sc\n",
    "# rank_df = rank_df.sort_values(by=['입지선정지수'],axis=0, ascending=False)\n",
    "# rank_df.reset_index(drop=True,inplace=True)\n",
    "# rank_df"
   ]
  },
  {
   "attachments": {
    "image.png": {
     "image/png": "[encoded data removed]"
    }
   },
   "cell_type": "markdown",
   "metadata": {
    "colab": {
     "base_uri": "https://localhost:8080/"
    },
    "executionInfo": {
     "elapsed": 253,
     "status": "ok",
     "timestamp": 1629102710818,
     "user": {
      "displayName": "유시은",
      "photoUrl": "https://lh3.googleusercontent.com/a-/AOh14GiINDuzaV-cAv9Kwf1Htu_t0-56HkcKTbbDUSDg=s64",
      "userId": "14794011926463584766"
     },
     "user_tz": -540
    },
    "id": "3l22Yc6kmM7q",
    "outputId": "efadd685-7e43-457c-bfb6-a32ae16c9992"
   },
   "source": [
    "![image.png](attachment:image.png)"
   ]
  },
  {
   "cell_type": "code",
   "execution_count": null,
   "metadata": {
    "id": "RHaNQHGRo23Y"
   },
   "outputs": [],
   "source": []
  }
 ],
 "metadata": {
  "colab": {
   "authorship_tag": "ABX9TyMw6hmQ0CgZn/rR/x3EGcbD",
   "collapsed_sections": [],
   "mount_file_id": "1SVfkLznhYhIA8vZ5fVjKVNLqmxtAhT59",
   "name": "클러스터링.ipynb",
   "provenance": []
  },
  "kernelspec": {
   "display_name": "Python 3",
   "language": "python",
   "name": "python3"
  },
  "language_info": {
   "codemirror_mode": {
    "name": "ipython",
    "version": 3
   },
   "file_extension": ".py",
   "mimetype": "text/x-python",
   "name": "python",
   "nbconvert_exporter": "python",
   "pygments_lexer": "ipython3",
   "version": "3.8.3"
  },
  "toc": {
   "base_numbering": 1,
   "nav_menu": {},
   "number_sections": false,
   "sideBar": false,
   "skip_h1_title": false,
   "title_cell": "Table of Contents",
   "title_sidebar": "Contents",
   "toc_cell": true,
   "toc_position": {},
   "toc_section_display": true,
   "toc_window_display": false
  }
 },
 "nbformat": 4,
 "nbformat_minor": 1
}
