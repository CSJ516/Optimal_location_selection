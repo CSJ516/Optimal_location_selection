{
 "cells": [
  {
   "cell_type": "markdown",
   "metadata": {
    "toc": true
   },
   "source": [
    "<h1>Table of Contents<span class=\"tocSkip\"></span></h1>\n",
    "<div class=\"toc\"><ul class=\"toc-item\"><li><span><a href=\"#1.-데이터-로드\" data-toc-modified-id=\"1.-데이터-로드-1\">1. 데이터 로드</a></span></li><li><span><a href=\"#2.-수요지점-좌표-리스트-생성\" data-toc-modified-id=\"2.-수요지점-좌표-리스트-생성-2\">2. 수요지점 좌표 리스트 생성</a></span></li><li><span><a href=\"#3.-MCLP-구현\" data-toc-modified-id=\"3.-MCLP-구현-3\">3. MCLP 구현</a></span></li></ul></div>"
   ]
  },
  {
   "cell_type": "code",
   "execution_count": 1,
   "metadata": {},
   "outputs": [],
   "source": [
    "import numpy as np\n",
    "from scipy.spatial import distance_matrix\n",
    "from gurobipy import *\n",
    "from scipy.spatial import ConvexHull\n",
    "from shapely.geometry import Polygon, Point\n",
    "from numpy import random\n",
    "import time\n",
    "import pandas as pd\n",
    "from itertools import zip_longest   # zip 함수 길이 다를 경우\n",
    "from haversine import haversine"
   ]
  },
  {
   "cell_type": "markdown",
   "metadata": {},
   "source": [
    "## 1. 데이터 로드"
   ]
  },
  {
   "cell_type": "code",
   "execution_count": 2,
   "metadata": {},
   "outputs": [
    {
     "name": "stdout",
     "output_type": "stream",
     "text": [
      "(13, 6)\n"
     ]
    },
    {
     "data": {
      "text/html": [
       "<div>\n",
       "<style scoped>\n",
       "    .dataframe tbody tr th:only-of-type {\n",
       "        vertical-align: middle;\n",
       "    }\n",
       "\n",
       "    .dataframe tbody tr th {\n",
       "        vertical-align: top;\n",
       "    }\n",
       "\n",
       "    .dataframe thead th {\n",
       "        text-align: right;\n",
       "    }\n",
       "</style>\n",
       "<table border=\"1\" class=\"dataframe\">\n",
       "  <thead>\n",
       "    <tr style=\"text-align: right;\">\n",
       "      <th></th>\n",
       "      <th>분류</th>\n",
       "      <th>시설명</th>\n",
       "      <th>x좌표</th>\n",
       "      <th>y좌표</th>\n",
       "      <th>법정동</th>\n",
       "      <th>행정동</th>\n",
       "    </tr>\n",
       "  </thead>\n",
       "  <tbody>\n",
       "    <tr>\n",
       "      <th>478</th>\n",
       "      <td>간이운동장</td>\n",
       "      <td>구의어린이공원</td>\n",
       "      <td>127.094743</td>\n",
       "      <td>37.536502</td>\n",
       "      <td>구의동</td>\n",
       "      <td>구의제1동</td>\n",
       "    </tr>\n",
       "    <tr>\n",
       "      <th>739</th>\n",
       "      <td>간이운동장</td>\n",
       "      <td>아차산배수지체육공원</td>\n",
       "      <td>127.096501</td>\n",
       "      <td>37.548963</td>\n",
       "      <td>구의동</td>\n",
       "      <td>구의제1동</td>\n",
       "    </tr>\n",
       "  </tbody>\n",
       "</table>\n",
       "</div>"
      ],
      "text/plain": [
       "        분류         시설명         x좌표        y좌표  법정동    행정동\n",
       "478  간이운동장     구의어린이공원  127.094743  37.536502  구의동  구의제1동\n",
       "739  간이운동장  아차산배수지체육공원  127.096501  37.548963  구의동  구의제1동"
      ]
     },
     "execution_count": 2,
     "metadata": {},
     "output_type": "execute_result"
    }
   ],
   "source": [
    "# 구의동\n",
    "입지후보지 = pd.read_csv('./data/입지선정후보군_좌표추가.csv', encoding='EUC-KR')\n",
    "입지후보지 = 입지후보지[입지후보지['행정동'] == '구의제1동']\n",
    "print(입지후보지.shape)\n",
    "입지후보지.head(2)"
   ]
  },
  {
   "cell_type": "markdown",
   "metadata": {},
   "source": [
    "- 버스, 지하철, 주차장, 주택은 수요지점 데이터로, isin 함수를 활용하여 **인근 행정동 데이터까지 포함**"
   ]
  },
  {
   "cell_type": "code",
   "execution_count": 3,
   "metadata": {},
   "outputs": [
    {
     "name": "stdout",
     "output_type": "stream",
     "text": [
      "(106, 7)\n"
     ]
    },
    {
     "data": {
      "text/html": [
       "<div>\n",
       "<style scoped>\n",
       "    .dataframe tbody tr th:only-of-type {\n",
       "        vertical-align: middle;\n",
       "    }\n",
       "\n",
       "    .dataframe tbody tr th {\n",
       "        vertical-align: top;\n",
       "    }\n",
       "\n",
       "    .dataframe thead th {\n",
       "        text-align: right;\n",
       "    }\n",
       "</style>\n",
       "<table border=\"1\" class=\"dataframe\">\n",
       "  <thead>\n",
       "    <tr style=\"text-align: right;\">\n",
       "      <th></th>\n",
       "      <th>정류소명</th>\n",
       "      <th>X좌표</th>\n",
       "      <th>Y좌표</th>\n",
       "      <th>정류버스수</th>\n",
       "      <th>행정동</th>\n",
       "      <th>행정동_경도</th>\n",
       "      <th>행정동_위도</th>\n",
       "    </tr>\n",
       "  </thead>\n",
       "  <tbody>\n",
       "    <tr>\n",
       "      <th>273</th>\n",
       "      <td>광진구청</td>\n",
       "      <td>127.083386</td>\n",
       "      <td>37.538976</td>\n",
       "      <td>18</td>\n",
       "      <td>구의1동</td>\n",
       "      <td>127.084789</td>\n",
       "      <td>37.543188</td>\n",
       "    </tr>\n",
       "    <tr>\n",
       "      <th>304</th>\n",
       "      <td>어린이대공원역.화양천주교회</td>\n",
       "      <td>127.073693</td>\n",
       "      <td>37.546602</td>\n",
       "      <td>17</td>\n",
       "      <td>화양동</td>\n",
       "      <td>127.071368</td>\n",
       "      <td>37.546476</td>\n",
       "    </tr>\n",
       "  </tbody>\n",
       "</table>\n",
       "</div>"
      ],
      "text/plain": [
       "               정류소명         X좌표        Y좌표  정류버스수   행정동      행정동_경도     행정동_위도\n",
       "273            광진구청  127.083386  37.538976     18  구의1동  127.084789  37.543188\n",
       "304  어린이대공원역.화양천주교회  127.073693  37.546602     17   화양동  127.071368  37.546476"
      ]
     },
     "execution_count": 3,
     "metadata": {},
     "output_type": "execute_result"
    }
   ],
   "source": [
    "버스 = pd.read_csv('./data/서울시_버스정류장_행정동추가.csv')\n",
    "버스 = 버스[버스['행정동'].isin(['구의1동', '화양동', '자양1동', '자양2동', '광장동', '중곡4동', '구의2동', '구의3동', '능동'])]\n",
    "print(버스.shape)\n",
    "버스.head(2)"
   ]
  },
  {
   "cell_type": "code",
   "execution_count": 4,
   "metadata": {},
   "outputs": [
    {
     "name": "stdout",
     "output_type": "stream",
     "text": [
      "(5, 14)\n"
     ]
    },
    {
     "data": {
      "text/html": [
       "<div>\n",
       "<style scoped>\n",
       "    .dataframe tbody tr th:only-of-type {\n",
       "        vertical-align: middle;\n",
       "    }\n",
       "\n",
       "    .dataframe tbody tr th {\n",
       "        vertical-align: top;\n",
       "    }\n",
       "\n",
       "    .dataframe thead th {\n",
       "        text-align: right;\n",
       "    }\n",
       "</style>\n",
       "<table border=\"1\" class=\"dataframe\">\n",
       "  <thead>\n",
       "    <tr style=\"text-align: right;\">\n",
       "      <th></th>\n",
       "      <th>전철역코드</th>\n",
       "      <th>전철역명</th>\n",
       "      <th>전철명명(영문)</th>\n",
       "      <th>호선</th>\n",
       "      <th>외부코드</th>\n",
       "      <th>검색키워드</th>\n",
       "      <th>주소</th>\n",
       "      <th>위도</th>\n",
       "      <th>경도</th>\n",
       "      <th>환승역</th>\n",
       "      <th>H/B</th>\n",
       "      <th>행정동</th>\n",
       "      <th>행정동_경도</th>\n",
       "      <th>행정동_위도</th>\n",
       "    </tr>\n",
       "  </thead>\n",
       "  <tbody>\n",
       "    <tr>\n",
       "      <th>47</th>\n",
       "      <td>0214</td>\n",
       "      <td>강변역</td>\n",
       "      <td>Gangbyeon</td>\n",
       "      <td>2호선</td>\n",
       "      <td>214</td>\n",
       "      <td>강변역 2호선</td>\n",
       "      <td>서울 광진구 강변역로 53</td>\n",
       "      <td>37.535169</td>\n",
       "      <td>127.094665</td>\n",
       "      <td>0</td>\n",
       "      <td>H</td>\n",
       "      <td>구의3동</td>\n",
       "      <td>127.091961</td>\n",
       "      <td>37.537982</td>\n",
       "    </tr>\n",
       "    <tr>\n",
       "      <th>121</th>\n",
       "      <td>0213</td>\n",
       "      <td>구의역</td>\n",
       "      <td>Guui</td>\n",
       "      <td>2호선</td>\n",
       "      <td>213</td>\n",
       "      <td>구의역 2호선</td>\n",
       "      <td>서울 광진구 아차산로 384-1</td>\n",
       "      <td>37.537154</td>\n",
       "      <td>127.086179</td>\n",
       "      <td>0</td>\n",
       "      <td>H</td>\n",
       "      <td>자양2동</td>\n",
       "      <td>127.084415</td>\n",
       "      <td>37.528844</td>\n",
       "    </tr>\n",
       "  </tbody>\n",
       "</table>\n",
       "</div>"
      ],
      "text/plain": [
       "    전철역코드 전철역명   전철명명(영문)   호선 외부코드    검색키워드                 주소         위도  \\\n",
       "47   0214  강변역  Gangbyeon  2호선  214  강변역 2호선     서울 광진구 강변역로 53  37.535169   \n",
       "121  0213  구의역       Guui  2호선  213  구의역 2호선  서울 광진구 아차산로 384-1  37.537154   \n",
       "\n",
       "             경도  환승역 H/B   행정동      행정동_경도     행정동_위도  \n",
       "47   127.094665    0   H  구의3동  127.091961  37.537982  \n",
       "121  127.086179    0   H  자양2동  127.084415  37.528844  "
      ]
     },
     "execution_count": 4,
     "metadata": {},
     "output_type": "execute_result"
    }
   ],
   "source": [
    "지하철 = pd.read_csv('./data/서울시_지하철역_행정동추가.csv', encoding='EUC-KR', index_col=0)\n",
    "지하철 = 지하철[지하철['행정동'].isin(['구의1동', '화양동', '자양1동', '자양2동', '광장동', '중곡4동', '구의2동', '구의3동', '능동'])]\n",
    "print(지하철.shape)\n",
    "지하철.head(2)"
   ]
  },
  {
   "cell_type": "code",
   "execution_count": 5,
   "metadata": {},
   "outputs": [
    {
     "name": "stdout",
     "output_type": "stream",
     "text": [
      "(15, 9)\n"
     ]
    },
    {
     "data": {
      "text/html": [
       "<div>\n",
       "<style scoped>\n",
       "    .dataframe tbody tr th:only-of-type {\n",
       "        vertical-align: middle;\n",
       "    }\n",
       "\n",
       "    .dataframe tbody tr th {\n",
       "        vertical-align: top;\n",
       "    }\n",
       "\n",
       "    .dataframe thead th {\n",
       "        text-align: right;\n",
       "    }\n",
       "</style>\n",
       "<table border=\"1\" class=\"dataframe\">\n",
       "  <thead>\n",
       "    <tr style=\"text-align: right;\">\n",
       "      <th></th>\n",
       "      <th>주차장id</th>\n",
       "      <th>주차장이름</th>\n",
       "      <th>주소</th>\n",
       "      <th>경도</th>\n",
       "      <th>위도</th>\n",
       "      <th>H/B</th>\n",
       "      <th>행정동</th>\n",
       "      <th>행정동_경도</th>\n",
       "      <th>행정동_위도</th>\n",
       "    </tr>\n",
       "  </thead>\n",
       "  <tbody>\n",
       "    <tr>\n",
       "      <th>289</th>\n",
       "      <td>20589068</td>\n",
       "      <td>화양동 공영주차장</td>\n",
       "      <td>서울 광진구 화양동 63-2</td>\n",
       "      <td>127.071176</td>\n",
       "      <td>37.545298</td>\n",
       "      <td>H</td>\n",
       "      <td>화양동</td>\n",
       "      <td>127.071368</td>\n",
       "      <td>37.546476</td>\n",
       "    </tr>\n",
       "    <tr>\n",
       "      <th>291</th>\n",
       "      <td>20589328</td>\n",
       "      <td>능동공영주차장</td>\n",
       "      <td>서울 광진구 능동 205</td>\n",
       "      <td>127.080261</td>\n",
       "      <td>37.554043</td>\n",
       "      <td>H</td>\n",
       "      <td>능동</td>\n",
       "      <td>127.080537</td>\n",
       "      <td>37.553779</td>\n",
       "    </tr>\n",
       "  </tbody>\n",
       "</table>\n",
       "</div>"
      ],
      "text/plain": [
       "        주차장id      주차장이름               주소          경도         위도 H/B  행정동  \\\n",
       "289  20589068  화양동 공영주차장  서울 광진구 화양동 63-2  127.071176  37.545298   H  화양동   \n",
       "291  20589328    능동공영주차장    서울 광진구 능동 205  127.080261  37.554043   H   능동   \n",
       "\n",
       "         행정동_경도     행정동_위도  \n",
       "289  127.071368  37.546476  \n",
       "291  127.080537  37.553779  "
      ]
     },
     "execution_count": 5,
     "metadata": {},
     "output_type": "execute_result"
    }
   ],
   "source": [
    "주차장 = pd.read_csv('./data/서울시_주차장_행정동추가.csv', encoding='EUC-KR', index_col=0).drop('Unnamed: 0.1', axis=1)\n",
    "주차장 = 주차장[주차장['행정동'].isin(['구의1동', '화양동', '자양1동', '자양2동', '광장동', '중곡4동', '구의2동', '구의3동', '능동'])]\n",
    "print(주차장.shape)\n",
    "주차장.head(2)"
   ]
  },
  {
   "cell_type": "code",
   "execution_count": 24,
   "metadata": {},
   "outputs": [
    {
     "name": "stdout",
     "output_type": "stream",
     "text": [
      "(3, 12)\n"
     ]
    },
    {
     "data": {
      "text/html": [
       "<div>\n",
       "<style scoped>\n",
       "    .dataframe tbody tr th:only-of-type {\n",
       "        vertical-align: middle;\n",
       "    }\n",
       "\n",
       "    .dataframe tbody tr th {\n",
       "        vertical-align: top;\n",
       "    }\n",
       "\n",
       "    .dataframe thead th {\n",
       "        text-align: right;\n",
       "    }\n",
       "</style>\n",
       "<table border=\"1\" class=\"dataframe\">\n",
       "  <thead>\n",
       "    <tr style=\"text-align: right;\">\n",
       "      <th></th>\n",
       "      <th>구명</th>\n",
       "      <th>단지명</th>\n",
       "      <th>주택유형</th>\n",
       "      <th>세대수</th>\n",
       "      <th>주소</th>\n",
       "      <th>우편번호</th>\n",
       "      <th>경도</th>\n",
       "      <th>위도</th>\n",
       "      <th>H/B</th>\n",
       "      <th>행정동</th>\n",
       "      <th>행정동_경도</th>\n",
       "      <th>행정동_위도</th>\n",
       "    </tr>\n",
       "  </thead>\n",
       "  <tbody>\n",
       "    <tr>\n",
       "      <th>117</th>\n",
       "      <td>광진구</td>\n",
       "      <td>한라녹턴</td>\n",
       "      <td>재건축</td>\n",
       "      <td>72</td>\n",
       "      <td>영화사로16길 43 (구의동 구의동 아차산 한라아파트)</td>\n",
       "      <td>4957</td>\n",
       "      <td>127.097346</td>\n",
       "      <td>37.553835</td>\n",
       "      <td>H</td>\n",
       "      <td>구의2동</td>\n",
       "      <td>127.089936</td>\n",
       "      <td>37.547246</td>\n",
       "    </tr>\n",
       "    <tr>\n",
       "      <th>118</th>\n",
       "      <td>광진구</td>\n",
       "      <td>래미안프리미어팰리스</td>\n",
       "      <td>재건축재개발</td>\n",
       "      <td>264</td>\n",
       "      <td>아차산로 345(자양동 래미안프리미어팰리스아파트)</td>\n",
       "      <td>5026</td>\n",
       "      <td>127.081583</td>\n",
       "      <td>37.537505</td>\n",
       "      <td>H</td>\n",
       "      <td>자양1동</td>\n",
       "      <td>127.082440</td>\n",
       "      <td>37.534507</td>\n",
       "    </tr>\n",
       "  </tbody>\n",
       "</table>\n",
       "</div>"
      ],
      "text/plain": [
       "      구명         단지명    주택유형  세대수                              주소  우편번호  \\\n",
       "117  광진구        한라녹턴     재건축   72  영화사로16길 43 (구의동 구의동 아차산 한라아파트)  4957   \n",
       "118  광진구  래미안프리미어팰리스  재건축재개발  264     아차산로 345(자양동 래미안프리미어팰리스아파트)  5026   \n",
       "\n",
       "             경도         위도 H/B   행정동      행정동_경도     행정동_위도  \n",
       "117  127.097346  37.553835   H  구의2동  127.089936  37.547246  \n",
       "118  127.081583  37.537505   H  자양1동  127.082440  37.534507  "
      ]
     },
     "execution_count": 24,
     "metadata": {},
     "output_type": "execute_result"
    }
   ],
   "source": [
    "주택 = pd.read_csv('./data/서울시_주택_행정동추가.csv', encoding='EUC-KR')\n",
    "주택 = 주택[주택['행정동'].isin(['구의1동', '화양동', '자양1동', '자양2동', '광장동', '중곡4동', '구의2동', '구의3동', '능동'])]\n",
    "print(주택.shape)\n",
    "주택.head(2)"
   ]
  },
  {
   "cell_type": "markdown",
   "metadata": {},
   "source": [
    "## 2. 수요지점 좌표 리스트 생성"
   ]
  },
  {
   "cell_type": "code",
   "execution_count": 8,
   "metadata": {},
   "outputs": [
    {
     "name": "stdout",
     "output_type": "stream",
     "text": [
      "(106, 2)\n"
     ]
    },
    {
     "data": {
      "text/plain": [
       "array([[127.08338592,  37.53897619],\n",
       "       [127.07369304,  37.54660224]])"
      ]
     },
     "execution_count": 8,
     "metadata": {},
     "output_type": "execute_result"
    }
   ],
   "source": [
    "버스_points = np.array([list(i) for i in zip(버스['X좌표'], 버스['Y좌표'])])\n",
    "print(버스_points.shape)\n",
    "버스_points[:2]"
   ]
  },
  {
   "cell_type": "code",
   "execution_count": 9,
   "metadata": {},
   "outputs": [
    {
     "name": "stdout",
     "output_type": "stream",
     "text": [
      "(5, 2)\n"
     ]
    },
    {
     "data": {
      "text/plain": [
       "array([[127.09466457,  37.53516928],\n",
       "       [127.08617923,  37.53715356]])"
      ]
     },
     "execution_count": 9,
     "metadata": {},
     "output_type": "execute_result"
    }
   ],
   "source": [
    "지하철_points = np.array([list(i) for i in zip(지하철['경도'], 지하철['위도'])])\n",
    "print(지하철_points.shape)\n",
    "지하철_points[:2]"
   ]
  },
  {
   "cell_type": "code",
   "execution_count": 10,
   "metadata": {
    "scrolled": true
   },
   "outputs": [
    {
     "name": "stdout",
     "output_type": "stream",
     "text": [
      "(15, 2)\n"
     ]
    },
    {
     "data": {
      "text/plain": [
       "array([[127.07117639,  37.54529787],\n",
       "       [127.08026103,  37.55404254]])"
      ]
     },
     "execution_count": 10,
     "metadata": {},
     "output_type": "execute_result"
    }
   ],
   "source": [
    "주차장_points = np.array([list(i) for i in zip(주차장['경도'], 주차장['위도'])])\n",
    "print(주차장_points.shape)\n",
    "주차장_points[:2]"
   ]
  },
  {
   "cell_type": "code",
   "execution_count": 11,
   "metadata": {
    "scrolled": true
   },
   "outputs": [
    {
     "name": "stdout",
     "output_type": "stream",
     "text": [
      "(3, 2)\n"
     ]
    },
    {
     "data": {
      "text/plain": [
       "array([[127.0973462 ,  37.55383544],\n",
       "       [127.081583  ,  37.53750524]])"
      ]
     },
     "execution_count": 11,
     "metadata": {},
     "output_type": "execute_result"
    }
   ],
   "source": [
    "주택_points = np.array([list(i) for i in zip(주택['경도'], 주택['위도'])])\n",
    "print(주택_points.shape)\n",
    "주택_points[:2]"
   ]
  },
  {
   "cell_type": "code",
   "execution_count": 12,
   "metadata": {},
   "outputs": [
    {
     "data": {
      "text/plain": [
       "[127.0833859175, 127.0736930425]"
      ]
     },
     "execution_count": 12,
     "metadata": {},
     "output_type": "execute_result"
    }
   ],
   "source": [
    "X = list(버스['X좌표']) + list(지하철['경도']) + list(주차장['경도']) + list(주택['경도'])\n",
    "X[:2]"
   ]
  },
  {
   "cell_type": "code",
   "execution_count": 13,
   "metadata": {},
   "outputs": [
    {
     "data": {
      "text/plain": [
       "[37.5389761877, 37.5466022392]"
      ]
     },
     "execution_count": 13,
     "metadata": {},
     "output_type": "execute_result"
    }
   ],
   "source": [
    "Y = list(버스['Y좌표']) + list(지하철['위도']) + list(주차장['위도']) + list(주택['위도'])\n",
    "Y[:2]"
   ]
  },
  {
   "cell_type": "code",
   "execution_count": 14,
   "metadata": {},
   "outputs": [
    {
     "name": "stdout",
     "output_type": "stream",
     "text": [
      "(129, 2)\n"
     ]
    },
    {
     "data": {
      "text/plain": [
       "array([[127.08338592,  37.53897619],\n",
       "       [127.07369304,  37.54660224]])"
      ]
     },
     "execution_count": 14,
     "metadata": {},
     "output_type": "execute_result"
    }
   ],
   "source": [
    "points = np.array([list(i) for i in zip(X, Y)])\n",
    "print(points.shape)\n",
    "points[:2]"
   ]
  },
  {
   "cell_type": "markdown",
   "metadata": {},
   "source": [
    "## 3. MCLP 구현"
   ]
  },
  {
   "cell_type": "code",
   "execution_count": 15,
   "metadata": {},
   "outputs": [],
   "source": [
    "def mclp(버스_points, 지하철_points, 주차장_points, 주택_points, points, K, radius):\n",
    "    \"\"\"\n",
    "    Solve maximum covering location problem\n",
    "    Input:\n",
    "        points: 수요지점 좌표 (기타 인근에 있으면 좋은 시설 좌표)\n",
    "        K: 배치할 노인놀이터의 수\n",
    "        radius: 반경 (노인들이 이동하기 적합한 거리)\n",
    "    Return:\n",
    "        opt_sites: locations K optimal sites, Numpy array in shape of [K,2]\n",
    "        f: the optimal value of the objective function\n",
    "    \"\"\"\n",
    "    print('  Number of points %g' % points.shape[0])\n",
    "    print('  K %g' % K)\n",
    "    print('  Radius %g' % radius)\n",
    "\n",
    "    start = time.time()\n",
    "    sites = np.array([list(i) for i in zip(입지후보지['x좌표'], 입지후보지['y좌표'])])\n",
    "    J = sites.shape[0]                              \n",
    "    \n",
    "    # 수요지점 수\n",
    "    A = 버스_points.shape[0]\n",
    "    B = 지하철_points.shape[0]\n",
    "    C = 주차장_points.shape[0]\n",
    "    D = 주택_points.shape[0]\n",
    "    \n",
    "    # 입지후보지와 수요지점 간 거리 계산 (haversine으로 수정)\n",
    "    D1 = []\n",
    "    for i in 버스_points:\n",
    "        site = []\n",
    "        for j in sites:\n",
    "            site.append(haversine(i, j)*1000)     # 단위를 m로 변경하기 위해 *1000\n",
    "        D1.append(site)\n",
    "    D1 = np.array(D1)\n",
    "    \n",
    "    D2 = []\n",
    "    for i in 지하철_points:\n",
    "        site = []\n",
    "        for j in sites:\n",
    "            site.append(haversine(i, j)*1000)\n",
    "        D2.append(site)\n",
    "    D2 = np.array(D2)    \n",
    "    \n",
    "    D3 = []\n",
    "    for i in 주차장_points:\n",
    "        site = []\n",
    "        for j in sites:\n",
    "            site.append(haversine(i, j)*1000)\n",
    "        D3.append(site)\n",
    "    D3 = np.array(D3)\n",
    "    \n",
    "    D4 = []\n",
    "    for i in 주택_points:\n",
    "        site = []\n",
    "        for j in sites:\n",
    "            site.append(haversine(i, j)*1000)\n",
    "        D4.append(site)\n",
    "    D4 = np.array(D4)\n",
    "    \n",
    "    for i in [D1, D2, D3, D4]:\n",
    "        mask1 = i<=radius\n",
    "        i[mask1]=1                                         \n",
    "        i[~mask1]=0\n",
    "\n",
    "    m = Model()\n",
    "    x1, x2, x3, x4 = {}, {}, {}, {}\n",
    "    y = {}\n",
    "    \n",
    "    # 수요지점 변수 추가\n",
    "    for i in range(A):                                       \n",
    "        x1[i] = m.addVar(vtype=GRB.BINARY, name=\"x1%d\" % i)\n",
    "    for i in range(B):                                       \n",
    "        x2[i] = m.addVar(vtype=GRB.BINARY, name=\"x2%d\" % i)\n",
    "    for i in range(C):                                       \n",
    "        x3[i] = m.addVar(vtype=GRB.BINARY, name=\"x3%d\" % i)\n",
    "    for i in range(D):                                       \n",
    "        x4[i] = m.addVar(vtype=GRB.BINARY, name=\"x4%d\" % i)\n",
    "    \n",
    "    # 입지후보지 변수 추가\n",
    "    for j in range(J):\n",
    "        y[j] = m.addVar(vtype=GRB.BINARY, name=\"y%d\" % j) \n",
    "\n",
    "    m.update()\n",
    "    m.addConstr(quicksum(y[j] for j in range(J)) == K)  \n",
    "\n",
    "    # 수요지점 제약 조건\n",
    "    for i in range(A): \n",
    "        m.addConstr(quicksum(y[j] for j in np.where(D1[i]==1)[0]) >= x1[i])\n",
    "    for i in range(B): \n",
    "        m.addConstr(quicksum(y[j] for j in np.where(D2[i]==1)[0]) >= x2[i])\n",
    "    for i in range(C): \n",
    "        m.addConstr(quicksum(y[j] for j in np.where(D3[i]==1)[0]) >= x3[i])\n",
    "    for i in range(D): \n",
    "        m.addConstr(quicksum(y[j] for j in np.where(D4[i]==1)[0]) >= x4[i])\n",
    "\n",
    "    # 목적함수 수정\n",
    "    m.setObjective(quicksum(i for i in [0.178*x1[a] for a in range(A)] + [0.961*x2[b] for b in range(B)] + [0.884*x3[c] for c in range(C)] + [0.977*x4[d] for d in range(D)]),\\\n",
    "                   GRB.MAXIMIZE)\n",
    "    # 수요지점별 개수의 불균형 해소를 위한 가중치 입력 ex) (전체수요지점 수 - 버스정류장 수) / 전체수요지점 수\n",
    "    \n",
    "    m.setParam('OutputFlag', 0)\n",
    "    m.optimize()\n",
    "    end = time.time()\n",
    "    print('----- Output -----')\n",
    "    print('  Running time : %s seconds' % float(end-start))\n",
    "    print('  Optimal coverage points: %g' % m.objVal)\n",
    "    \n",
    "    solution = []\n",
    "    if m.status == GRB.Status.OPTIMAL:\n",
    "        for v in m.getVars():\n",
    "            if v.x==1 and v.varName[0]==\"y\":\n",
    "                solution.append(int(v.varName[1:]))\n",
    "    opt_sites = sites[solution]\n",
    "    return opt_sites,m.objVal"
   ]
  },
  {
   "cell_type": "code",
   "execution_count": 16,
   "metadata": {},
   "outputs": [
    {
     "name": "stdout",
     "output_type": "stream",
     "text": [
      "  Number of points 129\n",
      "  K 3\n",
      "  Radius 300\n",
      "Restricted license - for non-production use only - expires 2022-01-13\n",
      "----- Output -----\n",
      "  Running time : 0.04403948783874512 seconds\n",
      "  Optimal coverage points: 11.957\n"
     ]
    },
    {
     "data": {
      "text/plain": [
       "array([[127.088595  ,  37.54593706],\n",
       "       [127.083613  ,  37.538013  ],\n",
       "       [127.0901399 ,  37.536273  ]])"
      ]
     },
     "execution_count": 16,
     "metadata": {},
     "output_type": "execute_result"
    }
   ],
   "source": [
    "opts_sites, mobjVal = mclp(버스_points, 지하철_points, 주차장_points, 주택_points, points, 3, 300)\n",
    "opts_sites"
   ]
  },
  {
   "cell_type": "code",
   "execution_count": 20,
   "metadata": {},
   "outputs": [],
   "source": [
    "후보지 = pd.DataFrame(opts_sites, columns=['경도','위도'])\n",
    "후보지.to_csv('./result/MCLP_구의제1동후보지.csv', index=False)"
   ]
  },
  {
   "cell_type": "code",
   "execution_count": 21,
   "metadata": {},
   "outputs": [],
   "source": [
    "def plot_input(points):\n",
    "    '''\n",
    "    Plot the result\n",
    "    Input:\n",
    "        points: input points, Numpy array in shape of [N,2]\n",
    "        opt_sites: locations K optimal sites, Numpy array in shape of [K,2]\n",
    "        radius: the radius of circle\n",
    "    '''\n",
    "    from matplotlib import pyplot as plt\n",
    "    fig = plt.figure(figsize=(8,8))\n",
    "    plt.scatter(points[:,0],points[:,1],c='C0')\n",
    "    ax = plt.gca()\n",
    "    ax.axis('equal')\n",
    "    ax.tick_params(axis='both',left=False, top=False, right=False,\n",
    "                       bottom=False, labelleft=False, labeltop=False,\n",
    "                       labelright=False, labelbottom=False)"
   ]
  },
  {
   "cell_type": "code",
   "execution_count": 22,
   "metadata": {},
   "outputs": [],
   "source": [
    "def plot_result(points,opt_sites,radius):\n",
    "    '''\n",
    "    Plot the result\n",
    "    Input:\n",
    "        points: input points, Numpy array in shape of [N,2]\n",
    "        opt_sites: locations K optimal sites, Numpy array in shape of [K,2]\n",
    "        radius: the radius of circle\n",
    "    '''\n",
    "    from matplotlib import pyplot as plt\n",
    "    fig = plt.figure(figsize=(8,8))\n",
    "    plt.scatter(points[:,0],points[:,1],c='C0')\n",
    "    ax = plt.gca()\n",
    "    plt.scatter(opt_sites[:,0],opt_sites[:,1],c='C1',marker='+')\n",
    "    for site in opt_sites:\n",
    "        circle = plt.Circle(site, radius, color='C1',fill=False,lw=2)\n",
    "        ax.add_artist(circle)\n",
    "    ax.axis('equal')\n",
    "    ax.tick_params(axis='both',left=False, top=False, right=False,\n",
    "                       bottom=False, labelleft=False, labeltop=False,\n",
    "                       labelright=False, labelbottom=False)"
   ]
  },
  {
   "cell_type": "code",
   "execution_count": 23,
   "metadata": {
    "scrolled": false
   },
   "outputs": [
    {
     "data": {
      "image/png": "[encoded data removed]",
      "text/plain": [
       "<Figure size 576x576 with 1 Axes>"
      ]
     },
     "metadata": {},
     "output_type": "display_data"
    }
   ],
   "source": [
    "plot_result(points, opts_sites, 0.0027)"
   ]
  },
  {
   "cell_type": "code",
   "execution_count": null,
   "metadata": {},
   "outputs": [],
   "source": []
  }
 ],
 "metadata": {
  "kernelspec": {
   "display_name": "Python 3",
   "language": "python",
   "name": "python3"
  },
  "language_info": {
   "codemirror_mode": {
    "name": "ipython",
    "version": 3
   },
   "file_extension": ".py",
   "mimetype": "text/x-python",
   "name": "python",
   "nbconvert_exporter": "python",
   "pygments_lexer": "ipython3",
   "version": "3.8.3"
  },
  "toc": {
   "base_numbering": 1,
   "nav_menu": {},
   "number_sections": false,
   "sideBar": false,
   "skip_h1_title": false,
   "title_cell": "Table of Contents",
   "title_sidebar": "Contents",
   "toc_cell": true,
   "toc_position": {},
   "toc_section_display": true,
   "toc_window_display": false
  }
 },
 "nbformat": 4,
 "nbformat_minor": 5
}
