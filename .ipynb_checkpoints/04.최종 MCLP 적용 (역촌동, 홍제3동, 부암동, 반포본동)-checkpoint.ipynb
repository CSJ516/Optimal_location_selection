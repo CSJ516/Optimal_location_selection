{
 "cells": [
  {
   "cell_type": "markdown",
   "metadata": {
    "toc": true
   },
   "source": [
    "<h1>Table of Contents<span class=\"tocSkip\"></span></h1>\n",
    "<div class=\"toc\"><ul class=\"toc-item\"><li><span><a href=\"#1.-역촌동\" data-toc-modified-id=\"1.-역촌동-1\">1. 역촌동</a></span></li><li><span><a href=\"#2.-홍제3동\" data-toc-modified-id=\"2.-홍제3동-2\">2. 홍제3동</a></span></li><li><span><a href=\"#3.-부암동\" data-toc-modified-id=\"3.-부암동-3\">3. 부암동</a></span></li><li><span><a href=\"#4.-반포본동\" data-toc-modified-id=\"4.-반포본동-4\">4. 반포본동</a></span></li></ul></div>"
   ]
  },
  {
   "cell_type": "code",
   "execution_count": 44,
   "metadata": {},
   "outputs": [],
   "source": [
    "import numpy as np\n",
    "from scipy.spatial import distance_matrix\n",
    "from gurobipy import *\n",
    "from numpy import random\n",
    "import time\n",
    "import pandas as pd\n",
    "from haversine import haversine"
   ]
  },
  {
   "cell_type": "markdown",
   "metadata": {},
   "source": [
    "## 1. 역촌동"
   ]
  },
  {
   "cell_type": "code",
   "execution_count": 45,
   "metadata": {},
   "outputs": [],
   "source": [
    "입지후보지 = pd.read_csv('./data/최종입지선정후보군.csv', encoding='EUC-KR')\n",
    "입지후보지 = 입지후보지[입지후보지['행정동'] == '역촌동']\n",
    "\n",
    "버스 = pd.read_csv('./data/역촌동_버스정류장.csv')\n",
    "버스_points = np.array([list(i) for i in zip(버스['X좌표'], 버스['Y좌표'])])\n",
    "\n",
    "지하철 = pd.read_csv('./data/역촌동_지하철역.csv', encoding='UTF-8', index_col=0)\n",
    "지하철_points = np.array([list(i) for i in zip(지하철['경도'], 지하철['위도'])])\n",
    "\n",
    "주차장 = pd.read_csv('./data/역촌동_주차장.csv', encoding='UTF-8', index_col=0)\n",
    "주차장_points = np.array([list(i) for i in zip(주차장['경도'], 주차장['위도'])])\n",
    "\n",
    "주택 = pd.read_csv('./data/역촌동_주택.csv', encoding='UTF-8', index_col=0)\n",
    "주택_points = np.array([list(i) for i in zip(주택['경도'], 주택['위도'])])"
   ]
  },
  {
   "cell_type": "code",
   "execution_count": 46,
   "metadata": {},
   "outputs": [
    {
     "name": "stdout",
     "output_type": "stream",
     "text": [
      "(9, 6)\n",
      "(195, 7)\n",
      "(9, 14)\n",
      "(15, 10)\n",
      "(17, 15)\n"
     ]
    }
   ],
   "source": [
    "print(입지후보지.shape)\n",
    "print(버스.shape)\n",
    "print(지하철.shape)\n",
    "print(주차장.shape)\n",
    "print(주택.shape)"
   ]
  },
  {
   "cell_type": "code",
   "execution_count": 47,
   "metadata": {},
   "outputs": [
    {
     "name": "stdout",
     "output_type": "stream",
     "text": [
      "(236, 2)\n"
     ]
    },
    {
     "data": {
      "text/plain": [
       "array([[126.93498401,  37.60242665],\n",
       "       [126.92806944,  37.61240306]])"
      ]
     },
     "execution_count": 47,
     "metadata": {},
     "output_type": "execute_result"
    }
   ],
   "source": [
    "X = list(버스['X좌표']) + list(지하철['경도']) + list(주차장['경도']) + list(주택['경도'])\n",
    "Y = list(버스['Y좌표']) + list(지하철['위도']) + list(주차장['위도']) + list(주택['위도'])\n",
    "points = np.array([list(i) for i in zip(X, Y)])\n",
    "print(points.shape)\n",
    "points[:2]"
   ]
  },
  {
   "cell_type": "code",
   "execution_count": 48,
   "metadata": {},
   "outputs": [],
   "source": [
    "전체w = points.shape[0]\n",
    "버스w = 버스.shape[0]\n",
    "지하철w = 지하철.shape[0]\n",
    "주차장w = 주차장.shape[0]\n",
    "주택w = 주택.shape[0]\n",
    "\n",
    "# 통행수단별 선호도에 대한 가중치 * 데이터 불균형 해소를 위한 가중치\n",
    "\n",
    "# 통행수단별 선호도에 대한 가중치는 통행수단별 이용률에 따라 AHP 분석을 기반으로 도출\n",
    "# 데이터 불균형 해소를 위한 가중치는 (전체수요지점수 - 해당수요지점수) / 전체수요지점수\n",
    "\n",
    "m1 = 0.278 * (전체w-버스w) / 전체w \n",
    "m2 = 0.193 * (전체w-지하철w) / 전체w \n",
    "m3 = 0.136 * (전체w-주차장w) / 전체w\n",
    "m4 = 0.392 * (전체w-주택w) / 전체w"
   ]
  },
  {
   "cell_type": "code",
   "execution_count": 49,
   "metadata": {},
   "outputs": [],
   "source": [
    "# haversine -> meter 단위로 수정\n",
    "def mclp(버스_points, 지하철_points, 주차장_points, 주택_points, points, K, radius):\n",
    "\n",
    "    print('  Number of points %g' % points.shape[0])\n",
    "    print('  K %g' % K)\n",
    "    print('  Radius %g' % radius)\n",
    "\n",
    "    start = time.time()\n",
    "    sites = np.array([list(i) for i in zip(입지후보지['x좌표'], 입지후보지['y좌표'])])\n",
    "    J = sites.shape[0]                             \n",
    "    \n",
    "    # 수요지점 수\n",
    "    A = 버스_points.shape[0]\n",
    "    B = 지하철_points.shape[0]\n",
    "    C = 주차장_points.shape[0]\n",
    "    D = 주택_points.shape[0]\n",
    "    \n",
    "    # 입지후보지와 수요지점 간 거리 계산\n",
    "    D1 = []\n",
    "    for i in 버스_points:\n",
    "        site = []\n",
    "        for j in sites:\n",
    "            site.append(haversine(i, j)*1000)\n",
    "        D1.append(site)\n",
    "    D1 = np.array(D1)\n",
    "    \n",
    "    D2 = []\n",
    "    for i in 지하철_points:\n",
    "        site = []\n",
    "        for j in sites:\n",
    "            site.append(haversine(i, j)*1000)\n",
    "        D2.append(site)\n",
    "    D2 = np.array(D2)    \n",
    "    \n",
    "    D3 = []\n",
    "    for i in 주차장_points:\n",
    "        site = []\n",
    "        for j in sites:\n",
    "            site.append(haversine(i, j)*1000)\n",
    "        D3.append(site)\n",
    "    D3 = np.array(D3)\n",
    "    \n",
    "    D4 = []\n",
    "    for i in 주택_points:\n",
    "        site = []\n",
    "        for j in sites:\n",
    "            site.append(haversine(i, j)*1000)\n",
    "        D4.append(site)\n",
    "    D4 = np.array(D4)\n",
    "\n",
    "    for i in [D1, D2, D3, D4]:\n",
    "        mask1 = i<=radius\n",
    "        i[mask1]=1                                                 \n",
    "        i[~mask1]=0\n",
    "\n",
    "    m = Model()\n",
    "    x1, x2, x3, x4 = {}, {}, {}, {}\n",
    "    y = {}\n",
    "    \n",
    "    # 수요지점 변수 추가\n",
    "    for i in range(A):                                       \n",
    "        x1[i] = m.addVar(vtype=GRB.BINARY, name=\"x1%d\" % i)\n",
    "    for i in range(B):                                       \n",
    "        x2[i] = m.addVar(vtype=GRB.BINARY, name=\"x2%d\" % i)\n",
    "    for i in range(C):                                       \n",
    "        x3[i] = m.addVar(vtype=GRB.BINARY, name=\"x3%d\" % i)\n",
    "    for i in range(D):                                       \n",
    "        x4[i] = m.addVar(vtype=GRB.BINARY, name=\"x4%d\" % i)\n",
    "    \n",
    "    # 입지후보지 변수 추가\n",
    "    for j in range(J):\n",
    "        y[j] = m.addVar(vtype=GRB.BINARY, name=\"y%d\" % j)\n",
    "\n",
    "    m.update()\n",
    "    m.addConstr(quicksum(y[j] for j in range(J)) == K) \n",
    "\n",
    "    # 수요지점 제약 조건\n",
    "    for i in range(A): \n",
    "        m.addConstr(quicksum(y[j] for j in np.where(D1[i]==1)[0]) >= x1[i])\n",
    "    for i in range(B): \n",
    "        m.addConstr(quicksum(y[j] for j in np.where(D2[i]==1)[0]) >= x2[i])\n",
    "    for i in range(C): \n",
    "        m.addConstr(quicksum(y[j] for j in np.where(D3[i]==1)[0]) >= x3[i])\n",
    "    for i in range(D): \n",
    "        m.addConstr(quicksum(y[j] for j in np.where(D4[i]==1)[0]) >= x4[i])\n",
    "    \n",
    "    # 목적함수 수정\n",
    "    m.setObjective(quicksum(i for i in [m1*x1[a] for a in range(A)] + [m2*x2[b] for b in range(B)] + \\\n",
    "                            [m3*x3[c] for c in range(C)] + [m4*x4[d] for d in range(D)]), GRB.MAXIMIZE)\n",
    "\n",
    "#     # 목적함수 수정 v2.\n",
    "#     res=[]\n",
    "#     for a,b,c,d in zip_longest(range(A),range(B),range(C),range(D), fillvalue=0):\n",
    "#         w1=m1;w2=m2;w3=m3;w4=m4\n",
    "#         if a==b==c==d==0:\n",
    "#             w1=m1;w2=m2;w3=m3;w4=m4\n",
    "#         else:\n",
    "#             if b==0:\n",
    "#                 w2=0\n",
    "#             if c==0:\n",
    "#                 w3=0\n",
    "#             if d==0:\n",
    "#                 w4=0\n",
    "#         res.append(w1*x1[a] + w2*x2[b] + w3*x3[c] + w4*x4[d])\n",
    "\n",
    "#     m.setObjective(quicksum(i for i in res),GRB.MAXIMIZE)    \n",
    "\n",
    "    m.setParam('OutputFlag', 0)\n",
    "    m.optimize()\n",
    "    end = time.time()\n",
    "    print('----- Output -----')\n",
    "    print('  Running time : %s seconds' % float(end-start))\n",
    "    print('Optimal coverage points: %g' % m.objVal)\n",
    "\n",
    "    solution = []\n",
    "    if m.status == GRB.Status.OPTIMAL:\n",
    "        for v in m.getVars():\n",
    "            if v.x==1 and v.varName[0]==\"y\":\n",
    "                solution.append(int(v.varName[1:]))\n",
    "    opt_sites = sites[solution]\n",
    "    return opt_sites,m.objVal"
   ]
  },
  {
   "cell_type": "code",
   "execution_count": 50,
   "metadata": {},
   "outputs": [
    {
     "name": "stdout",
     "output_type": "stream",
     "text": [
      "  Number of points 236\n",
      "  K 3\n",
      "  Radius 300\n",
      "----- Output -----\n",
      "  Running time : 0.061495304107666016 seconds\n",
      "Optimal coverage points: 1.71928\n"
     ]
    },
    {
     "data": {
      "text/plain": [
       "array([[126.915551,  37.599552],\n",
       "       [126.918478,  37.601073],\n",
       "       [126.916513,  37.608641]])"
      ]
     },
     "execution_count": 50,
     "metadata": {},
     "output_type": "execute_result"
    }
   ],
   "source": [
    "opts_sites, mobjVal = mclp(버스_points, 지하철_points, 주차장_points, 주택_points, points, 3, 300)\n",
    "opts_sites"
   ]
  },
  {
   "cell_type": "code",
   "execution_count": 51,
   "metadata": {},
   "outputs": [],
   "source": [
    "# 수요지점 = pd.DataFrame(points, columns=['경도','위도'])\n",
    "# 수요지점.to_csv('./result/역촌동_수요지점.csv', index=False, encoding='cp949')\n",
    "\n",
    "# 후보지 = pd.DataFrame(opts_sites, columns=['경도','위도'])\n",
    "# 후보지.to_csv('./result/역촌동_후보지.csv', index=False, encoding='cp949')"
   ]
  },
  {
   "cell_type": "markdown",
   "metadata": {},
   "source": [
    "## 2. 홍제3동"
   ]
  },
  {
   "cell_type": "code",
   "execution_count": 52,
   "metadata": {},
   "outputs": [],
   "source": [
    "입지후보지 = pd.read_csv('./data/최종입지선정후보군.csv', encoding='EUC-KR')\n",
    "입지후보지 = 입지후보지[입지후보지['행정동'] == '홍제3동']\n",
    "\n",
    "버스 = pd.read_csv('./data/홍제3동_버스정류장.csv')\n",
    "버스_points = np.array([list(i) for i in zip(버스['X좌표'], 버스['Y좌표'])])\n",
    "\n",
    "지하철 = pd.read_csv('./data/홍제3동_지하철역.csv', encoding='UTF-8', index_col=0)\n",
    "지하철_points = np.array([list(i) for i in zip(지하철['경도'], 지하철['위도'])])\n",
    "\n",
    "주차장 = pd.read_csv('./data/홍제3동_주차장.csv', encoding='UTF-8', index_col=0)\n",
    "주차장_points = np.array([list(i) for i in zip(주차장['경도'], 주차장['위도'])])\n",
    "\n",
    "주택 = pd.read_csv('./data/홍제3동_주택.csv', encoding='UTF-8', index_col=0)\n",
    "주택_points = np.array([list(i) for i in zip(주택['경도'], 주택['위도'])])"
   ]
  },
  {
   "cell_type": "code",
   "execution_count": 53,
   "metadata": {},
   "outputs": [
    {
     "name": "stdout",
     "output_type": "stream",
     "text": [
      "(12, 6)\n",
      "(142, 7)\n",
      "(3, 14)\n",
      "(22, 10)\n",
      "(13, 15)\n"
     ]
    }
   ],
   "source": [
    "print(입지후보지.shape)\n",
    "print(버스.shape)\n",
    "print(지하철.shape)\n",
    "print(주차장.shape)\n",
    "print(주택.shape)"
   ]
  },
  {
   "cell_type": "code",
   "execution_count": 54,
   "metadata": {},
   "outputs": [
    {
     "name": "stdout",
     "output_type": "stream",
     "text": [
      "(180, 2)\n"
     ]
    },
    {
     "data": {
      "text/plain": [
       "array([[126.93498401,  37.60242665],\n",
       "       [126.93996208,  37.59528039]])"
      ]
     },
     "execution_count": 54,
     "metadata": {},
     "output_type": "execute_result"
    }
   ],
   "source": [
    "X = list(버스['X좌표']) + list(지하철['경도']) + list(주차장['경도']) + list(주택['경도']) \n",
    "Y = list(버스['Y좌표']) + list(지하철['위도']) + list(주차장['위도']) + list(주택['위도'])\n",
    "points = np.array([list(i) for i in zip(X, Y)])\n",
    "print(points.shape)\n",
    "points[:2]"
   ]
  },
  {
   "cell_type": "code",
   "execution_count": 55,
   "metadata": {},
   "outputs": [],
   "source": [
    "전체w = points.shape[0]\n",
    "버스w = 버스.shape[0]\n",
    "지하철w = 지하철.shape[0]\n",
    "주차장w = 주차장.shape[0]\n",
    "주택w = 주택.shape[0]\n",
    "\n",
    "m1 = 0.278 * (전체w-버스w) / 전체w \n",
    "m2 = 0.193 * (전체w-지하철w) / 전체w \n",
    "m3 = 0.136 * (전체w-주차장w) / 전체w\n",
    "m4 = 0.392 * (전체w-주택w) / 전체w"
   ]
  },
  {
   "cell_type": "code",
   "execution_count": 56,
   "metadata": {},
   "outputs": [
    {
     "name": "stdout",
     "output_type": "stream",
     "text": [
      "  Number of points 180\n",
      "  K 3\n",
      "  Radius 300\n",
      "----- Output -----\n",
      "  Running time : 0.04208111763000488 seconds\n",
      "Optimal coverage points: 3.14562\n"
     ]
    },
    {
     "data": {
      "text/plain": [
       "array([[126.9463425 ,  37.59298781],\n",
       "       [126.952997  ,  37.594742  ],\n",
       "       [126.948142  ,  37.59743951]])"
      ]
     },
     "execution_count": 56,
     "metadata": {},
     "output_type": "execute_result"
    }
   ],
   "source": [
    "opts_sites, mobjVal = mclp(버스_points, 지하철_points, 주차장_points, 주택_points, points, 3, 300)\n",
    "opts_sites"
   ]
  },
  {
   "cell_type": "code",
   "execution_count": 57,
   "metadata": {},
   "outputs": [],
   "source": [
    "# 수요지점 = pd.DataFrame(points, columns=['경도','위도'])\n",
    "# 수요지점.to_csv('./result/홍제3동_수요지점.csv', index=False, encoding='cp949')\n",
    "\n",
    "# 후보지 = pd.DataFrame(opts_sites, columns=['경도','위도'])\n",
    "# 후보지.to_csv('./result/홍제3동_후보지.csv', index=False, encoding='cp949')"
   ]
  },
  {
   "cell_type": "markdown",
   "metadata": {},
   "source": [
    "## 3. 부암동"
   ]
  },
  {
   "cell_type": "code",
   "execution_count": 58,
   "metadata": {},
   "outputs": [],
   "source": [
    "입지후보지 = pd.read_csv('./data/최종입지선정후보군.csv', encoding='EUC-KR')\n",
    "입지후보지 = 입지후보지[입지후보지['행정동'] == '부암동']\n",
    "\n",
    "버스 = pd.read_csv('./data/부암동_버스정류장.csv')\n",
    "버스_points = np.array([list(i) for i in zip(버스['X좌표'], 버스['Y좌표'])])\n",
    "\n",
    "지하철 = pd.read_csv('./data/부암동_지하철역.csv', encoding='UTF-8', index_col=0)\n",
    "지하철_points = np.array([list(i) for i in zip(지하철['경도'], 지하철['위도'])])\n",
    "\n",
    "주차장 = pd.read_csv('./data/부암동_주차장.csv', encoding='UTF-8', index_col=0)\n",
    "주차장_points = np.array([list(i) for i in zip(주차장['경도'], 주차장['위도'])])\n",
    "\n",
    "주택 = pd.read_csv('./data/부암동_주택.csv', encoding='UTF-8', index_col=0)\n",
    "주택_points = np.array([list(i) for i in zip(주택['경도'], 주택['위도'])])"
   ]
  },
  {
   "cell_type": "code",
   "execution_count": 59,
   "metadata": {},
   "outputs": [
    {
     "name": "stdout",
     "output_type": "stream",
     "text": [
      "(4, 6)\n",
      "(116, 7)\n",
      "(2, 14)\n",
      "(22, 10)\n",
      "(7, 15)\n"
     ]
    }
   ],
   "source": [
    "print(입지후보지.shape)\n",
    "print(버스.shape)\n",
    "print(지하철.shape)\n",
    "print(주차장.shape)\n",
    "print(주택.shape)"
   ]
  },
  {
   "cell_type": "code",
   "execution_count": 60,
   "metadata": {},
   "outputs": [
    {
     "name": "stdout",
     "output_type": "stream",
     "text": [
      "(147, 2)\n"
     ]
    },
    {
     "data": {
      "text/plain": [
       "array([[126.9443495 ,  37.5884786 ],\n",
       "       [126.94289344,  37.5919094 ]])"
      ]
     },
     "execution_count": 60,
     "metadata": {},
     "output_type": "execute_result"
    }
   ],
   "source": [
    "X = list(버스['X좌표']) + list(지하철['경도']) + list(주차장['경도']) + list(주택['경도'])\n",
    "Y = list(버스['Y좌표']) + list(지하철['위도']) + list(주차장['위도']) + list(주택['위도'])\n",
    "points = np.array([list(i) for i in zip(X, Y)])\n",
    "print(points.shape)\n",
    "points[:2]"
   ]
  },
  {
   "cell_type": "code",
   "execution_count": 61,
   "metadata": {},
   "outputs": [],
   "source": [
    "전체w = points.shape[0]\n",
    "버스w = 버스.shape[0]\n",
    "지하철w = 지하철.shape[0]\n",
    "주차장w = 주차장.shape[0]\n",
    "주택w = 주택.shape[0]\n",
    "\n",
    "m1 = 0.278 * (전체w-버스w) / 전체w \n",
    "m2 = 0.193 * (전체w-지하철w) / 전체w \n",
    "m3 = 0.136 * (전체w-주차장w) / 전체w\n",
    "m4 = 0.392 * (전체w-주택w) / 전체w"
   ]
  },
  {
   "cell_type": "code",
   "execution_count": 62,
   "metadata": {},
   "outputs": [
    {
     "name": "stdout",
     "output_type": "stream",
     "text": [
      "  Number of points 147\n",
      "  K 1\n",
      "  Radius 300\n",
      "----- Output -----\n",
      "  Running time : 0.01990962028503418 seconds\n",
      "Optimal coverage points: 0.469007\n"
     ]
    },
    {
     "data": {
      "text/plain": [
       "array([[126.9612391 ,  37.60158549]])"
      ]
     },
     "execution_count": 62,
     "metadata": {},
     "output_type": "execute_result"
    }
   ],
   "source": [
    "opts_sites, mobjVal = mclp(버스_points, 지하철_points, 주차장_points, 주택_points, points, 1, 300)\n",
    "opts_sites"
   ]
  },
  {
   "cell_type": "code",
   "execution_count": 63,
   "metadata": {},
   "outputs": [],
   "source": [
    "# 수요지점 = pd.DataFrame(points, columns=['경도','위도'])\n",
    "# 수요지점.to_csv('./result/부암동_수요지점.csv', index=False, encoding='cp949')\n",
    "\n",
    "# 후보지 = pd.DataFrame(opts_sites, columns=['경도','위도'])\n",
    "# 후보지.to_csv('./result/부암동_후보지.csv', index=False, encoding='cp949')"
   ]
  },
  {
   "cell_type": "markdown",
   "metadata": {},
   "source": [
    "## 4. 반포본동"
   ]
  },
  {
   "cell_type": "code",
   "execution_count": 64,
   "metadata": {},
   "outputs": [],
   "source": [
    "입지후보지 = pd.read_csv('./data/최종입지선정후보군.csv', encoding='EUC-KR')\n",
    "입지후보지 = 입지후보지[입지후보지['행정동'] == '반포본동']\n",
    "\n",
    "버스 = pd.read_csv('./data/반포본동_버스정류장.csv')\n",
    "버스_points = np.array([list(i) for i in zip(버스['X좌표'], 버스['Y좌표'])])\n",
    "\n",
    "지하철 = pd.read_csv('./data/반포본동_지하철역.csv', encoding='UTF-8', index_col=0)\n",
    "지하철_points = np.array([list(i) for i in zip(지하철['경도'], 지하철['위도'])])\n",
    "\n",
    "주차장 = pd.read_csv('./data/반포본동_주차장.csv', encoding='UTF-8', index_col=0)\n",
    "주차장_points = np.array([list(i) for i in zip(주차장['경도'], 주차장['위도'])])\n",
    "\n",
    "주택 = pd.read_csv('./data/반포본동_주택.csv', encoding='UTF-8', index_col=0)\n",
    "주택_points = np.array([list(i) for i in zip(주택['경도'], 주택['위도'])])"
   ]
  },
  {
   "cell_type": "code",
   "execution_count": 65,
   "metadata": {},
   "outputs": [
    {
     "name": "stdout",
     "output_type": "stream",
     "text": [
      "(10, 6)\n",
      "(99, 7)\n",
      "(8, 14)\n",
      "(20, 10)\n",
      "(6, 15)\n"
     ]
    }
   ],
   "source": [
    "print(입지후보지.shape)\n",
    "print(버스.shape)\n",
    "print(지하철.shape)\n",
    "print(주차장.shape)\n",
    "print(주택.shape)"
   ]
  },
  {
   "cell_type": "code",
   "execution_count": 66,
   "metadata": {},
   "outputs": [
    {
     "name": "stdout",
     "output_type": "stream",
     "text": [
      "(133, 2)\n"
     ]
    },
    {
     "data": {
      "text/plain": [
       "array([[127.00526271,  37.50633499],\n",
       "       [126.99580825,  37.50345516]])"
      ]
     },
     "execution_count": 66,
     "metadata": {},
     "output_type": "execute_result"
    }
   ],
   "source": [
    "X = list(버스['X좌표']) + list(지하철['경도']) + list(주차장['경도']) + list(주택['경도'])\n",
    "Y = list(버스['Y좌표']) + list(지하철['위도']) + list(주차장['위도']) + list(주택['위도'])\n",
    "points = np.array([list(i) for i in zip(X, Y)])\n",
    "print(points.shape)\n",
    "points[:2]"
   ]
  },
  {
   "cell_type": "code",
   "execution_count": 67,
   "metadata": {},
   "outputs": [],
   "source": [
    "전체w = points.shape[0]\n",
    "버스w = 버스.shape[0]\n",
    "지하철w = 지하철.shape[0]\n",
    "주차장w = 주차장.shape[0]\n",
    "주택w = 주택.shape[0]\n",
    "\n",
    "m1 = 0.278 * (전체w-버스w) / 전체w \n",
    "m2 = 0.193 * (전체w-지하철w) / 전체w \n",
    "m3 = 0.136 * (전체w-주차장w) / 전체w\n",
    "m4 = 0.392 * (전체w-주택w) / 전체w"
   ]
  },
  {
   "cell_type": "code",
   "execution_count": 68,
   "metadata": {},
   "outputs": [
    {
     "name": "stdout",
     "output_type": "stream",
     "text": [
      "  Number of points 133\n",
      "  K 3\n",
      "  Radius 300\n",
      "----- Output -----\n",
      "  Running time : 0.030358076095581055 seconds\n",
      "Optimal coverage points: 1.14975\n"
     ]
    },
    {
     "data": {
      "text/plain": [
       "array([[126.991238,  37.500712],\n",
       "       [126.986158,  37.50044 ],\n",
       "       [126.987471,  37.499605]])"
      ]
     },
     "execution_count": 68,
     "metadata": {},
     "output_type": "execute_result"
    }
   ],
   "source": [
    "opts_sites, mobjVal = mclp(버스_points, 지하철_points, 주차장_points, 주택_points, points, 3, 300)\n",
    "opts_sites"
   ]
  },
  {
   "cell_type": "code",
   "execution_count": 69,
   "metadata": {},
   "outputs": [],
   "source": [
    "# 수요지점 = pd.DataFrame(points, columns=['경도','위도'])\n",
    "# 수요지점.to_csv('./result/반포본동_수요지점.csv', index=False, encoding='cp949')\n",
    "\n",
    "# 후보지 = pd.DataFrame(opts_sites, columns=['경도','위도'])\n",
    "# 후보지.to_csv('./result/반포본동_후보지.csv', index=False, encoding='cp949')"
   ]
  },
  {
   "cell_type": "markdown",
   "metadata": {},
   "source": [
    "- 모든 후보지를 종합하여 './result/MCLP_후보지.csv' 파일 생성"
   ]
  },
  {
   "cell_type": "code",
   "execution_count": null,
   "metadata": {},
   "outputs": [],
   "source": []
  }
 ],
 "metadata": {
  "kernelspec": {
   "display_name": "Python 3",
   "language": "python",
   "name": "python3"
  },
  "language_info": {
   "codemirror_mode": {
    "name": "ipython",
    "version": 3
   },
   "file_extension": ".py",
   "mimetype": "text/x-python",
   "name": "python",
   "nbconvert_exporter": "python",
   "pygments_lexer": "ipython3",
   "version": "3.8.3"
  },
  "toc": {
   "base_numbering": 1,
   "nav_menu": {},
   "number_sections": false,
   "sideBar": false,
   "skip_h1_title": false,
   "title_cell": "Table of Contents",
   "title_sidebar": "Contents",
   "toc_cell": true,
   "toc_position": {},
   "toc_section_display": true,
   "toc_window_display": false
  }
 },
 "nbformat": 4,
 "nbformat_minor": 2
}
