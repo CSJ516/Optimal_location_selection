{
 "cells": [
  {
   "cell_type": "markdown",
   "metadata": {
    "toc": true
   },
   "source": [
    "<h1>Table of Contents<span class=\"tocSkip\"></span></h1>\n",
    "<div class=\"toc\"><ul class=\"toc-item\"><li><span><a href=\"#역촌동\" data-toc-modified-id=\"역촌동-1\">역촌동</a></span></li><li><span><a href=\"#홍제3동\" data-toc-modified-id=\"홍제3동-2\">홍제3동</a></span></li><li><span><a href=\"#부암동\" data-toc-modified-id=\"부암동-3\">부암동</a></span></li><li><span><a href=\"#반포본동\" data-toc-modified-id=\"반포본동-4\">반포본동</a></span></li></ul></div>"
   ]
  },
  {
   "cell_type": "code",
   "execution_count": 8,
   "metadata": {},
   "outputs": [],
   "source": [
    "import numpy as np\n",
    "from scipy.spatial import distance_matrix\n",
    "from gurobipy import *\n",
    "#from scipy.spatial import ConvexHull\n",
    "#from shapely.geometry import Polygon, Point\n",
    "from numpy import random\n",
    "import time\n",
    "import pandas as pd\n",
    "from itertools import zip_longest   # zip 함수 길이 다를 경우\n",
    "from haversine import haversine"
   ]
  },
  {
   "cell_type": "markdown",
   "metadata": {},
   "source": [
    "# 역촌동"
   ]
  },
  {
   "cell_type": "code",
   "execution_count": 9,
   "metadata": {},
   "outputs": [],
   "source": [
    "입지후보지 = pd.read_csv('수정_최종후보입지.csv', encoding='EUC-KR')\n",
    "입지후보지 = 입지후보지[입지후보지['행정동'] == '역촌동']\n",
    "\n",
    "버스 = pd.read_csv('역촌동_버스정류장.csv')\n",
    "버스_points = np.array([list(i) for i in zip(버스['X좌표'], 버스['Y좌표'])])\n",
    "\n",
    "지하철 = pd.read_csv('역촌동_지하철역.csv', encoding='UTF-8', index_col=0)\n",
    "지하철_points = np.array([list(i) for i in zip(지하철['경도'], 지하철['위도'])])\n",
    "\n",
    "주차장 = pd.read_csv('역촌동_주차장.csv', encoding='UTF-8', index_col=0)\n",
    "주차장_points = np.array([list(i) for i in zip(주차장['경도'], 주차장['위도'])])\n",
    "\n",
    "주택 = pd.read_csv('역촌동_주택.csv', encoding='UTF-8', index_col=0)\n",
    "주택_points = np.array([list(i) for i in zip(주택['위도'], 주택['경도'])])   # 위도 경도 바뀜"
   ]
  },
  {
   "cell_type": "code",
   "execution_count": 10,
   "metadata": {},
   "outputs": [
    {
     "name": "stdout",
     "output_type": "stream",
     "text": [
      "(9, 6)\n",
      "(195, 7)\n",
      "(9, 14)\n",
      "(15, 10)\n",
      "(17, 15)\n"
     ]
    }
   ],
   "source": [
    "print(입지후보지.shape)\n",
    "print(버스.shape)\n",
    "print(지하철.shape)\n",
    "print(주차장.shape)\n",
    "print(주택.shape)"
   ]
  },
  {
   "cell_type": "code",
   "execution_count": 11,
   "metadata": {},
   "outputs": [],
   "source": [
    "X = list(버스['X좌표']) + list(지하철['경도']) + list(주차장['경도']) + list(주택['위도'])     # 주택 위도 경도 이름 바뀜\n",
    "Y = list(버스['Y좌표']) + list(지하철['위도']) + list(주차장['위도']) + list(주택['경도'])"
   ]
  },
  {
   "cell_type": "code",
   "execution_count": 12,
   "metadata": {},
   "outputs": [
    {
     "name": "stdout",
     "output_type": "stream",
     "text": [
      "(236, 2)\n"
     ]
    },
    {
     "data": {
      "text/plain": [
       "array([[126.93498401,  37.60242665],\n",
       "       [126.92806944,  37.61240306]])"
      ]
     },
     "execution_count": 12,
     "metadata": {},
     "output_type": "execute_result"
    }
   ],
   "source": [
    "points = np.array([list(i) for i in zip(X, Y)])\n",
    "print(points.shape)\n",
    "points[:2]"
   ]
  },
  {
   "cell_type": "code",
   "execution_count": 13,
   "metadata": {},
   "outputs": [],
   "source": [
    "전체w = points.shape[0]\n",
    "버스w = 버스.shape[0]\n",
    "지하철w = 지하철.shape[0]\n",
    "주차장w = 주차장.shape[0]\n",
    "주택w = 주택.shape[0]     # 아래 가중치 모두 수정해야 함! (고령 -> 전체 대상)"
   ]
  },
  {
   "cell_type": "code",
   "execution_count": 11,
   "metadata": {},
   "outputs": [],
   "source": [
    "# 통행수단별 선호도에 대한 가중치 * 데이터 불균형 해소를 위한 가중치\n",
    "m1 = 0.278 * (전체수요지점수-버스수요지점수) / 전체수요지점수 \n",
    "m2 = 0.193 * (전체수요지점수-지하철수요지점수) / 전체수요지점수 \n",
    "m3 = 0.136 * (전체수요지점수-주차장수요지점수) / 전체수요지점수\n",
    "m4 = 0.392 * (전체수요지점수-주택수요지점수) / 전체수요지점수"
   ]
  },
  {
   "cell_type": "code",
   "execution_count": 19,
   "metadata": {},
   "outputs": [
    {
     "data": {
      "text/html": [
       "<div>\n",
       "<style scoped>\n",
       "    .dataframe tbody tr th:only-of-type {\n",
       "        vertical-align: middle;\n",
       "    }\n",
       "\n",
       "    .dataframe tbody tr th {\n",
       "        vertical-align: top;\n",
       "    }\n",
       "\n",
       "    .dataframe thead th {\n",
       "        text-align: right;\n",
       "    }\n",
       "</style>\n",
       "<table border=\"1\" class=\"dataframe\">\n",
       "  <thead>\n",
       "    <tr style=\"text-align: right;\">\n",
       "      <th></th>\n",
       "      <th>정류소명</th>\n",
       "      <th>X좌표</th>\n",
       "      <th>Y좌표</th>\n",
       "      <th>정류버스수</th>\n",
       "      <th>행정동</th>\n",
       "      <th>행정동_경도</th>\n",
       "      <th>행정동_위도</th>\n",
       "    </tr>\n",
       "  </thead>\n",
       "  <tbody>\n",
       "    <tr>\n",
       "      <th>0</th>\n",
       "      <td>녹번역</td>\n",
       "      <td>126.934984</td>\n",
       "      <td>37.602427</td>\n",
       "      <td>41</td>\n",
       "      <td>녹번동</td>\n",
       "      <td>126.929920</td>\n",
       "      <td>37.602216</td>\n",
       "    </tr>\n",
       "    <tr>\n",
       "      <th>1</th>\n",
       "      <td>불광역3.6호선</td>\n",
       "      <td>126.928069</td>\n",
       "      <td>37.612403</td>\n",
       "      <td>24</td>\n",
       "      <td>대조동</td>\n",
       "      <td>126.920825</td>\n",
       "      <td>37.614190</td>\n",
       "    </tr>\n",
       "    <tr>\n",
       "      <th>2</th>\n",
       "      <td>동명여고.천주교불광동성당</td>\n",
       "      <td>126.923892</td>\n",
       "      <td>37.616191</td>\n",
       "      <td>22</td>\n",
       "      <td>대조동</td>\n",
       "      <td>126.920825</td>\n",
       "      <td>37.614190</td>\n",
       "    </tr>\n",
       "    <tr>\n",
       "      <th>3</th>\n",
       "      <td>불광역3호선.서울혁신파크</td>\n",
       "      <td>126.930866</td>\n",
       "      <td>37.609225</td>\n",
       "      <td>22</td>\n",
       "      <td>대조동</td>\n",
       "      <td>126.920825</td>\n",
       "      <td>37.614190</td>\n",
       "    </tr>\n",
       "    <tr>\n",
       "      <th>4</th>\n",
       "      <td>은평구청</td>\n",
       "      <td>126.930311</td>\n",
       "      <td>37.601253</td>\n",
       "      <td>22</td>\n",
       "      <td>응암1동</td>\n",
       "      <td>126.926787</td>\n",
       "      <td>37.600697</td>\n",
       "    </tr>\n",
       "    <tr>\n",
       "      <th>...</th>\n",
       "      <td>...</td>\n",
       "      <td>...</td>\n",
       "      <td>...</td>\n",
       "      <td>...</td>\n",
       "      <td>...</td>\n",
       "      <td>...</td>\n",
       "      <td>...</td>\n",
       "    </tr>\n",
       "    <tr>\n",
       "      <th>190</th>\n",
       "      <td>숭실고등학교</td>\n",
       "      <td>126.903684</td>\n",
       "      <td>37.592390</td>\n",
       "      <td>1</td>\n",
       "      <td>신사2동</td>\n",
       "      <td>126.908224</td>\n",
       "      <td>37.590240</td>\n",
       "    </tr>\n",
       "    <tr>\n",
       "      <th>191</th>\n",
       "      <td>안디옥교회.새절역</td>\n",
       "      <td>126.913143</td>\n",
       "      <td>37.590388</td>\n",
       "      <td>1</td>\n",
       "      <td>신사2동</td>\n",
       "      <td>126.908224</td>\n",
       "      <td>37.590240</td>\n",
       "    </tr>\n",
       "    <tr>\n",
       "      <th>192</th>\n",
       "      <td>신사초등학교.새절역</td>\n",
       "      <td>126.913479</td>\n",
       "      <td>37.593164</td>\n",
       "      <td>1</td>\n",
       "      <td>신사1동</td>\n",
       "      <td>126.911770</td>\n",
       "      <td>37.597793</td>\n",
       "    </tr>\n",
       "    <tr>\n",
       "      <th>193</th>\n",
       "      <td>상신초교후문.산새마을종점</td>\n",
       "      <td>126.905097</td>\n",
       "      <td>37.596840</td>\n",
       "      <td>1</td>\n",
       "      <td>신사2동</td>\n",
       "      <td>126.908224</td>\n",
       "      <td>37.590240</td>\n",
       "    </tr>\n",
       "    <tr>\n",
       "      <th>194</th>\n",
       "      <td>브라운스톤빌앞</td>\n",
       "      <td>126.912487</td>\n",
       "      <td>37.590453</td>\n",
       "      <td>1</td>\n",
       "      <td>신사2동</td>\n",
       "      <td>126.908224</td>\n",
       "      <td>37.590240</td>\n",
       "    </tr>\n",
       "  </tbody>\n",
       "</table>\n",
       "<p>195 rows × 7 columns</p>\n",
       "</div>"
      ],
      "text/plain": [
       "              정류소명         X좌표        Y좌표  정류버스수   행정동      행정동_경도     행정동_위도\n",
       "0              녹번역  126.934984  37.602427     41   녹번동  126.929920  37.602216\n",
       "1         불광역3.6호선  126.928069  37.612403     24   대조동  126.920825  37.614190\n",
       "2    동명여고.천주교불광동성당  126.923892  37.616191     22   대조동  126.920825  37.614190\n",
       "3    불광역3호선.서울혁신파크  126.930866  37.609225     22   대조동  126.920825  37.614190\n",
       "4             은평구청  126.930311  37.601253     22  응암1동  126.926787  37.600697\n",
       "..             ...         ...        ...    ...   ...         ...        ...\n",
       "190         숭실고등학교  126.903684  37.592390      1  신사2동  126.908224  37.590240\n",
       "191      안디옥교회.새절역  126.913143  37.590388      1  신사2동  126.908224  37.590240\n",
       "192     신사초등학교.새절역  126.913479  37.593164      1  신사1동  126.911770  37.597793\n",
       "193  상신초교후문.산새마을종점  126.905097  37.596840      1  신사2동  126.908224  37.590240\n",
       "194        브라운스톤빌앞  126.912487  37.590453      1  신사2동  126.908224  37.590240\n",
       "\n",
       "[195 rows x 7 columns]"
      ]
     },
     "execution_count": 19,
     "metadata": {},
     "output_type": "execute_result"
    }
   ],
   "source": [
    "버스"
   ]
  },
  {
   "cell_type": "code",
   "execution_count": 21,
   "metadata": {},
   "outputs": [
    {
     "name": "stdout",
     "output_type": "stream",
     "text": [
      "(195, 9)\n"
     ]
    },
    {
     "data": {
      "text/html": [
       "<div>\n",
       "<style scoped>\n",
       "    .dataframe tbody tr th:only-of-type {\n",
       "        vertical-align: middle;\n",
       "    }\n",
       "\n",
       "    .dataframe tbody tr th {\n",
       "        vertical-align: top;\n",
       "    }\n",
       "\n",
       "    .dataframe thead th {\n",
       "        text-align: right;\n",
       "    }\n",
       "</style>\n",
       "<table border=\"1\" class=\"dataframe\">\n",
       "  <thead>\n",
       "    <tr style=\"text-align: right;\">\n",
       "      <th>시설명</th>\n",
       "      <th>역말어린이공원</th>\n",
       "      <th>연서어린이공원</th>\n",
       "      <th>자투리(녹번)마을마당</th>\n",
       "      <th>백  련</th>\n",
       "      <th>신  사</th>\n",
       "      <th>대조어린이공원</th>\n",
       "      <th>길마어린이공원</th>\n",
       "      <th>궁말어린이공원</th>\n",
       "      <th>호연어린이공원</th>\n",
       "    </tr>\n",
       "    <tr>\n",
       "      <th>정류소명</th>\n",
       "      <th></th>\n",
       "      <th></th>\n",
       "      <th></th>\n",
       "      <th></th>\n",
       "      <th></th>\n",
       "      <th></th>\n",
       "      <th></th>\n",
       "      <th></th>\n",
       "      <th></th>\n",
       "    </tr>\n",
       "  </thead>\n",
       "  <tbody>\n",
       "    <tr>\n",
       "      <th>녹번역</th>\n",
       "      <td>2324.833082</td>\n",
       "      <td>2040.304448</td>\n",
       "      <td>2169.371567</td>\n",
       "      <td>1768.302079</td>\n",
       "      <td>2201.173593</td>\n",
       "      <td>1837.613729</td>\n",
       "      <td>2325.923573</td>\n",
       "      <td>2095.420987</td>\n",
       "      <td>2041.596088</td>\n",
       "    </tr>\n",
       "    <tr>\n",
       "      <th>불광역3.6호선</th>\n",
       "      <td>1579.651018</td>\n",
       "      <td>1383.162101</td>\n",
       "      <td>1635.395359</td>\n",
       "      <td>991.912871</td>\n",
       "      <td>1517.369056</td>\n",
       "      <td>1307.778092</td>\n",
       "      <td>1581.678649</td>\n",
       "      <td>1309.360781</td>\n",
       "      <td>1385.581880</td>\n",
       "    </tr>\n",
       "    <tr>\n",
       "      <th>동명여고.천주교불광동성당</th>\n",
       "      <td>1238.111726</td>\n",
       "      <td>1137.501763</td>\n",
       "      <td>1447.508623</td>\n",
       "      <td>716.649567</td>\n",
       "      <td>1231.686951</td>\n",
       "      <td>1175.620908</td>\n",
       "      <td>1240.701082</td>\n",
       "      <td>963.047911</td>\n",
       "      <td>1140.461429</td>\n",
       "    </tr>\n",
       "  </tbody>\n",
       "</table>\n",
       "</div>"
      ],
      "text/plain": [
       "시설명                역말어린이공원      연서어린이공원  자투리(녹번)마을마당         백  련  \\\n",
       "정류소명                                                                \n",
       "녹번역            2324.833082  2040.304448  2169.371567  1768.302079   \n",
       "불광역3.6호선       1579.651018  1383.162101  1635.395359   991.912871   \n",
       "동명여고.천주교불광동성당  1238.111726  1137.501763  1447.508623   716.649567   \n",
       "\n",
       "시설명                   신  사      대조어린이공원      길마어린이공원      궁말어린이공원      호연어린이공원  \n",
       "정류소명                                                                            \n",
       "녹번역            2201.173593  1837.613729  2325.923573  2095.420987  2041.596088  \n",
       "불광역3.6호선       1517.369056  1307.778092  1581.678649  1309.360781  1385.581880  \n",
       "동명여고.천주교불광동성당  1231.686951  1175.620908  1240.701082   963.047911  1140.461429  "
      ]
     },
     "execution_count": 21,
     "metadata": {},
     "output_type": "execute_result"
    }
   ],
   "source": [
    "# 후보지와 수요지점 간 거리행렬 생성\n",
    "sites = np.array([list(i) for i in zip(입지후보지['x좌표'], 입지후보지['y좌표'])])\n",
    "D1 = []\n",
    "for i in 버스_points:\n",
    "    site = []\n",
    "    for j in sites:\n",
    "        site.append(haversine(i, j)*1000)\n",
    "    D1.append(site)\n",
    "D1 = np.array(D1)\n",
    "print(D1.shape)\n",
    "D1 = pd.DataFrame(D1, columns=입지후보지['시설명'], index=버스['정류소명'])\n",
    "D1.head(3)"
   ]
  },
  {
   "cell_type": "code",
   "execution_count": 13,
   "metadata": {},
   "outputs": [],
   "source": [
    "# haversine -> meter 단위로 수정\n",
    "def mclp3(버스_points, 지하철_points, 주차장_points, 주택_points, points, K, radius):\n",
    "    \n",
    "    sites = np.array([list(i) for i in zip(입지후보지['x좌표'], 입지후보지['y좌표'])])\n",
    "    J = sites.shape[0]                                         # 후보지 수\n",
    "    \n",
    "    # 수요지점 수\n",
    "    A = 버스_points.shape[0]\n",
    "    B = 지하철_points.shape[0]\n",
    "    C = 주차장_points.shape[0]\n",
    "    D = 주택_points.shape[0]\n",
    "    \n",
    "    # 후보지와 수요지점 간 거리 계산\n",
    "    D1 = []\n",
    "    for i in 버스_points:\n",
    "        site = []\n",
    "        for j in sites:\n",
    "            site.append(haversine(i, j)*1000)\n",
    "        D1.append(site)\n",
    "    D1 = np.array(D1)\n",
    "    \n",
    "    D2 = []\n",
    "    for i in 지하철_points:\n",
    "        site = []\n",
    "        for j in sites:\n",
    "            site.append(haversine(i, j)*1000)\n",
    "        D2.append(site)\n",
    "    D2 = np.array(D2)    \n",
    "    \n",
    "    D3 = []\n",
    "    for i in 주차장_points:\n",
    "        site = []\n",
    "        for j in sites:\n",
    "            site.append(haversine(i, j)*1000)\n",
    "        D3.append(site)\n",
    "    D3 = np.array(D3)\n",
    "    \n",
    "    D4 = []\n",
    "    for i in 주택_points:\n",
    "        site = []\n",
    "        for j in sites:\n",
    "            site.append(haversine(i, j)*1000)\n",
    "        D4.append(site)\n",
    "    D4 = np.array(D4)\n",
    "    \n",
    "    # 반경 내 속하면 1, 아니면 0\n",
    "    for i in [D1, D2, D3, D4]:\n",
    "        mask1 = i<=radius\n",
    "        i[mask1]=1                                                 \n",
    "        i[~mask1]=0\n",
    "\n",
    "    m = Model()\n",
    "    x1, x2, x3, x4 = {}, {}, {}, {}\n",
    "    y = {}\n",
    "    \n",
    "    # 수요지점 변수 추가\n",
    "    for i in range(A):                                       \n",
    "        x1[i] = m.addVar(vtype=GRB.BINARY, name=\"x1%d\" % i)\n",
    "    for i in range(B):                                       \n",
    "        x2[i] = m.addVar(vtype=GRB.BINARY, name=\"x2%d\" % i)\n",
    "    for i in range(C):                                       \n",
    "        x3[i] = m.addVar(vtype=GRB.BINARY, name=\"x3%d\" % i)\n",
    "    for i in range(D):                                       \n",
    "        x4[i] = m.addVar(vtype=GRB.BINARY, name=\"x4%d\" % i)\n",
    "    \n",
    "    for j in range(J):\n",
    "        y[j] = m.addVar(vtype=GRB.BINARY, name=\"y%d\" % j)     # 후보지 변수 추가\n",
    "\n",
    "    m.update()\n",
    "    m.addConstr(quicksum(y[j] for j in range(J)) == K)        # 후보지 제약 조건\n",
    "\n",
    "    # 수요지점 제약 조건\n",
    "    for i in range(A): \n",
    "        m.addConstr(quicksum(y[j] for j in np.where(D1[i]==1)[0]) >= x1[i])\n",
    "    for i in range(B): \n",
    "        m.addConstr(quicksum(y[j] for j in np.where(D2[i]==1)[0]) >= x2[i])\n",
    "    for i in range(C): \n",
    "        m.addConstr(quicksum(y[j] for j in np.where(D3[i]==1)[0]) >= x3[i])\n",
    "    for i in range(D): \n",
    "        m.addConstr(quicksum(y[j] for j in np.where(D4[i]==1)[0]) >= x4[i])\n",
    "    \n",
    "    # 목적함수 수정\n",
    "    m.setObjective(quicksum(i for i in [m1*x1[a] for a in range(A)] + [m2*x2[b] for b in range(B)] + \\\n",
    "                            [m3*x3[c] for c in range(C)] + [m4*x4[d] for d in range(D)]), GRB.MAXIMIZE)\n",
    "\n",
    "    m.setParam('OutputFlag', 0)\n",
    "    m.optimize()\n",
    "    print('Optimal coverage points: %g' % m.objVal)\n",
    "\n",
    "    solution = []\n",
    "    if m.status == GRB.Status.OPTIMAL:\n",
    "        for v in m.getVars():\n",
    "            if v.x==1 and v.varName[0]==\"y\":\n",
    "                solution.append(int(v.varName[1:]))\n",
    "    opt_sites = sites[solution]\n",
    "    return opt_sites,m.objVal"
   ]
  },
  {
   "cell_type": "code",
   "execution_count": 14,
   "metadata": {},
   "outputs": [
    {
     "name": "stdout",
     "output_type": "stream",
     "text": [
      "  Optimal coverage points: 1.76976\n"
     ]
    },
    {
     "data": {
      "text/plain": [
       "array([[126.915551,  37.599552],\n",
       "       [126.918478,  37.601073],\n",
       "       [126.916513,  37.608641]])"
      ]
     },
     "execution_count": 14,
     "metadata": {},
     "output_type": "execute_result"
    }
   ],
   "source": [
    "opts_sites, mobjVal = mclp(버스_points, 지하철_points, 주차장_points, 주택_points, points, 3, 300)\n",
    "opts_sites"
   ]
  },
  {
   "cell_type": "code",
   "execution_count": 68,
   "metadata": {},
   "outputs": [],
   "source": [
    "수요지점 = pd.DataFrame(points, columns=['경도','위도'])\n",
    "수요지점.to_csv('./data/역촌동_수요지점.csv', index=False, encoding='cp949')\n",
    "\n",
    "후보지 = pd.DataFrame(opts_sites, columns=['경도','위도'])\n",
    "후보지.to_csv('./data/역촌동_후보지.csv', index=False, encoding='cp949')\n",
    "\n",
    "버스_수요지점 = pd.DataFrame(버스_points, columns=['경도','위도'])\n",
    "버스_수요지점.to_csv('./data/역촌동_버스수요지점.csv', index=False, encoding='cp949')\n",
    "\n",
    "지하철_수요지점 = pd.DataFrame(지하철_points, columns=['경도','위도'])\n",
    "지하철_수요지점.to_csv('./data/역촌동_지하철수요지점.csv', index=False, encoding='cp949')\n",
    "\n",
    "주차장_수요지점 = pd.DataFrame(주차장_points, columns=['경도','위도'])\n",
    "주차장_수요지점.to_csv('./data/역촌동_주차장수요지점.csv', index=False, encoding='cp949')\n",
    "\n",
    "주택_수요지점 = pd.DataFrame(주택_points, columns=['경도','위도'])\n",
    "주택_수요지점.to_csv('./data/역촌동_주택수요지점.csv', index=False, encoding='cp949')"
   ]
  },
  {
   "cell_type": "markdown",
   "metadata": {},
   "source": [
    "# 홍제3동"
   ]
  },
  {
   "cell_type": "code",
   "execution_count": 74,
   "metadata": {},
   "outputs": [],
   "source": [
    "입지후보지 = pd.read_csv('수정_최종후보입지.csv', encoding='EUC-KR')\n",
    "입지후보지 = 입지후보지[입지후보지['행정동'] == '홍제3동']\n",
    "\n",
    "버스 = pd.read_csv('홍제3동_버스정류장.csv')\n",
    "버스_points = np.array([list(i) for i in zip(버스['X좌표'], 버스['Y좌표'])])\n",
    "\n",
    "지하철 = pd.read_csv('홍제3동_지하철역.csv', encoding='UTF-8', index_col=0)\n",
    "지하철_points = np.array([list(i) for i in zip(지하철['경도'], 지하철['위도'])])\n",
    "\n",
    "주차장 = pd.read_csv('홍제3동_주차장.csv', encoding='UTF-8', index_col=0)\n",
    "주차장_points = np.array([list(i) for i in zip(주차장['경도'], 주차장['위도'])])\n",
    "\n",
    "주택 = pd.read_csv('홍제3동_주택.csv', encoding='UTF-8', index_col=0)\n",
    "주택_points = np.array([list(i) for i in zip(주택['위도'], 주택['경도'])])   # 위도 경도 바뀜"
   ]
  },
  {
   "cell_type": "code",
   "execution_count": 75,
   "metadata": {},
   "outputs": [
    {
     "name": "stdout",
     "output_type": "stream",
     "text": [
      "(12, 6)\n",
      "(142, 7)\n",
      "(3, 14)\n",
      "(22, 10)\n",
      "(13, 15)\n"
     ]
    }
   ],
   "source": [
    "print(입지후보지.shape)\n",
    "print(버스.shape)\n",
    "print(지하철.shape)\n",
    "print(주차장.shape)\n",
    "print(주택.shape)"
   ]
  },
  {
   "cell_type": "code",
   "execution_count": 76,
   "metadata": {},
   "outputs": [],
   "source": [
    "X = list(버스['X좌표']) + list(지하철['경도']) + list(주차장['경도']) + list(주택['위도'])     # 주택 위도 경도 이름 바뀜\n",
    "Y = list(버스['Y좌표']) + list(지하철['위도']) + list(주차장['위도']) + list(주택['경도'])"
   ]
  },
  {
   "cell_type": "code",
   "execution_count": 77,
   "metadata": {},
   "outputs": [
    {
     "name": "stdout",
     "output_type": "stream",
     "text": [
      "(180, 2)\n"
     ]
    },
    {
     "data": {
      "text/plain": [
       "array([[126.93498401,  37.60242665],\n",
       "       [126.93996208,  37.59528039]])"
      ]
     },
     "execution_count": 77,
     "metadata": {},
     "output_type": "execute_result"
    }
   ],
   "source": [
    "points = np.array([list(i) for i in zip(X, Y)])\n",
    "print(points.shape)\n",
    "points[:2]"
   ]
  },
  {
   "cell_type": "code",
   "execution_count": 78,
   "metadata": {},
   "outputs": [],
   "source": [
    "전체w = points.shape[0]\n",
    "버스w = 버스.shape[0]\n",
    "지하철w = 지하철.shape[0]\n",
    "주차장w = 주차장.shape[0]\n",
    "주택w = 주택.shape[0]"
   ]
  },
  {
   "cell_type": "code",
   "execution_count": 79,
   "metadata": {},
   "outputs": [],
   "source": [
    "m1 = (전체w-버스w)/전체w * 0.278 \n",
    "m2 = (전체w-지하철w)/전체w * 0.136 \n",
    "m3 = (전체w-주차장w)/전체w * 0.193 \n",
    "m4 = (전체w-주택w)/전체w * 0.392 "
   ]
  },
  {
   "cell_type": "code",
   "execution_count": 80,
   "metadata": {},
   "outputs": [
    {
     "name": "stdout",
     "output_type": "stream",
     "text": [
      "  Number of points 180\n",
      "  K 3\n",
      "  Radius 300\n",
      "----- Output -----\n",
      "  Running time : 0.03390979766845703 seconds\n",
      "  Optimal coverage points: 3.44582\n"
     ]
    },
    {
     "data": {
      "text/plain": [
       "array([[126.9463425 ,  37.59298781],\n",
       "       [126.952997  ,  37.594742  ],\n",
       "       [126.948142  ,  37.59743951]])"
      ]
     },
     "execution_count": 80,
     "metadata": {},
     "output_type": "execute_result"
    }
   ],
   "source": [
    "opts_sites, mobjVal = mclp3(버스_points, 지하철_points, 주차장_points, 주택_points, points, 3, 300)\n",
    "opts_sites"
   ]
  },
  {
   "cell_type": "code",
   "execution_count": 81,
   "metadata": {},
   "outputs": [],
   "source": [
    "수요지점 = pd.DataFrame(points, columns=['경도','위도'])\n",
    "수요지점.to_csv('./data/홍제3동_수요지점.csv', index=False, encoding='cp949')\n",
    "\n",
    "후보지 = pd.DataFrame(opts_sites, columns=['경도','위도'])\n",
    "후보지.to_csv('./data/홍제3동_후보지.csv', index=False, encoding='cp949')\n",
    "\n",
    "버스_수요지점 = pd.DataFrame(버스_points, columns=['경도','위도'])\n",
    "버스_수요지점.to_csv('./data/홍제3동_버스수요지점.csv', index=False, encoding='cp949')\n",
    "\n",
    "지하철_수요지점 = pd.DataFrame(지하철_points, columns=['경도','위도'])\n",
    "지하철_수요지점.to_csv('./data/홍제3동_지하철수요지점.csv', index=False, encoding='cp949')\n",
    "\n",
    "주차장_수요지점 = pd.DataFrame(주차장_points, columns=['경도','위도'])\n",
    "주차장_수요지점.to_csv('./data/홍제3동_주차장수요지점.csv', index=False, encoding='cp949')\n",
    "\n",
    "주택_수요지점 = pd.DataFrame(주택_points, columns=['경도','위도'])\n",
    "주택_수요지점.to_csv('./data/홍제3동_주택수요지점.csv', index=False, encoding='cp949')"
   ]
  },
  {
   "cell_type": "markdown",
   "metadata": {},
   "source": [
    "# 부암동"
   ]
  },
  {
   "cell_type": "code",
   "execution_count": 82,
   "metadata": {},
   "outputs": [],
   "source": [
    "입지후보지 = pd.read_csv('수정_최종후보입지.csv', encoding='EUC-KR')\n",
    "입지후보지 = 입지후보지[입지후보지['행정동'] == '부암동']\n",
    "\n",
    "버스 = pd.read_csv('부암동_버스정류장.csv')\n",
    "버스_points = np.array([list(i) for i in zip(버스['X좌표'], 버스['Y좌표'])])\n",
    "\n",
    "지하철 = pd.read_csv('부암동_지하철역.csv', encoding='UTF-8', index_col=0)\n",
    "지하철_points = np.array([list(i) for i in zip(지하철['경도'], 지하철['위도'])])\n",
    "\n",
    "주차장 = pd.read_csv('부암동_주차장.csv', encoding='UTF-8', index_col=0)\n",
    "주차장_points = np.array([list(i) for i in zip(주차장['경도'], 주차장['위도'])])\n",
    "\n",
    "주택 = pd.read_csv('부암동_주택.csv', encoding='UTF-8', index_col=0)\n",
    "주택_points = np.array([list(i) for i in zip(주택['위도'], 주택['경도'])])   # 위도 경도 바뀜"
   ]
  },
  {
   "cell_type": "code",
   "execution_count": 83,
   "metadata": {},
   "outputs": [
    {
     "name": "stdout",
     "output_type": "stream",
     "text": [
      "(4, 6)\n",
      "(116, 7)\n",
      "(2, 14)\n",
      "(22, 10)\n",
      "(7, 15)\n"
     ]
    }
   ],
   "source": [
    "print(입지후보지.shape)\n",
    "print(버스.shape)\n",
    "print(지하철.shape)\n",
    "print(주차장.shape)\n",
    "print(주택.shape)"
   ]
  },
  {
   "cell_type": "code",
   "execution_count": 84,
   "metadata": {},
   "outputs": [],
   "source": [
    "X = list(버스['X좌표']) + list(지하철['경도']) + list(주차장['경도']) + list(주택['위도'])     # 주택 위도 경도 이름 바뀜\n",
    "Y = list(버스['Y좌표']) + list(지하철['위도']) + list(주차장['위도']) + list(주택['경도'])"
   ]
  },
  {
   "cell_type": "code",
   "execution_count": 85,
   "metadata": {},
   "outputs": [
    {
     "name": "stdout",
     "output_type": "stream",
     "text": [
      "(147, 2)\n"
     ]
    },
    {
     "data": {
      "text/plain": [
       "array([[126.9443495 ,  37.5884786 ],\n",
       "       [126.94289344,  37.5919094 ]])"
      ]
     },
     "execution_count": 85,
     "metadata": {},
     "output_type": "execute_result"
    }
   ],
   "source": [
    "points = np.array([list(i) for i in zip(X, Y)])\n",
    "print(points.shape)\n",
    "points[:2]"
   ]
  },
  {
   "cell_type": "code",
   "execution_count": 86,
   "metadata": {},
   "outputs": [],
   "source": [
    "전체w = points.shape[0]\n",
    "버스w = 버스.shape[0]\n",
    "지하철w = 지하철.shape[0]\n",
    "주차장w = 주차장.shape[0]\n",
    "주택w = 주택.shape[0]"
   ]
  },
  {
   "cell_type": "code",
   "execution_count": 87,
   "metadata": {},
   "outputs": [],
   "source": [
    "m1 = (전체w-버스w)/전체w * 0.278 \n",
    "m2 = (전체w-지하철w)/전체w * 0.136 \n",
    "m3 = (전체w-주차장w)/전체w * 0.193 \n",
    "m4 = (전체w-주택w)/전체w * 0.392 "
   ]
  },
  {
   "cell_type": "code",
   "execution_count": 88,
   "metadata": {},
   "outputs": [
    {
     "name": "stdout",
     "output_type": "stream",
     "text": [
      "  Number of points 147\n",
      "  K 1\n",
      "  Radius 300\n",
      "----- Output -----\n",
      "  Running time : 0.00997471809387207 seconds\n",
      "  Optimal coverage points: 0.469007\n"
     ]
    },
    {
     "data": {
      "text/plain": [
       "array([[126.9612391 ,  37.60158549]])"
      ]
     },
     "execution_count": 88,
     "metadata": {},
     "output_type": "execute_result"
    }
   ],
   "source": [
    "opts_sites, mobjVal = mclp3(버스_points, 지하철_points, 주차장_points, 주택_points, points, 1, 300)\n",
    "opts_sites"
   ]
  },
  {
   "cell_type": "code",
   "execution_count": 89,
   "metadata": {},
   "outputs": [],
   "source": [
    "수요지점 = pd.DataFrame(points, columns=['경도','위도'])\n",
    "수요지점.to_csv('./data/부암동_수요지점.csv', index=False, encoding='cp949')\n",
    "\n",
    "후보지 = pd.DataFrame(opts_sites, columns=['경도','위도'])\n",
    "후보지.to_csv('./data/부암동_후보지.csv', index=False, encoding='cp949')\n",
    "\n",
    "버스_수요지점 = pd.DataFrame(버스_points, columns=['경도','위도'])\n",
    "버스_수요지점.to_csv('./data/부암동_버스수요지점.csv', index=False, encoding='cp949')\n",
    "\n",
    "지하철_수요지점 = pd.DataFrame(지하철_points, columns=['경도','위도'])\n",
    "지하철_수요지점.to_csv('./data/부암동_지하철수요지점.csv', index=False, encoding='cp949')\n",
    "\n",
    "주차장_수요지점 = pd.DataFrame(주차장_points, columns=['경도','위도'])\n",
    "주차장_수요지점.to_csv('./data/부암동_주차장수요지점.csv', index=False, encoding='cp949')\n",
    "\n",
    "주택_수요지점 = pd.DataFrame(주택_points, columns=['경도','위도'])\n",
    "주택_수요지점.to_csv('./data/부암동_주택수요지점.csv', index=False, encoding='cp949')"
   ]
  },
  {
   "cell_type": "markdown",
   "metadata": {},
   "source": [
    "# 반포본동"
   ]
  },
  {
   "cell_type": "code",
   "execution_count": 90,
   "metadata": {},
   "outputs": [],
   "source": [
    "입지후보지 = pd.read_csv('수정_최종후보입지.csv', encoding='EUC-KR')\n",
    "입지후보지 = 입지후보지[입지후보지['행정동'] == '반포본동']\n",
    "\n",
    "버스 = pd.read_csv('반포본동_버스정류장.csv')\n",
    "버스_points = np.array([list(i) for i in zip(버스['X좌표'], 버스['Y좌표'])])\n",
    "\n",
    "지하철 = pd.read_csv('반포본동_지하철역.csv', encoding='UTF-8', index_col=0)\n",
    "지하철_points = np.array([list(i) for i in zip(지하철['경도'], 지하철['위도'])])\n",
    "\n",
    "주차장 = pd.read_csv('반포본동_주차장.csv', encoding='UTF-8', index_col=0)\n",
    "주차장_points = np.array([list(i) for i in zip(주차장['경도'], 주차장['위도'])])\n",
    "\n",
    "주택 = pd.read_csv('반포본동_주택.csv', encoding='UTF-8', index_col=0)\n",
    "주택_points = np.array([list(i) for i in zip(주택['위도'], 주택['경도'])])   # 위도 경도 바뀜"
   ]
  },
  {
   "cell_type": "code",
   "execution_count": 91,
   "metadata": {},
   "outputs": [
    {
     "name": "stdout",
     "output_type": "stream",
     "text": [
      "(10, 6)\n",
      "(99, 7)\n",
      "(8, 14)\n",
      "(20, 10)\n",
      "(6, 15)\n"
     ]
    }
   ],
   "source": [
    "print(입지후보지.shape)\n",
    "print(버스.shape)\n",
    "print(지하철.shape)\n",
    "print(주차장.shape)\n",
    "print(주택.shape)"
   ]
  },
  {
   "cell_type": "code",
   "execution_count": 92,
   "metadata": {},
   "outputs": [],
   "source": [
    "X = list(버스['X좌표']) + list(지하철['경도']) + list(주차장['경도']) + list(주택['위도'])     # 주택 위도 경도 이름 바뀜\n",
    "Y = list(버스['Y좌표']) + list(지하철['위도']) + list(주차장['위도']) + list(주택['경도'])"
   ]
  },
  {
   "cell_type": "code",
   "execution_count": 93,
   "metadata": {},
   "outputs": [
    {
     "name": "stdout",
     "output_type": "stream",
     "text": [
      "(133, 2)\n"
     ]
    },
    {
     "data": {
      "text/plain": [
       "array([[127.00526271,  37.50633499],\n",
       "       [126.99580825,  37.50345516]])"
      ]
     },
     "execution_count": 93,
     "metadata": {},
     "output_type": "execute_result"
    }
   ],
   "source": [
    "points = np.array([list(i) for i in zip(X, Y)])\n",
    "print(points.shape)\n",
    "points[:2]"
   ]
  },
  {
   "cell_type": "code",
   "execution_count": 94,
   "metadata": {},
   "outputs": [],
   "source": [
    "전체w = points.shape[0]\n",
    "버스w = 버스.shape[0]\n",
    "지하철w = 지하철.shape[0]\n",
    "주차장w = 주차장.shape[0]\n",
    "주택w = 주택.shape[0]"
   ]
  },
  {
   "cell_type": "code",
   "execution_count": 95,
   "metadata": {},
   "outputs": [],
   "source": [
    "m1 = (전체w-버스w)/전체w * 0.278 \n",
    "m2 = (전체w-지하철w)/전체w * 0.136 \n",
    "m3 = (전체w-주차장w)/전체w * 0.193 \n",
    "m4 = (전체w-주택w)/전체w * 0.392 "
   ]
  },
  {
   "cell_type": "code",
   "execution_count": 96,
   "metadata": {},
   "outputs": [
    {
     "name": "stdout",
     "output_type": "stream",
     "text": [
      "  Number of points 133\n",
      "  K 3\n",
      "  Radius 300\n",
      "----- Output -----\n",
      "  Running time : 0.016030550003051758 seconds\n",
      "  Optimal coverage points: 1.16645\n"
     ]
    },
    {
     "data": {
      "text/plain": [
       "array([[126.991238,  37.500712],\n",
       "       [126.986158,  37.500349],\n",
       "       [126.987332,  37.504209]])"
      ]
     },
     "execution_count": 96,
     "metadata": {},
     "output_type": "execute_result"
    }
   ],
   "source": [
    "opts_sites, mobjVal = mclp3(버스_points, 지하철_points, 주차장_points, 주택_points, points, 3, 300)\n",
    "opts_sites"
   ]
  },
  {
   "cell_type": "code",
   "execution_count": 97,
   "metadata": {},
   "outputs": [],
   "source": [
    "수요지점 = pd.DataFrame(points, columns=['경도','위도'])\n",
    "수요지점.to_csv('./data/반포본동_수요지점.csv', index=False, encoding='cp949')\n",
    "\n",
    "후보지 = pd.DataFrame(opts_sites, columns=['경도','위도'])\n",
    "후보지.to_csv('./data/반포본동_후보지.csv', index=False, encoding='cp949')\n",
    "\n",
    "버스_수요지점 = pd.DataFrame(버스_points, columns=['경도','위도'])\n",
    "버스_수요지점.to_csv('./data/반포본동_버스수요지점.csv', index=False, encoding='cp949')\n",
    "\n",
    "지하철_수요지점 = pd.DataFrame(지하철_points, columns=['경도','위도'])\n",
    "지하철_수요지점.to_csv('./data/반포본동_지하철수요지점.csv', index=False, encoding='cp949')\n",
    "\n",
    "주차장_수요지점 = pd.DataFrame(주차장_points, columns=['경도','위도'])\n",
    "주차장_수요지점.to_csv('./data/반포본동_주차장수요지점.csv', index=False, encoding='cp949')\n",
    "\n",
    "주택_수요지점 = pd.DataFrame(주택_points, columns=['경도','위도'])\n",
    "주택_수요지점.to_csv('./data/반포본동_주택수요지점.csv', index=False, encoding='cp949')"
   ]
  },
  {
   "cell_type": "code",
   "execution_count": null,
   "metadata": {},
   "outputs": [],
   "source": []
  }
 ],
 "metadata": {
  "kernelspec": {
   "display_name": "Python 3",
   "language": "python",
   "name": "python3"
  },
  "language_info": {
   "codemirror_mode": {
    "name": "ipython",
    "version": 3
   },
   "file_extension": ".py",
   "mimetype": "text/x-python",
   "name": "python",
   "nbconvert_exporter": "python",
   "pygments_lexer": "ipython3",
   "version": "3.8.3"
  },
  "toc": {
   "base_numbering": 1,
   "nav_menu": {},
   "number_sections": false,
   "sideBar": false,
   "skip_h1_title": false,
   "title_cell": "Table of Contents",
   "title_sidebar": "Contents",
   "toc_cell": true,
   "toc_position": {},
   "toc_section_display": true,
   "toc_window_display": false
  }
 },
 "nbformat": 4,
 "nbformat_minor": 2
}
