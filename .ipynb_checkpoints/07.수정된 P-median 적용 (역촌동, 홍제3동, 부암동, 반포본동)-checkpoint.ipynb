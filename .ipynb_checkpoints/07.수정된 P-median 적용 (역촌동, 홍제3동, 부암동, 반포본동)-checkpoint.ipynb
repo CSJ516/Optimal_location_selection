{
 "cells": [
  {
   "cell_type": "markdown",
   "metadata": {
    "toc": true
   },
   "source": [
    "<h1>Table of Contents<span class=\"tocSkip\"></span></h1>\n",
    "<div class=\"toc\"><ul class=\"toc-item\"><li><span><a href=\"#1.-역촌동\" data-toc-modified-id=\"1.-역촌동-1\">1. 역촌동</a></span><ul class=\"toc-item\"><li><span><a href=\"#백련,-대조어린이공원,-자투리(녹번)마을마당\" data-toc-modified-id=\"백련,-대조어린이공원,-자투리(녹번)마을마당-1.1\">백련, 대조어린이공원, 자투리(녹번)마을마당</a></span></li></ul></li><li><span><a href=\"#2.-홍제3동\" data-toc-modified-id=\"2.-홍제3동-2\">2. 홍제3동</a></span><ul class=\"toc-item\"><li><span><a href=\"#홍제교-좌안-상류-간이운동장,-홍제근린공원,-주민센터\" data-toc-modified-id=\"홍제교-좌안-상류-간이운동장,-홍제근린공원,-주민센터-2.1\">홍제교 좌안 상류 간이운동장, 홍제근린공원, 주민센터</a></span></li></ul></li><li><span><a href=\"#3.-부암동\" data-toc-modified-id=\"3.-부암동-3\">3. 부암동</a></span><ul class=\"toc-item\"><li><span><a href=\"#홍제천2체육시설\" data-toc-modified-id=\"홍제천2체육시설-3.1\">홍제천2체육시설</a></span></li></ul></li><li><span><a href=\"#4.-반포본동\" data-toc-modified-id=\"4.-반포본동-4\">4. 반포본동</a></span><ul class=\"toc-item\"><li><span><a href=\"#푸른공원,-반포주공,-초롱\" data-toc-modified-id=\"푸른공원,-반포주공,-초롱-4.1\">푸른공원, 반포주공, 초롱</a></span></li></ul></li></ul></div>"
   ]
  },
  {
   "cell_type": "code",
   "execution_count": 1,
   "metadata": {},
   "outputs": [],
   "source": [
    "import numpy as np\n",
    "import pandas as pd\n",
    "from haversine import haversine"
   ]
  },
  {
   "cell_type": "markdown",
   "metadata": {},
   "source": [
    "## 1. 역촌동"
   ]
  },
  {
   "cell_type": "code",
   "execution_count": 2,
   "metadata": {},
   "outputs": [],
   "source": [
    "입지후보지 = pd.read_csv('./data/최종입지선정후보군.csv', encoding='EUC-KR')\n",
    "입지후보지 = 입지후보지[입지후보지['행정동'] == '역촌동']\n",
    "후보지_points = np.array([list(i) for i in zip(입지후보지['x좌표'], 입지후보지['y좌표'])])\n",
    "\n",
    "버스 = pd.read_csv('./data/역촌동_버스정류장.csv')\n",
    "버스_points = np.array([list(i) for i in zip(버스['X좌표'], 버스['Y좌표'])])\n",
    "\n",
    "지하철 = pd.read_csv('./data/역촌동_지하철역.csv', encoding='UTF-8', index_col=0)\n",
    "지하철_points = np.array([list(i) for i in zip(지하철['경도'], 지하철['위도'])])\n",
    "\n",
    "주차장 = pd.read_csv('./data/역촌동_주차장.csv', encoding='UTF-8', index_col=0)\n",
    "주차장_points = np.array([list(i) for i in zip(주차장['경도'], 주차장['위도'])])\n",
    "\n",
    "주택 = pd.read_csv('./data/역촌동_주택.csv', encoding='UTF-8', index_col=0)\n",
    "주택_points = np.array([list(i) for i in zip(주택['경도'], 주택['위도'])])"
   ]
  },
  {
   "cell_type": "code",
   "execution_count": 3,
   "metadata": {},
   "outputs": [
    {
     "name": "stdout",
     "output_type": "stream",
     "text": [
      "(236, 2)\n"
     ]
    },
    {
     "data": {
      "text/plain": [
       "array([[126.93498401,  37.60242665],\n",
       "       [126.92806944,  37.61240306]])"
      ]
     },
     "execution_count": 3,
     "metadata": {},
     "output_type": "execute_result"
    }
   ],
   "source": [
    "X = list(버스['X좌표']) + list(지하철['경도']) + list(주차장['경도']) + list(주택['경도'])\n",
    "Y = list(버스['Y좌표']) + list(지하철['위도']) + list(주차장['위도']) + list(주택['위도'])\n",
    "points = np.array([list(i) for i in zip(X, Y)])\n",
    "print(points.shape)\n",
    "points[:2]"
   ]
  },
  {
   "cell_type": "code",
   "execution_count": 4,
   "metadata": {},
   "outputs": [],
   "source": [
    "전체w = points.shape[0]\n",
    "버스w = 버스.shape[0]\n",
    "지하철w = 지하철.shape[0]\n",
    "주차장w = 주차장.shape[0]\n",
    "주택w = 주택.shape[0]\n",
    "\n",
    "# 통행수단별 선호도에 대한 가중치 * 데이터 불균형 해소를 위한 가중치\n",
    "\n",
    "# 통행수단별 선호도에 대한 가중치는 통행수단별 이용률에 따라 AHP 분석을 기반으로 도출\n",
    "# 데이터 불균형 해소를 위한 가중치는 (전체수요지점수 - 해당수요지점수) / 전체수요지점수\n",
    "\n",
    "m1 = 0.278 * (전체w-버스w) / 전체w \n",
    "m2 = 0.193 * (전체w-지하철w) / 전체w \n",
    "m3 = 0.136 * (전체w-주차장w) / 전체w\n",
    "m4 = 0.392 * (전체w-주택w) / 전체w"
   ]
  },
  {
   "cell_type": "code",
   "execution_count": 5,
   "metadata": {},
   "outputs": [],
   "source": [
    "def pmedian(후보지_points, 버스_points, 지하철_points, 주차장_points, 주택_points):\n",
    "    \n",
    "    ### 버스\n",
    "    havers1 = []\n",
    "    for i in 후보지_points:\n",
    "        site1 = []\n",
    "        for j in 버스_points:\n",
    "            site1.append(haversine(i,j)*1000)\n",
    "        havers1.append(site1)\n",
    "\n",
    "    location = list(입지후보지['시설명'])\n",
    "    location1 = list(버스['정류소명'])\n",
    "\n",
    "    havers_D1 = dict(zip(location, [dict(zip(location1, i)) for i in havers1]))\n",
    "    D1 = pd.DataFrame(havers_D1)\n",
    "    \n",
    "    최소값 = list(D1.min(axis=1))\n",
    "\n",
    "    # 최단거리인 경우 가중치 부여, 아니면 0\n",
    "    idx = D1.index\n",
    "    col = D1.columns\n",
    "    lidx = len(idx)\n",
    "    lcol = len(col)\n",
    "\n",
    "    for i in range(lidx):\n",
    "        for j in range(lcol):\n",
    "            if D1.loc[idx[i], col[j]] == 최소값[i]:\n",
    "                D1.loc[idx[i], col[j]] = m1\n",
    "            else:\n",
    "                D1.loc[idx[i], col[j]] = 0\n",
    "    \n",
    "    \n",
    "    ### 지하철\n",
    "    havers2 = []\n",
    "    for i in 후보지_points:\n",
    "        site2 = []\n",
    "        for j in 지하철_points:\n",
    "            site2.append(haversine(i,j)*1000)\n",
    "        havers2.append(site2)\n",
    "\n",
    "    location2 = list(지하철['전철역명'])\n",
    "\n",
    "    havers_D2 = dict(zip(location, [dict(zip(location2, i)) for i in havers2]))\n",
    "    D2 = pd.DataFrame(havers_D2)\n",
    "    \n",
    "    최소값 = list(D2.min(axis=1))\n",
    "\n",
    "    idx = D2.index\n",
    "    col = D2.columns\n",
    "    lidx = len(idx)\n",
    "    lcol = len(col)\n",
    "\n",
    "    for i in range(lidx):\n",
    "        for j in range(lcol):\n",
    "            if D2.loc[idx[i], col[j]] == 최소값[i]:\n",
    "                D2.loc[idx[i], col[j]] = m2\n",
    "            else:\n",
    "                D2.loc[idx[i], col[j]] = 0\n",
    "                \n",
    "            \n",
    "    ### 주차장\n",
    "    havers3 = []\n",
    "    for i in 후보지_points:\n",
    "        site3 = []\n",
    "        for j in 주차장_points:\n",
    "            site3.append(haversine(i,j)*1000)\n",
    "        havers3.append(site3)\n",
    "\n",
    "    location3 = list(주차장['주차장이름'])\n",
    "\n",
    "    havers_D3 = dict(zip(location, [dict(zip(location3, i)) for i in havers3]))\n",
    "    D3 = pd.DataFrame(havers_D3)\n",
    "    \n",
    "    최소값 = list(D3.min(axis=1))\n",
    "\n",
    "    idx = D3.index\n",
    "    col = D3.columns\n",
    "    lidx = len(idx)\n",
    "    lcol = len(col)\n",
    "\n",
    "    for i in range(lidx):\n",
    "        for j in range(lcol):\n",
    "            if D3.loc[idx[i], col[j]] == 최소값[i]:\n",
    "                D3.loc[idx[i], col[j]] = m3\n",
    "            else:\n",
    "                D3.loc[idx[i], col[j]] = 0\n",
    "             \n",
    "                 \n",
    "    ### 주택\n",
    "    havers4 = []\n",
    "    for i in 후보지_points:\n",
    "        site4 = []\n",
    "        for j in 주택_points:\n",
    "            site4.append(haversine(i,j)*1000)\n",
    "        havers4.append(site4)\n",
    "\n",
    "    location4 = list(주택['단지명'])\n",
    "\n",
    "    havers_D4 = dict(zip(location, [dict(zip(location4, i)) for i in havers4]))\n",
    "    D4 = pd.DataFrame(havers_D4)\n",
    "    \n",
    "    최소값 = list(D4.min(axis=1))\n",
    "\n",
    "    idx = D4.index\n",
    "    col = D4.columns\n",
    "    lidx = len(idx)\n",
    "    lcol = len(col)\n",
    "\n",
    "    for i in range(lidx):\n",
    "        for j in range(lcol):\n",
    "            if D4.loc[idx[i], col[j]] == 최소값[i]:\n",
    "                D4.loc[idx[i], col[j]] = m4\n",
    "            else:\n",
    "                D4.loc[idx[i], col[j]] = 0\n",
    "                \n",
    "    D_final = pd.concat([D1, D2, D3, D4])\n",
    "    print(D_final.sum().sort_values(ascending=False))"
   ]
  },
  {
   "cell_type": "code",
   "execution_count": 6,
   "metadata": {},
   "outputs": [
    {
     "name": "stdout",
     "output_type": "stream",
     "text": [
      "백  련           6.156703\n",
      "대조어린이공원        4.727839\n",
      "자투리(녹번)마을마당    3.505025\n",
      "길마어린이공원        1.764364\n",
      "궁말어린이공원        1.375521\n",
      "역말어린이공원        1.088983\n",
      "신  사           0.096593\n",
      "호연어린이공원        0.048297\n",
      "연서어린이공원        0.048297\n",
      "dtype: float64\n"
     ]
    }
   ],
   "source": [
    "pmedian(후보지_points, 버스_points, 지하철_points, 주차장_points, 주택_points)"
   ]
  },
  {
   "cell_type": "markdown",
   "metadata": {},
   "source": [
    "### 백련, 대조어린이공원, 자투리(녹번)마을마당"
   ]
  },
  {
   "cell_type": "markdown",
   "metadata": {},
   "source": [
    "## 2. 홍제3동"
   ]
  },
  {
   "cell_type": "code",
   "execution_count": 7,
   "metadata": {},
   "outputs": [
    {
     "name": "stdout",
     "output_type": "stream",
     "text": [
      "(180, 2)\n"
     ]
    },
    {
     "data": {
      "text/plain": [
       "array([[126.93498401,  37.60242665],\n",
       "       [126.93996208,  37.59528039]])"
      ]
     },
     "execution_count": 7,
     "metadata": {},
     "output_type": "execute_result"
    }
   ],
   "source": [
    "입지후보지 = pd.read_csv('./data/최종입지선정후보군.csv', encoding='EUC-KR')\n",
    "입지후보지 = 입지후보지[입지후보지['행정동'] == '홍제3동']\n",
    "후보지_points = np.array([list(i) for i in zip(입지후보지['x좌표'], 입지후보지['y좌표'])])\n",
    "\n",
    "버스 = pd.read_csv('./data/홍제3동_버스정류장.csv')\n",
    "버스_points = np.array([list(i) for i in zip(버스['X좌표'], 버스['Y좌표'])])\n",
    "\n",
    "지하철 = pd.read_csv('./data/홍제3동_지하철역.csv', encoding='UTF-8', index_col=0)\n",
    "지하철_points = np.array([list(i) for i in zip(지하철['경도'], 지하철['위도'])])\n",
    "\n",
    "주차장 = pd.read_csv('./data/홍제3동_주차장.csv', encoding='UTF-8', index_col=0)\n",
    "주차장_points = np.array([list(i) for i in zip(주차장['경도'], 주차장['위도'])])\n",
    "\n",
    "주택 = pd.read_csv('./data/홍제3동_주택.csv', encoding='UTF-8', index_col=0)\n",
    "주택_points = np.array([list(i) for i in zip(주택['경도'], 주택['위도'])])\n",
    "\n",
    "X = list(버스['X좌표']) + list(지하철['경도']) + list(주차장['경도']) + list(주택['경도'])\n",
    "Y = list(버스['Y좌표']) + list(지하철['위도']) + list(주차장['위도']) + list(주택['위도'])\n",
    "points = np.array([list(i) for i in zip(X, Y)])\n",
    "print(points.shape)\n",
    "points[:2]"
   ]
  },
  {
   "cell_type": "code",
   "execution_count": 8,
   "metadata": {},
   "outputs": [],
   "source": [
    "전체w = points.shape[0]\n",
    "버스w = 버스.shape[0]\n",
    "지하철w = 지하철.shape[0]\n",
    "주차장w = 주차장.shape[0]\n",
    "주택w = 주택.shape[0]\n",
    "\n",
    "m1 = 0.278 * (전체w-버스w) / 전체w \n",
    "m2 = 0.193 * (전체w-지하철w) / 전체w \n",
    "m3 = 0.136 * (전체w-주차장w) / 전체w\n",
    "m4 = 0.392 * (전체w-주택w) / 전체w"
   ]
  },
  {
   "cell_type": "code",
   "execution_count": 9,
   "metadata": {},
   "outputs": [
    {
     "name": "stdout",
     "output_type": "stream",
     "text": [
      "홍제교 좌안 상류 간이운동장    7.216122\n",
      "홍제근린공원             4.554156\n",
      "주민센터               1.623428\n",
      "포방교 상류 간이운동장       1.254022\n",
      "문화촌어린이공원           1.020822\n",
      "홍제게이트볼장            0.178067\n",
      "홍제동                0.176067\n",
      "불천어린이공원            0.117378\n",
      "문화소공원              0.058689\n",
      "홍제배드민턴장            0.058689\n",
      "홍제농구장              0.058689\n",
      "홍제 야외운동시설          0.058689\n",
      "dtype: float64\n"
     ]
    }
   ],
   "source": [
    "pmedian(후보지_points, 버스_points, 지하철_points, 주차장_points, 주택_points)"
   ]
  },
  {
   "cell_type": "markdown",
   "metadata": {},
   "source": [
    "### 홍제교 좌안 상류 간이운동장, 홍제근린공원, 주민센터"
   ]
  },
  {
   "cell_type": "markdown",
   "metadata": {},
   "source": [
    "## 3. 부암동"
   ]
  },
  {
   "cell_type": "code",
   "execution_count": 10,
   "metadata": {},
   "outputs": [
    {
     "name": "stdout",
     "output_type": "stream",
     "text": [
      "(147, 2)\n"
     ]
    },
    {
     "data": {
      "text/plain": [
       "array([[126.9443495 ,  37.5884786 ],\n",
       "       [126.94289344,  37.5919094 ]])"
      ]
     },
     "execution_count": 10,
     "metadata": {},
     "output_type": "execute_result"
    }
   ],
   "source": [
    "입지후보지 = pd.read_csv('./data/최종입지선정후보군.csv', encoding='EUC-KR')\n",
    "입지후보지 = 입지후보지[입지후보지['행정동'] == '부암동']\n",
    "후보지_points = np.array([list(i) for i in zip(입지후보지['x좌표'], 입지후보지['y좌표'])])\n",
    "\n",
    "버스 = pd.read_csv('./data/부암동_버스정류장.csv')\n",
    "버스_points = np.array([list(i) for i in zip(버스['X좌표'], 버스['Y좌표'])])\n",
    "\n",
    "지하철 = pd.read_csv('./data/부암동_지하철역.csv', encoding='UTF-8', index_col=0)\n",
    "지하철_points = np.array([list(i) for i in zip(지하철['경도'], 지하철['위도'])])\n",
    "\n",
    "주차장 = pd.read_csv('./data/부암동_주차장.csv', encoding='UTF-8', index_col=0)\n",
    "주차장_points = np.array([list(i) for i in zip(주차장['경도'], 주차장['위도'])])\n",
    "\n",
    "주택 = pd.read_csv('./data/부암동_주택.csv', encoding='UTF-8', index_col=0)\n",
    "주택_points = np.array([list(i) for i in zip(주택['경도'], 주택['위도'])])\n",
    "\n",
    "X = list(버스['X좌표']) + list(지하철['경도']) + list(주차장['경도']) + list(주택['경도'])\n",
    "Y = list(버스['Y좌표']) + list(지하철['위도']) + list(주차장['위도']) + list(주택['위도'])\n",
    "points = np.array([list(i) for i in zip(X, Y)])\n",
    "print(points.shape)\n",
    "points[:2]"
   ]
  },
  {
   "cell_type": "code",
   "execution_count": 11,
   "metadata": {},
   "outputs": [],
   "source": [
    "전체w = points.shape[0]\n",
    "버스w = 버스.shape[0]\n",
    "지하철w = 지하철.shape[0]\n",
    "주차장w = 주차장.shape[0]\n",
    "주택w = 주택.shape[0]\n",
    "\n",
    "m1 = 0.278 * (전체w-버스w) / 전체w \n",
    "m2 = 0.193 * (전체w-지하철w) / 전체w \n",
    "m3 = 0.136 * (전체w-주차장w) / 전체w\n",
    "m4 = 0.392 * (전체w-주택w) / 전체w"
   ]
  },
  {
   "cell_type": "code",
   "execution_count": 12,
   "metadata": {},
   "outputs": [
    {
     "name": "stdout",
     "output_type": "stream",
     "text": [
      "홍제천2체육시설       7.419095\n",
      "홍제천1체육시설       2.748993\n",
      "부암동청사주변체육시설    1.514639\n",
      "부암튼튼공원         0.656170\n",
      "dtype: float64\n"
     ]
    }
   ],
   "source": [
    "pmedian(후보지_points, 버스_points, 지하철_points, 주차장_points, 주택_points)"
   ]
  },
  {
   "cell_type": "markdown",
   "metadata": {},
   "source": [
    "### 홍제천2체육시설"
   ]
  },
  {
   "cell_type": "markdown",
   "metadata": {},
   "source": [
    "## 4. 반포본동"
   ]
  },
  {
   "cell_type": "code",
   "execution_count": 13,
   "metadata": {},
   "outputs": [
    {
     "name": "stdout",
     "output_type": "stream",
     "text": [
      "(133, 2)\n"
     ]
    },
    {
     "data": {
      "text/plain": [
       "array([[127.00526271,  37.50633499],\n",
       "       [126.99580825,  37.50345516]])"
      ]
     },
     "execution_count": 13,
     "metadata": {},
     "output_type": "execute_result"
    }
   ],
   "source": [
    "입지후보지 = pd.read_csv('./data/최종입지선정후보군.csv', encoding='EUC-KR')\n",
    "입지후보지 = 입지후보지[입지후보지['행정동'] == '반포본동']\n",
    "후보지_points = np.array([list(i) for i in zip(입지후보지['x좌표'], 입지후보지['y좌표'])])\n",
    "\n",
    "버스 = pd.read_csv('./data/반포본동_버스정류장.csv')\n",
    "버스_points = np.array([list(i) for i in zip(버스['X좌표'], 버스['Y좌표'])])\n",
    "\n",
    "지하철 = pd.read_csv('./data/반포본동_지하철역.csv', encoding='UTF-8', index_col=0)\n",
    "지하철_points = np.array([list(i) for i in zip(지하철['경도'], 지하철['위도'])])\n",
    "\n",
    "주차장 = pd.read_csv('./data/반포본동_주차장.csv', encoding='UTF-8', index_col=0)\n",
    "주차장_points = np.array([list(i) for i in zip(주차장['경도'], 주차장['위도'])])\n",
    "\n",
    "주택 = pd.read_csv('./data/반포본동_주택.csv', encoding='UTF-8', index_col=0)\n",
    "주택_points = np.array([list(i) for i in zip(주택['경도'], 주택['위도'])])\n",
    "\n",
    "X = list(버스['X좌표']) + list(지하철['경도']) + list(주차장['경도']) + list(주택['경도'])\n",
    "Y = list(버스['Y좌표']) + list(지하철['위도']) + list(주차장['위도']) + list(주택['위도'])\n",
    "points = np.array([list(i) for i in zip(X, Y)])\n",
    "print(points.shape)\n",
    "points[:2]"
   ]
  },
  {
   "cell_type": "code",
   "execution_count": 14,
   "metadata": {},
   "outputs": [],
   "source": [
    "전체w = points.shape[0]\n",
    "버스w = 버스.shape[0]\n",
    "지하철w = 지하철.shape[0]\n",
    "주차장w = 주차장.shape[0]\n",
    "주택w = 주택.shape[0]\n",
    "\n",
    "m1 = 0.278 * (전체w-버스w) / 전체w \n",
    "m2 = 0.193 * (전체w-지하철w) / 전체w \n",
    "m3 = 0.136 * (전체w-주차장w) / 전체w\n",
    "m4 = 0.392 * (전체w-주택w) / 전체w"
   ]
  },
  {
   "cell_type": "code",
   "execution_count": 15,
   "metadata": {},
   "outputs": [
    {
     "name": "stdout",
     "output_type": "stream",
     "text": [
      "푸른공원        5.794782\n",
      "반포주공        3.587707\n",
      "초  롱        1.336368\n",
      "장미공원        0.936549\n",
      "반포4동주민센터    0.399820\n",
      "나  리        0.302165\n",
      "푸  른        0.142135\n",
      "만  남        0.000000\n",
      "반포본동주민센터    0.000000\n",
      "한수공원        0.000000\n",
      "dtype: float64\n"
     ]
    }
   ],
   "source": [
    "pmedian(후보지_points, 버스_points, 지하철_points, 주차장_points, 주택_points)"
   ]
  },
  {
   "cell_type": "markdown",
   "metadata": {},
   "source": [
    "### 푸른공원, 반포주공, 초롱"
   ]
  },
  {
   "cell_type": "code",
   "execution_count": null,
   "metadata": {},
   "outputs": [],
   "source": []
  }
 ],
 "metadata": {
  "kernelspec": {
   "display_name": "Python 3",
   "language": "python",
   "name": "python3"
  },
  "language_info": {
   "codemirror_mode": {
    "name": "ipython",
    "version": 3
   },
   "file_extension": ".py",
   "mimetype": "text/x-python",
   "name": "python",
   "nbconvert_exporter": "python",
   "pygments_lexer": "ipython3",
   "version": "3.8.3"
  },
  "toc": {
   "base_numbering": 1,
   "nav_menu": {},
   "number_sections": false,
   "sideBar": false,
   "skip_h1_title": false,
   "title_cell": "Table of Contents",
   "title_sidebar": "Contents",
   "toc_cell": true,
   "toc_position": {},
   "toc_section_display": true,
   "toc_window_display": false
  }
 },
 "nbformat": 4,
 "nbformat_minor": 2
}
