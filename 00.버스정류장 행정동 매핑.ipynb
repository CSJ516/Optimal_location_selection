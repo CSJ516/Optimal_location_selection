{
 "cells": [
  {
   "cell_type": "markdown",
   "metadata": {
    "toc": true
   },
   "source": [
    "<h1>Table of Contents<span class=\"tocSkip\"></span></h1>\n",
    "<div class=\"toc\"><ul class=\"toc-item\"><li><span><a href=\"#1.-행정동-/-법정동-가져올-좌표-리스트-생성\" data-toc-modified-id=\"1.-행정동-/-법정동-가져올-좌표-리스트-생성-1\">1. 행정동 / 법정동 가져올 좌표 리스트 생성</a></span></li><li><span><a href=\"#2.-카카오-API-활용---행정동-/-법정동-검색\" data-toc-modified-id=\"2.-카카오-API-활용---행정동-/-법정동-검색-2\">2. 카카오 API 활용 - 행정동 / 법정동 검색</a></span></li></ul></div>"
   ]
  },
  {
   "cell_type": "code",
   "execution_count": 1,
   "metadata": {},
   "outputs": [],
   "source": [
    "import requests\n",
    "from urllib.parse import urlparse\n",
    "import numpy as np\n",
    "import pandas as pd\n",
    "import geopandas\n",
    "import re\n",
    "\n",
    "import warnings\n",
    "warnings.filterwarnings(action='ignore')"
   ]
  },
  {
   "cell_type": "code",
   "execution_count": 2,
   "metadata": {},
   "outputs": [
    {
     "name": "stdout",
     "output_type": "stream",
     "text": [
      "(8063, 4)\n"
     ]
    },
    {
     "data": {
      "text/html": [
       "<div>\n",
       "<style scoped>\n",
       "    .dataframe tbody tr th:only-of-type {\n",
       "        vertical-align: middle;\n",
       "    }\n",
       "\n",
       "    .dataframe tbody tr th {\n",
       "        vertical-align: top;\n",
       "    }\n",
       "\n",
       "    .dataframe thead th {\n",
       "        text-align: right;\n",
       "    }\n",
       "</style>\n",
       "<table border=\"1\" class=\"dataframe\">\n",
       "  <thead>\n",
       "    <tr style=\"text-align: right;\">\n",
       "      <th></th>\n",
       "      <th>정류소명</th>\n",
       "      <th>X좌표</th>\n",
       "      <th>Y좌표</th>\n",
       "      <th>정류버스수</th>\n",
       "    </tr>\n",
       "  </thead>\n",
       "  <tbody>\n",
       "    <tr>\n",
       "      <th>0</th>\n",
       "      <td>서울역버스환승센터</td>\n",
       "      <td>126.972773</td>\n",
       "      <td>37.555475</td>\n",
       "      <td>58</td>\n",
       "    </tr>\n",
       "    <tr>\n",
       "      <th>1</th>\n",
       "      <td>현대아파트</td>\n",
       "      <td>127.052861</td>\n",
       "      <td>37.482276</td>\n",
       "      <td>55</td>\n",
       "    </tr>\n",
       "    <tr>\n",
       "      <th>2</th>\n",
       "      <td>노량진역</td>\n",
       "      <td>126.944708</td>\n",
       "      <td>37.513886</td>\n",
       "      <td>52</td>\n",
       "    </tr>\n",
       "    <tr>\n",
       "      <th>3</th>\n",
       "      <td>연희104고지앞.구성산회관</td>\n",
       "      <td>126.925786</td>\n",
       "      <td>37.566360</td>\n",
       "      <td>52</td>\n",
       "    </tr>\n",
       "    <tr>\n",
       "      <th>4</th>\n",
       "      <td>미아사거리역</td>\n",
       "      <td>127.030002</td>\n",
       "      <td>37.613765</td>\n",
       "      <td>48</td>\n",
       "    </tr>\n",
       "  </tbody>\n",
       "</table>\n",
       "</div>"
      ],
      "text/plain": [
       "             정류소명         X좌표        Y좌표  정류버스수\n",
       "0       서울역버스환승센터  126.972773  37.555475     58\n",
       "1           현대아파트  127.052861  37.482276     55\n",
       "2            노량진역  126.944708  37.513886     52\n",
       "3  연희104고지앞.구성산회관  126.925786  37.566360     52\n",
       "4          미아사거리역  127.030002  37.613765     48"
      ]
     },
     "execution_count": 2,
     "metadata": {},
     "output_type": "execute_result"
    }
   ],
   "source": [
    "버스 = pd.read_csv('./data/서울시_버스정류장.csv', encoding='cp949')\n",
    "print(버스.shape)\n",
    "버스.head()"
   ]
  },
  {
   "cell_type": "markdown",
   "metadata": {},
   "source": [
    "## 1. 행정동 / 법정동 가져올 좌표 리스트 생성"
   ]
  },
  {
   "cell_type": "code",
   "execution_count": 3,
   "metadata": {},
   "outputs": [
    {
     "data": {
      "text/plain": [
       "array([[126.97277266,  37.55547526],\n",
       "       [127.05286142,  37.48227641],\n",
       "       [126.94470755,  37.51388591],\n",
       "       ...,\n",
       "       [127.07652825,  37.58842234],\n",
       "       [127.08499787,  37.58768876],\n",
       "       [127.09420247,  37.58783786]])"
      ]
     },
     "execution_count": 3,
     "metadata": {},
     "output_type": "execute_result"
    }
   ],
   "source": [
    "XY = np.array([list(i) for i in zip(버스['X좌표'], 버스['Y좌표'])])\n",
    "XY"
   ]
  },
  {
   "cell_type": "markdown",
   "metadata": {},
   "source": [
    "## 2. 카카오 API 활용 - 행정동 / 법정동 검색"
   ]
  },
  {
   "cell_type": "code",
   "execution_count": 17,
   "metadata": {},
   "outputs": [],
   "source": [
    "# 행정동 / 법정동 검색 함수 정의\n",
    "def region_name(xy_list):\n",
    "    url = f\"https://dapi.kakao.com/v2/local/geo/coord2regioncode.json?x={xy_list[0]}&y={xy_list[1]}\"\n",
    "    result = requests.get(urlparse(url).geturl(),\n",
    "                          headers={\"Authorization\":\"KakaoAK ****\"})\n",
    "    json_obj = result.json()\n",
    "    global val   # 전역 변수를 지역 범위에서 사용하고 싶을 경우\n",
    "    for document in json_obj['documents']:\n",
    "        # 값이 NoneType 일 경우의 오류 방지\n",
    "        try:\n",
    "            val = [document['region_type'], document['region_3depth_name'], document['x'], document['y']]\n",
    "        except:\n",
    "            val = [0,0,0,0]\n",
    "    return val"
   ]
  },
  {
   "cell_type": "code",
   "execution_count": 19,
   "metadata": {},
   "outputs": [
    {
     "data": {
      "text/plain": [
       "['H', '회현동', 126.97935667015034, 37.55729358571407]"
      ]
     },
     "execution_count": 19,
     "metadata": {},
     "output_type": "execute_result"
    }
   ],
   "source": [
    "region_name([126.972773, 37.555475])"
   ]
  },
  {
   "cell_type": "code",
   "execution_count": 22,
   "metadata": {},
   "outputs": [],
   "source": [
    "# 행정동 / 법정동 검색 함수 반복 적용\n",
    "list1 = []\n",
    "for i in XY:\n",
    "    list1.append(region_name(i))"
   ]
  },
  {
   "cell_type": "code",
   "execution_count": 23,
   "metadata": {},
   "outputs": [
    {
     "data": {
      "text/html": [
       "<div>\n",
       "<style scoped>\n",
       "    .dataframe tbody tr th:only-of-type {\n",
       "        vertical-align: middle;\n",
       "    }\n",
       "\n",
       "    .dataframe tbody tr th {\n",
       "        vertical-align: top;\n",
       "    }\n",
       "\n",
       "    .dataframe thead th {\n",
       "        text-align: right;\n",
       "    }\n",
       "</style>\n",
       "<table border=\"1\" class=\"dataframe\">\n",
       "  <thead>\n",
       "    <tr style=\"text-align: right;\">\n",
       "      <th></th>\n",
       "      <th>H/B</th>\n",
       "      <th>행정동</th>\n",
       "      <th>행정동_경도</th>\n",
       "      <th>행정동_위도</th>\n",
       "    </tr>\n",
       "  </thead>\n",
       "  <tbody>\n",
       "    <tr>\n",
       "      <th>0</th>\n",
       "      <td>H</td>\n",
       "      <td>회현동</td>\n",
       "      <td>126.979357</td>\n",
       "      <td>37.557294</td>\n",
       "    </tr>\n",
       "    <tr>\n",
       "      <th>1</th>\n",
       "      <td>H</td>\n",
       "      <td>개포4동</td>\n",
       "      <td>127.051622</td>\n",
       "      <td>37.478857</td>\n",
       "    </tr>\n",
       "    <tr>\n",
       "      <th>2</th>\n",
       "      <td>H</td>\n",
       "      <td>노량진1동</td>\n",
       "      <td>126.942016</td>\n",
       "      <td>37.512307</td>\n",
       "    </tr>\n",
       "    <tr>\n",
       "      <th>3</th>\n",
       "      <td>H</td>\n",
       "      <td>연희동</td>\n",
       "      <td>126.935231</td>\n",
       "      <td>37.573910</td>\n",
       "    </tr>\n",
       "    <tr>\n",
       "      <th>4</th>\n",
       "      <td>H</td>\n",
       "      <td>송천동</td>\n",
       "      <td>127.023868</td>\n",
       "      <td>37.618308</td>\n",
       "    </tr>\n",
       "  </tbody>\n",
       "</table>\n",
       "</div>"
      ],
      "text/plain": [
       "  H/B    행정동      행정동_경도     행정동_위도\n",
       "0   H    회현동  126.979357  37.557294\n",
       "1   H   개포4동  127.051622  37.478857\n",
       "2   H  노량진1동  126.942016  37.512307\n",
       "3   H    연희동  126.935231  37.573910\n",
       "4   H    송천동  127.023868  37.618308"
      ]
     },
     "execution_count": 23,
     "metadata": {},
     "output_type": "execute_result"
    }
   ],
   "source": [
    "버스2 = pd.DataFrame(list1, columns=['H/B', '행정동', '행정동_경도', '행정동_위도'])\n",
    "버스2.head()"
   ]
  },
  {
   "cell_type": "code",
   "execution_count": 24,
   "metadata": {
    "scrolled": true
   },
   "outputs": [
    {
     "name": "stdout",
     "output_type": "stream",
     "text": [
      "(8063, 8)\n"
     ]
    },
    {
     "data": {
      "text/html": [
       "<div>\n",
       "<style scoped>\n",
       "    .dataframe tbody tr th:only-of-type {\n",
       "        vertical-align: middle;\n",
       "    }\n",
       "\n",
       "    .dataframe tbody tr th {\n",
       "        vertical-align: top;\n",
       "    }\n",
       "\n",
       "    .dataframe thead th {\n",
       "        text-align: right;\n",
       "    }\n",
       "</style>\n",
       "<table border=\"1\" class=\"dataframe\">\n",
       "  <thead>\n",
       "    <tr style=\"text-align: right;\">\n",
       "      <th></th>\n",
       "      <th>정류소명</th>\n",
       "      <th>X좌표</th>\n",
       "      <th>Y좌표</th>\n",
       "      <th>정류버스수</th>\n",
       "      <th>H/B</th>\n",
       "      <th>행정동</th>\n",
       "      <th>행정동_경도</th>\n",
       "      <th>행정동_위도</th>\n",
       "    </tr>\n",
       "  </thead>\n",
       "  <tbody>\n",
       "    <tr>\n",
       "      <th>0</th>\n",
       "      <td>서울역버스환승센터</td>\n",
       "      <td>126.972773</td>\n",
       "      <td>37.555475</td>\n",
       "      <td>58</td>\n",
       "      <td>H</td>\n",
       "      <td>회현동</td>\n",
       "      <td>126.979357</td>\n",
       "      <td>37.557294</td>\n",
       "    </tr>\n",
       "    <tr>\n",
       "      <th>1</th>\n",
       "      <td>현대아파트</td>\n",
       "      <td>127.052861</td>\n",
       "      <td>37.482276</td>\n",
       "      <td>55</td>\n",
       "      <td>H</td>\n",
       "      <td>개포4동</td>\n",
       "      <td>127.051622</td>\n",
       "      <td>37.478857</td>\n",
       "    </tr>\n",
       "    <tr>\n",
       "      <th>2</th>\n",
       "      <td>노량진역</td>\n",
       "      <td>126.944708</td>\n",
       "      <td>37.513886</td>\n",
       "      <td>52</td>\n",
       "      <td>H</td>\n",
       "      <td>노량진1동</td>\n",
       "      <td>126.942016</td>\n",
       "      <td>37.512307</td>\n",
       "    </tr>\n",
       "    <tr>\n",
       "      <th>3</th>\n",
       "      <td>연희104고지앞.구성산회관</td>\n",
       "      <td>126.925786</td>\n",
       "      <td>37.566360</td>\n",
       "      <td>52</td>\n",
       "      <td>H</td>\n",
       "      <td>연희동</td>\n",
       "      <td>126.935231</td>\n",
       "      <td>37.573910</td>\n",
       "    </tr>\n",
       "    <tr>\n",
       "      <th>4</th>\n",
       "      <td>미아사거리역</td>\n",
       "      <td>127.030002</td>\n",
       "      <td>37.613765</td>\n",
       "      <td>48</td>\n",
       "      <td>H</td>\n",
       "      <td>송천동</td>\n",
       "      <td>127.023868</td>\n",
       "      <td>37.618308</td>\n",
       "    </tr>\n",
       "  </tbody>\n",
       "</table>\n",
       "</div>"
      ],
      "text/plain": [
       "             정류소명         X좌표        Y좌표  정류버스수 H/B    행정동      행정동_경도  \\\n",
       "0       서울역버스환승센터  126.972773  37.555475     58   H    회현동  126.979357   \n",
       "1           현대아파트  127.052861  37.482276     55   H   개포4동  127.051622   \n",
       "2            노량진역  126.944708  37.513886     52   H  노량진1동  126.942016   \n",
       "3  연희104고지앞.구성산회관  126.925786  37.566360     52   H    연희동  126.935231   \n",
       "4          미아사거리역  127.030002  37.613765     48   H    송천동  127.023868   \n",
       "\n",
       "      행정동_위도  \n",
       "0  37.557294  \n",
       "1  37.478857  \n",
       "2  37.512307  \n",
       "3  37.573910  \n",
       "4  37.618308  "
      ]
     },
     "execution_count": 24,
     "metadata": {},
     "output_type": "execute_result"
    }
   ],
   "source": [
    "버스3 = pd.concat([버스, 버스2], axis=1)\n",
    "print(버스3.shape)\n",
    "버스3.head()"
   ]
  },
  {
   "cell_type": "code",
   "execution_count": 26,
   "metadata": {},
   "outputs": [
    {
     "data": {
      "text/plain": [
       "array(['H'], dtype=object)"
      ]
     },
     "execution_count": 26,
     "metadata": {},
     "output_type": "execute_result"
    }
   ],
   "source": [
    "버스3['H/B'].unique()     # 모두 행정동"
   ]
  },
  {
   "cell_type": "code",
   "execution_count": 28,
   "metadata": {},
   "outputs": [
    {
     "data": {
      "text/html": [
       "<div>\n",
       "<style scoped>\n",
       "    .dataframe tbody tr th:only-of-type {\n",
       "        vertical-align: middle;\n",
       "    }\n",
       "\n",
       "    .dataframe tbody tr th {\n",
       "        vertical-align: top;\n",
       "    }\n",
       "\n",
       "    .dataframe thead th {\n",
       "        text-align: right;\n",
       "    }\n",
       "</style>\n",
       "<table border=\"1\" class=\"dataframe\">\n",
       "  <thead>\n",
       "    <tr style=\"text-align: right;\">\n",
       "      <th></th>\n",
       "      <th>정류소명</th>\n",
       "      <th>X좌표</th>\n",
       "      <th>Y좌표</th>\n",
       "      <th>정류버스수</th>\n",
       "      <th>행정동</th>\n",
       "      <th>행정동_경도</th>\n",
       "      <th>행정동_위도</th>\n",
       "    </tr>\n",
       "  </thead>\n",
       "  <tbody>\n",
       "    <tr>\n",
       "      <th>0</th>\n",
       "      <td>서울역버스환승센터</td>\n",
       "      <td>126.972773</td>\n",
       "      <td>37.555475</td>\n",
       "      <td>58</td>\n",
       "      <td>회현동</td>\n",
       "      <td>126.979357</td>\n",
       "      <td>37.557294</td>\n",
       "    </tr>\n",
       "    <tr>\n",
       "      <th>1</th>\n",
       "      <td>현대아파트</td>\n",
       "      <td>127.052861</td>\n",
       "      <td>37.482276</td>\n",
       "      <td>55</td>\n",
       "      <td>개포4동</td>\n",
       "      <td>127.051622</td>\n",
       "      <td>37.478857</td>\n",
       "    </tr>\n",
       "    <tr>\n",
       "      <th>2</th>\n",
       "      <td>노량진역</td>\n",
       "      <td>126.944708</td>\n",
       "      <td>37.513886</td>\n",
       "      <td>52</td>\n",
       "      <td>노량진1동</td>\n",
       "      <td>126.942016</td>\n",
       "      <td>37.512307</td>\n",
       "    </tr>\n",
       "    <tr>\n",
       "      <th>3</th>\n",
       "      <td>연희104고지앞.구성산회관</td>\n",
       "      <td>126.925786</td>\n",
       "      <td>37.566360</td>\n",
       "      <td>52</td>\n",
       "      <td>연희동</td>\n",
       "      <td>126.935231</td>\n",
       "      <td>37.573910</td>\n",
       "    </tr>\n",
       "    <tr>\n",
       "      <th>4</th>\n",
       "      <td>미아사거리역</td>\n",
       "      <td>127.030002</td>\n",
       "      <td>37.613765</td>\n",
       "      <td>48</td>\n",
       "      <td>송천동</td>\n",
       "      <td>127.023868</td>\n",
       "      <td>37.618308</td>\n",
       "    </tr>\n",
       "  </tbody>\n",
       "</table>\n",
       "</div>"
      ],
      "text/plain": [
       "             정류소명         X좌표        Y좌표  정류버스수    행정동      행정동_경도     행정동_위도\n",
       "0       서울역버스환승센터  126.972773  37.555475     58    회현동  126.979357  37.557294\n",
       "1           현대아파트  127.052861  37.482276     55   개포4동  127.051622  37.478857\n",
       "2            노량진역  126.944708  37.513886     52  노량진1동  126.942016  37.512307\n",
       "3  연희104고지앞.구성산회관  126.925786  37.566360     52    연희동  126.935231  37.573910\n",
       "4          미아사거리역  127.030002  37.613765     48    송천동  127.023868  37.618308"
      ]
     },
     "execution_count": 28,
     "metadata": {},
     "output_type": "execute_result"
    }
   ],
   "source": [
    "버스3 = 버스3.drop('H/B', axis=1)\n",
    "버스3.head()"
   ]
  },
  {
   "cell_type": "code",
   "execution_count": 29,
   "metadata": {},
   "outputs": [],
   "source": [
    "버스3.to_csv('./data/서울시_버스정류장_행정동추가.csv', index=False)"
   ]
  },
  {
   "cell_type": "code",
   "execution_count": null,
   "metadata": {},
   "outputs": [],
   "source": []
  }
 ],
 "metadata": {
  "kernelspec": {
   "display_name": "Python 3",
   "language": "python",
   "name": "python3"
  },
  "language_info": {
   "codemirror_mode": {
    "name": "ipython",
    "version": 3
   },
   "file_extension": ".py",
   "mimetype": "text/x-python",
   "name": "python",
   "nbconvert_exporter": "python",
   "pygments_lexer": "ipython3",
   "version": "3.8.3"
  },
  "toc": {
   "base_numbering": 1,
   "nav_menu": {},
   "number_sections": false,
   "sideBar": false,
   "skip_h1_title": false,
   "title_cell": "Table of Contents",
   "title_sidebar": "Contents",
   "toc_cell": true,
   "toc_position": {},
   "toc_section_display": true,
   "toc_window_display": false
  }
 },
 "nbformat": 4,
 "nbformat_minor": 4
}
